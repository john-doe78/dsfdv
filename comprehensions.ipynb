{
 "cells": [
  {
   "cell_type": "markdown",
   "metadata": {},
   "source": [
    "# Comprehending Comprehensions\n",
    "\n",
    "[![comprehensions](https://files.catbox.moe/r36zt3.png)](https://www.youtube.com/watch?v=qMv1ZD2V1A4)"
   ]
  },
  {
   "cell_type": "code",
   "execution_count": 1,
   "metadata": {},
   "outputs": [
    {
     "data": {
      "text/plain": [
       "[0, 1, 4, 9, 16, 25, 36, 49, 64, 81]"
      ]
     },
     "execution_count": 1,
     "metadata": {},
     "output_type": "execute_result"
    }
   ],
   "source": [
    "# Have a list of integers and create a list of those integers squared\n",
    "numbers = range(10)\n",
    "\n",
    "squared = []\n",
    "for number in numbers:\n",
    "    squared.append(number ** 2)\n",
    "\n",
    "squared"
   ]
  },
  {
   "cell_type": "code",
   "execution_count": 2,
   "metadata": {},
   "outputs": [
    {
     "data": {
      "text/plain": [
       "[0, 1, 4, 9, 16, 25, 36, 49, 64, 81]"
      ]
     },
     "execution_count": 2,
     "metadata": {},
     "output_type": "execute_result"
    }
   ],
   "source": [
    "# same thing with list comprehension\n",
    "[number ** 2 for number in numbers]"
   ]
  },
  {
   "cell_type": "code",
   "execution_count": 3,
   "metadata": {},
   "outputs": [
    {
     "data": {
      "text/plain": [
       "[0, 1, 4, 9, 16, 25, 36, 49, 64, 81]"
      ]
     },
     "execution_count": 3,
     "metadata": {},
     "output_type": "execute_result"
    }
   ],
   "source": [
    "# much easier to write (and understand), if we pick it apart and write it on multiple lines.\n",
    "\n",
    "[number ** 2  # any valid py expression\n",
    "for number in numbers] # iteration"
   ]
  },
  {
   "cell_type": "markdown",
   "metadata": {},
   "source": [
    "## Comprehensions\n",
    "\n",
    "2 things for list comprehension\n",
    "\n",
    "* any valid expression\n",
    "* iteration (python loop)\n",
    "\n",
    "In comprehension the first thing that runs is loop, second thing is expression. The result of a list comprehension is a list. we have created a new list, we can pass it as an argument to a function, or assign it to a variable.\n",
    "\n",
    "The new list is the result of evaluating our expression on every element of the input list.\n",
    "\n",
    "As a result, the output list will have the same number of elements as the input list.\n",
    "\n",
    "### when use a loop, and when a comprehension?\n",
    "\n",
    "> The big distinction between getting a new value back and having side effects.\n",
    "\n",
    "If you have an existing list, and you want a new list, and you can describe the mapping from the first to the second, then you should use a comprehension.  \n",
    "\n",
    "But if you are assigning repeatedly, if you are modifying repeatedly. Then use a regular for loop."
   ]
  },
  {
   "cell_type": "code",
   "execution_count": 4,
   "metadata": {},
   "outputs": [
    {
     "data": {
      "text/plain": [
       "'10*20*30'"
      ]
     },
     "execution_count": 4,
     "metadata": {},
     "output_type": "execute_result"
    }
   ],
   "source": [
    "# we have list of integers\n",
    "# we want string * between elements\n",
    "\n",
    "integes = range(10, 40, 10)\n",
    "'*'.join([str(integer) for integer in integes])"
   ]
  },
  {
   "cell_type": "code",
   "execution_count": 5,
   "metadata": {},
   "outputs": [
    {
     "data": {
      "text/plain": [
       "'This Is A Sample Sentence For My Tutorial'"
      ]
     },
     "execution_count": 5,
     "metadata": {},
     "output_type": "execute_result"
    }
   ],
   "source": [
    "string = \"This is a sample sentence for my tutorial\"\n",
    "\n",
    "# capitalize each word's first letter using list comprehension\n",
    "' '.join([letter.capitalize() for letter in string.split()])"
   ]
  },
  {
   "cell_type": "markdown",
   "metadata": {},
   "source": [
    "### Exercises\n",
    "\n",
    "1. Ask the user to enter a string containing numbers, separated by spaces. add those numbers together (as integers) and print the result. it's OK to use `sum` function."
   ]
  },
  {
   "cell_type": "code",
   "execution_count": 6,
   "metadata": {},
   "outputs": [
    {
     "name": "stdout",
     "output_type": "stream",
     "text": [
      "Numbers to add: 10 20 30\n"
     ]
    },
    {
     "data": {
      "text/plain": [
       "60"
      ]
     },
     "execution_count": 6,
     "metadata": {},
     "output_type": "execute_result"
    }
   ],
   "source": [
    "sum(map(int, input(\"Numbers to add: \").split()))"
   ]
  },
  {
   "cell_type": "markdown",
   "metadata": {},
   "source": [
    "2. Ask the user to enter a string, and print the length of the string, except for white space, it's not OK to use `str.replace`"
   ]
  },
  {
   "cell_type": "code",
   "execution_count": 7,
   "metadata": {},
   "outputs": [
    {
     "name": "stdout",
     "output_type": "stream",
     "text": [
      "Enter a string: hello world\n"
     ]
    },
    {
     "data": {
      "text/plain": [
       "10"
      ]
     },
     "execution_count": 7,
     "metadata": {},
     "output_type": "execute_result"
    }
   ],
   "source": [
    "string = input(\"Enter a string: \").strip()\n",
    "len([str_ for str_ in string if str_ != \" \"])"
   ]
  },
  {
   "cell_type": "code",
   "execution_count": 8,
   "metadata": {},
   "outputs": [
    {
     "data": {
      "text/plain": [
       "['# This is a comment\\n',\n",
       " '# You should ignore me\\n',\n",
       " 'root:x:0:0:root:/root:/bin/bash\\n',\n",
       " 'daemon:x:1:1:daemon:/usr/sbin:/usr/sbin/nologin\\n',\n",
       " 'bin:x:2:2:bin:/bin:/usr/sbin/nologin\\n',\n",
       " 'sys:x:3:3:sys:/dev:/usr/sbin/nologin\\n',\n",
       " 'sync:x:4:65534:sync:/bin:/bin/sync\\n',\n",
       " 'games:x:5:60:games:/usr/games:/usr/sbin/nologin\\n',\n",
       " 'man:x:6:12:man:/var/cache/man:/usr/sbin/nologin\\n',\n",
       " 'lp:x:7:7:lp:/var/spool/lpd:/usr/sbin/nologin\\n',\n",
       " 'mail:x:8:8:mail:/var/mail:/usr/sbin/nologin\\n',\n",
       " '\\n',\n",
       " '\\n',\n",
       " '\\n',\n",
       " 'news:x:9:9:news:/var/spool/news:/usr/sbin/nologin\\n',\n",
       " 'uucp:x:10:10:uucp:/var/spool/uucp:/usr/sbin/nologin\\n',\n",
       " 'proxy:x:13:13:proxy:/bin:/usr/sbin/nologin\\n',\n",
       " 'www-data:x:33:33:www-data:/var/www:/usr/sbin/nologin\\n',\n",
       " 'backup:x:34:34:backup:/var/backups:/usr/sbin/nologin\\n',\n",
       " 'list:x:38:38:Mailing List Manager:/var/list:/usr/sbin/nologin\\n',\n",
       " 'irc:x:39:39:ircd:/var/run/ircd:/usr/sbin/nologin\\n',\n",
       " 'gnats:x:41:41:Gnats Bug-Reporting System (admin):/var/lib/gnats:/usr/sbin/nologin\\n',\n",
       " '\\n',\n",
       " 'nobody:x:65534:65534:nobody:/nonexistent:/usr/sbin/nologin\\n',\n",
       " 'syslog:x:101:104::/home/syslog:/bin/false\\n',\n",
       " 'messagebus:x:102:106::/var/run/dbus:/bin/false\\n',\n",
       " 'landscape:x:103:109::/var/lib/landscape:/bin/false\\n',\n",
       " 'jci:x:955:955::/home/jci:/bin/bash\\n',\n",
       " 'sshd:x:104:65534::/var/run/sshd:/usr/sbin/nologin\\n',\n",
       " 'user:x:1000:1000:user,,,:/home/user:/bin/bash\\n',\n",
       " 'reuven:x:1001:1001:Reuven M. Lerner,,,:/home/reuven:/bin/bash\\n',\n",
       " 'postfix:x:105:113::/var/spool/postfix:/bin/false\\n',\n",
       " 'colord:x:106:116:colord colour management daemon,,,:/var/lib/colord:/bin/false\\n',\n",
       " 'postgres:x:107:117:PostgreSQL administrator,,,:/var/lib/postgresql:/bin/bash\\n',\n",
       " 'dovecot:x:108:119:Dovecot mail server,,,:/usr/lib/dovecot:/bin/false\\n',\n",
       " 'dovenull:x:109:120:Dovecot login user,,,:/nonexistent:/bin/false\\n',\n",
       " 'postgrey:x:110:121::/var/lib/postgrey:/bin/false\\n',\n",
       " 'debian-spamd:x:111:122::/var/lib/spamassassin:/bin/sh\\n',\n",
       " 'memcache:x:113:124:Memcached,,,:/nonexistent:/bin/false\\n',\n",
       " 'genadi:x:1002:1003:Genadi Reznichenko,,,:/home/genadi:/bin/bash\\n',\n",
       " 'shira:x:1003:1004:Shira Friedman,,,:/home/shira:/bin/bash\\n',\n",
       " 'atara:x:1004:1005:Atara Lerner-Friedman,,,:/home/atara:/bin/bash\\n',\n",
       " 'shikma:x:1005:1006:Shikma Lerner-Friedman,,,:/home/shikma:/bin/bash\\n',\n",
       " 'amotz:x:1006:1007:Amotz Lerner-Friedman,,,:/home/amotz:/bin/bash\\n',\n",
       " 'mysql:x:114:125:MySQL Server,,,:/nonexistent:/bin/false\\n',\n",
       " 'clamav:x:115:126::/var/lib/clamav:/bin/false\\n',\n",
       " 'amavis:x:116:127:AMaViS system user,,,:/var/lib/amavis:/bin/sh\\n',\n",
       " 'opendkim:x:117:128::/var/run/opendkim:/bin/false\\n',\n",
       " 'gitlab-redis:x:999:1009::/var/opt/gitlab/redis:/bin/nologin\\n',\n",
       " 'gitlab-psql:x:998:1010::/var/opt/gitlab/postgresql:/bin/sh\\n',\n",
       " 'git:x:1007:1008:GitLab,,,:/home/git:/bin/bash\\n',\n",
       " 'opendmarc:x:118:129::/var/run/opendmarc:/bin/false\\n',\n",
       " 'dkim-milter-python:x:119:130::/var/run/dkim-milter-python:/bin/false\\n',\n",
       " 'deploy:x:1008:1011:Deploy,,,:/home/deploy:/bin/bash\\n',\n",
       " 'redis:x:112:123:redis server,,,:/var/lib/redis:/bin/false']"
      ]
     },
     "execution_count": 8,
     "metadata": {},
     "output_type": "execute_result"
    }
   ],
   "source": [
    "[line for line in open(\"linux-etc-passwd.txt\")]"
   ]
  },
  {
   "cell_type": "code",
   "execution_count": 9,
   "metadata": {},
   "outputs": [
    {
     "data": {
      "text/plain": [
       "['root',\n",
       " 'daemon',\n",
       " 'bin',\n",
       " 'sys',\n",
       " 'sync',\n",
       " 'games',\n",
       " 'man',\n",
       " 'lp',\n",
       " 'mail',\n",
       " 'news',\n",
       " 'uucp',\n",
       " 'proxy',\n",
       " 'www-data',\n",
       " 'backup',\n",
       " 'list',\n",
       " 'irc',\n",
       " 'gnats',\n",
       " 'nobody',\n",
       " 'syslog',\n",
       " 'messagebus',\n",
       " 'landscape',\n",
       " 'jci',\n",
       " 'sshd',\n",
       " 'user',\n",
       " 'reuven',\n",
       " 'postfix',\n",
       " 'colord',\n",
       " 'postgres',\n",
       " 'dovecot',\n",
       " 'dovenull',\n",
       " 'postgrey',\n",
       " 'debian-spamd',\n",
       " 'memcache',\n",
       " 'genadi',\n",
       " 'shira',\n",
       " 'atara',\n",
       " 'shikma',\n",
       " 'amotz',\n",
       " 'mysql',\n",
       " 'clamav',\n",
       " 'amavis',\n",
       " 'opendkim',\n",
       " 'gitlab-redis',\n",
       " 'gitlab-psql',\n",
       " 'git',\n",
       " 'opendmarc',\n",
       " 'dkim-milter-python',\n",
       " 'deploy',\n",
       " 'redis']"
      ]
     },
     "execution_count": 9,
     "metadata": {},
     "output_type": "execute_result"
    }
   ],
   "source": [
    "# usersnames from this password file?\n",
    "[line.split(\":\")[0] for line in open(\"linux-etc-passwd.txt\") if \":\" in line]"
   ]
  },
  {
   "cell_type": "markdown",
   "metadata": {},
   "source": [
    "### Exercise: Sum of numbers\n",
    "\n",
    "Use a comprehension to read through `nums.txt` and sum the numbers it contains. Each line of the file contains either zero integer or one integer. The integer might well have white space before or after it."
   ]
  },
  {
   "cell_type": "code",
   "execution_count": 10,
   "metadata": {},
   "outputs": [
    {
     "name": "stdout",
     "output_type": "stream",
     "text": [
      "5                \r",
      "\r\n",
      "           10\r",
      "\r\n",
      "           20\r",
      "\r\n",
      "           3\r",
      "\r\n",
      "                        20\r",
      "\r\n",
      "25\r",
      "\r\n",
      "                        "
     ]
    }
   ],
   "source": [
    "!cat nums.txt"
   ]
  },
  {
   "cell_type": "code",
   "execution_count": 11,
   "metadata": {},
   "outputs": [
    {
     "data": {
      "text/plain": [
       "83"
      ]
     },
     "execution_count": 11,
     "metadata": {},
     "output_type": "execute_result"
    }
   ],
   "source": [
    "sum(int(num) for num in open(\"nums.txt\") if num.strip())"
   ]
  },
  {
   "cell_type": "code",
   "execution_count": 12,
   "metadata": {},
   "outputs": [
    {
     "data": {
      "text/plain": [
       "3"
      ]
     },
     "execution_count": 12,
     "metadata": {},
     "output_type": "execute_result"
    }
   ],
   "source": [
    "# how many vowels are a string?\n",
    "s = \"whatever\"\n",
    "len([letter for letter in s if letter in \"aeiou\"])"
   ]
  },
  {
   "cell_type": "code",
   "execution_count": 13,
   "metadata": {},
   "outputs": [
    {
     "data": {
      "text/plain": [
       "3"
      ]
     },
     "execution_count": 13,
     "metadata": {},
     "output_type": "execute_result"
    }
   ],
   "source": [
    "# how many vowels are a string?\n",
    "s = \"whatever\"\n",
    "len([letter for letter in s if letter in \"aeiou\"])"
   ]
  },
  {
   "cell_type": "markdown",
   "metadata": {},
   "source": [
    "### Exercise: Shoe dicts\n",
    "\n",
    "`shoe-data.txt` contains 100 lines, Each line contains three fields: Brand, Color, Size. Use a list comprehension to turn this into a list of dictionaries. Each line should be turned into a dict whose keys are `brand`, `color`, and `size`. The values can remain strings, don't worry about the size.\n",
    "\n",
    "I recommend that you write an external function that takes a string as input and returns a dict, then invoke that in ur comprehension.\n",
    "\n",
    "The result will be a list of \n",
    "\n",
    "```py\n",
    "[\n",
    "    {\n",
    "        \"brand\": \"Adidas\",\n",
    "        \"color\": \"orange\",\n",
    "        \"size\": 43\n",
    "    },\n",
    "    ...\n",
    "]\n",
    "```"
   ]
  },
  {
   "cell_type": "code",
   "execution_count": 14,
   "metadata": {},
   "outputs": [
    {
     "name": "stdout",
     "output_type": "stream",
     "text": [
      "Adidas\torange\t43\r",
      "\r\n",
      "Nike\tblack\t41\r",
      "\r\n",
      "Adidas\tblack\t39\r",
      "\r\n",
      "New Balance\tpink\t41\r",
      "\r\n",
      "Nike\twhite\t44\r",
      "\r\n",
      "New Balance\torange\t38\r",
      "\r\n",
      "Nike\tpink\t44\r",
      "\r\n",
      "Adidas\tpink\t44\r",
      "\r\n",
      "New Balance\torange\t39\r",
      "\r\n",
      "New Balance\tblack\t43\r",
      "\r\n",
      "New Balance\torange\t44\r",
      "\r\n",
      "Nike\tblack\t41\r",
      "\r\n",
      "Adidas\torange\t37\r",
      "\r\n",
      "Adidas\tblack\t38\r",
      "\r\n",
      "Adidas\tpink\t41\r",
      "\r\n",
      "Adidas\twhite\t36\r",
      "\r\n",
      "Adidas\torange\t36\r",
      "\r\n",
      "Nike\tpink\t41\r",
      "\r\n",
      "Adidas\tpink\t35\r",
      "\r\n",
      "New Balance\torange\t37\r",
      "\r\n",
      "Nike\tpink\t43\r",
      "\r\n",
      "Nike\tblack\t43\r",
      "\r\n",
      "Nike\tblack\t42\r",
      "\r\n",
      "Nike\tblack\t35\r",
      "\r\n",
      "Adidas\tblack\t41\r",
      "\r\n",
      "New Balance\tpink\t40\r",
      "\r\n",
      "Adidas\twhite\t35\r",
      "\r\n",
      "New Balance\tpink\t41\r",
      "\r\n",
      "New Balance\torange\t41\r",
      "\r\n",
      "Adidas\torange\t40\r",
      "\r\n",
      "New Balance\torange\t40\r",
      "\r\n",
      "New Balance\twhite\t44\r",
      "\r\n",
      "New Balance\tpink\t40\r",
      "\r\n",
      "Nike\tblack\t43\r",
      "\r\n",
      "Nike\tpink\t36\r",
      "\r\n",
      "New Balance\twhite\t39\r",
      "\r\n",
      "Nike\tblack\t42\r",
      "\r\n",
      "Adidas\tblack\t41\r",
      "\r\n",
      "New Balance\torange\t40\r",
      "\r\n",
      "New Balance\tblack\t40\r",
      "\r\n",
      "Nike\twhite\t37\r",
      "\r\n",
      "Adidas\tblack\t39\r",
      "\r\n",
      "Adidas\tblack\t40\r",
      "\r\n",
      "Adidas\torange\t38\r",
      "\r\n",
      "New Balance\torange\t39\r",
      "\r\n",
      "Nike\tblack\t35\r",
      "\r\n",
      "Adidas\twhite\t39\r",
      "\r\n",
      "Nike\twhite\t37\r",
      "\r\n",
      "Adidas\torange\t37\r",
      "\r\n",
      "Adidas\tpink\t35\r",
      "\r\n",
      "New Balance\torange\t41\r",
      "\r\n",
      "Nike\tpink\t44\r",
      "\r\n",
      "Nike\tpink\t38\r",
      "\r\n",
      "Adidas\tblack\t39\r",
      "\r\n",
      "New Balance\twhite\t35\r",
      "\r\n",
      "Nike\tpink\t40\r",
      "\r\n",
      "Nike\twhite\t44\r",
      "\r\n",
      "Nike\torange\t38\r",
      "\r\n",
      "Adidas\torange\t42\r",
      "\r\n",
      "New Balance\torange\t43\r",
      "\r\n",
      "Adidas\tpink\t39\r",
      "\r\n",
      "Adidas\tpink\t41\r",
      "\r\n",
      "Adidas\tpink\t39\r",
      "\r\n",
      "Nike\twhite\t37\r",
      "\r\n",
      "Nike\torange\t38\r",
      "\r\n",
      "Adidas\torange\t39\r",
      "\r\n",
      "Nike\tpink\t40\r",
      "\r\n",
      "Adidas\twhite\t36\r",
      "\r\n",
      "Nike\torange\t40\r",
      "\r\n",
      "New Balance\tpink\t40\r",
      "\r\n",
      "New Balance\tblack\t40\r",
      "\r\n",
      "New Balance\tpink\t40\r",
      "\r\n",
      "Adidas\tpink\t41\r",
      "\r\n",
      "Nike\tpink\t40\r",
      "\r\n",
      "Nike\tblack\t41\r",
      "\r\n",
      "Nike\tblack\t39\r",
      "\r\n",
      "New Balance\twhite\t38\r",
      "\r\n",
      "Adidas\tblack\t41\r",
      "\r\n",
      "Nike\torange\t36\r",
      "\r\n",
      "Nike\tblack\t38\r",
      "\r\n",
      "New Balance\tblack\t40\r",
      "\r\n",
      "New Balance\tpink\t40\r",
      "\r\n",
      "Adidas\tblack\t42\r",
      "\r\n",
      "Adidas\twhite\t40\r",
      "\r\n",
      "New Balance\torange\t38\r",
      "\r\n",
      "Nike\tpink\t41\r",
      "\r\n",
      "Adidas\torange\t37\r",
      "\r\n",
      "Nike\tblack\t44\r",
      "\r\n",
      "Adidas\tpink\t36\r",
      "\r\n",
      "Adidas\twhite\t35\r",
      "\r\n",
      "Nike\tblack\t38\r",
      "\r\n",
      "Nike\tpink\t42\r",
      "\r\n",
      "New Balance\tblack\t43\r",
      "\r\n",
      "Nike\twhite\t38\r",
      "\r\n",
      "New Balance\tpink\t39\r",
      "\r\n",
      "Nike\torange\t39\r",
      "\r\n",
      "New Balance\torange\t40\r",
      "\r\n",
      "New Balance\twhite\t44\r",
      "\r\n",
      "Adidas\tblack\t42\r",
      "\r\n",
      "Nike\tblack\t35"
     ]
    }
   ],
   "source": [
    "!cat shoe-data.txt"
   ]
  },
  {
   "cell_type": "code",
   "execution_count": 15,
   "metadata": {},
   "outputs": [
    {
     "data": {
      "text/plain": [
       "[{'brand': 'Adidas', 'color': 'orange', 'size': '43'},\n",
       " {'brand': 'Nike', 'color': 'black', 'size': '41'},\n",
       " {'brand': 'Adidas', 'color': 'black', 'size': '39'},\n",
       " {'brand': 'New Balance', 'color': 'pink', 'size': '41'},\n",
       " {'brand': 'Nike', 'color': 'white', 'size': '44'},\n",
       " {'brand': 'New Balance', 'color': 'orange', 'size': '38'},\n",
       " {'brand': 'Nike', 'color': 'pink', 'size': '44'},\n",
       " {'brand': 'Adidas', 'color': 'pink', 'size': '44'},\n",
       " {'brand': 'New Balance', 'color': 'orange', 'size': '39'},\n",
       " {'brand': 'New Balance', 'color': 'black', 'size': '43'},\n",
       " {'brand': 'New Balance', 'color': 'orange', 'size': '44'},\n",
       " {'brand': 'Nike', 'color': 'black', 'size': '41'},\n",
       " {'brand': 'Adidas', 'color': 'orange', 'size': '37'},\n",
       " {'brand': 'Adidas', 'color': 'black', 'size': '38'},\n",
       " {'brand': 'Adidas', 'color': 'pink', 'size': '41'},\n",
       " {'brand': 'Adidas', 'color': 'white', 'size': '36'},\n",
       " {'brand': 'Adidas', 'color': 'orange', 'size': '36'},\n",
       " {'brand': 'Nike', 'color': 'pink', 'size': '41'},\n",
       " {'brand': 'Adidas', 'color': 'pink', 'size': '35'},\n",
       " {'brand': 'New Balance', 'color': 'orange', 'size': '37'},\n",
       " {'brand': 'Nike', 'color': 'pink', 'size': '43'},\n",
       " {'brand': 'Nike', 'color': 'black', 'size': '43'},\n",
       " {'brand': 'Nike', 'color': 'black', 'size': '42'},\n",
       " {'brand': 'Nike', 'color': 'black', 'size': '35'},\n",
       " {'brand': 'Adidas', 'color': 'black', 'size': '41'},\n",
       " {'brand': 'New Balance', 'color': 'pink', 'size': '40'},\n",
       " {'brand': 'Adidas', 'color': 'white', 'size': '35'},\n",
       " {'brand': 'New Balance', 'color': 'pink', 'size': '41'},\n",
       " {'brand': 'New Balance', 'color': 'orange', 'size': '41'},\n",
       " {'brand': 'Adidas', 'color': 'orange', 'size': '40'},\n",
       " {'brand': 'New Balance', 'color': 'orange', 'size': '40'},\n",
       " {'brand': 'New Balance', 'color': 'white', 'size': '44'},\n",
       " {'brand': 'New Balance', 'color': 'pink', 'size': '40'},\n",
       " {'brand': 'Nike', 'color': 'black', 'size': '43'},\n",
       " {'brand': 'Nike', 'color': 'pink', 'size': '36'},\n",
       " {'brand': 'New Balance', 'color': 'white', 'size': '39'},\n",
       " {'brand': 'Nike', 'color': 'black', 'size': '42'},\n",
       " {'brand': 'Adidas', 'color': 'black', 'size': '41'},\n",
       " {'brand': 'New Balance', 'color': 'orange', 'size': '40'},\n",
       " {'brand': 'New Balance', 'color': 'black', 'size': '40'},\n",
       " {'brand': 'Nike', 'color': 'white', 'size': '37'},\n",
       " {'brand': 'Adidas', 'color': 'black', 'size': '39'},\n",
       " {'brand': 'Adidas', 'color': 'black', 'size': '40'},\n",
       " {'brand': 'Adidas', 'color': 'orange', 'size': '38'},\n",
       " {'brand': 'New Balance', 'color': 'orange', 'size': '39'},\n",
       " {'brand': 'Nike', 'color': 'black', 'size': '35'},\n",
       " {'brand': 'Adidas', 'color': 'white', 'size': '39'},\n",
       " {'brand': 'Nike', 'color': 'white', 'size': '37'},\n",
       " {'brand': 'Adidas', 'color': 'orange', 'size': '37'},\n",
       " {'brand': 'Adidas', 'color': 'pink', 'size': '35'},\n",
       " {'brand': 'New Balance', 'color': 'orange', 'size': '41'},\n",
       " {'brand': 'Nike', 'color': 'pink', 'size': '44'},\n",
       " {'brand': 'Nike', 'color': 'pink', 'size': '38'},\n",
       " {'brand': 'Adidas', 'color': 'black', 'size': '39'},\n",
       " {'brand': 'New Balance', 'color': 'white', 'size': '35'},\n",
       " {'brand': 'Nike', 'color': 'pink', 'size': '40'},\n",
       " {'brand': 'Nike', 'color': 'white', 'size': '44'},\n",
       " {'brand': 'Nike', 'color': 'orange', 'size': '38'},\n",
       " {'brand': 'Adidas', 'color': 'orange', 'size': '42'},\n",
       " {'brand': 'New Balance', 'color': 'orange', 'size': '43'},\n",
       " {'brand': 'Adidas', 'color': 'pink', 'size': '39'},\n",
       " {'brand': 'Adidas', 'color': 'pink', 'size': '41'},\n",
       " {'brand': 'Adidas', 'color': 'pink', 'size': '39'},\n",
       " {'brand': 'Nike', 'color': 'white', 'size': '37'},\n",
       " {'brand': 'Nike', 'color': 'orange', 'size': '38'},\n",
       " {'brand': 'Adidas', 'color': 'orange', 'size': '39'},\n",
       " {'brand': 'Nike', 'color': 'pink', 'size': '40'},\n",
       " {'brand': 'Adidas', 'color': 'white', 'size': '36'},\n",
       " {'brand': 'Nike', 'color': 'orange', 'size': '40'},\n",
       " {'brand': 'New Balance', 'color': 'pink', 'size': '40'},\n",
       " {'brand': 'New Balance', 'color': 'black', 'size': '40'},\n",
       " {'brand': 'New Balance', 'color': 'pink', 'size': '40'},\n",
       " {'brand': 'Adidas', 'color': 'pink', 'size': '41'},\n",
       " {'brand': 'Nike', 'color': 'pink', 'size': '40'},\n",
       " {'brand': 'Nike', 'color': 'black', 'size': '41'},\n",
       " {'brand': 'Nike', 'color': 'black', 'size': '39'},\n",
       " {'brand': 'New Balance', 'color': 'white', 'size': '38'},\n",
       " {'brand': 'Adidas', 'color': 'black', 'size': '41'},\n",
       " {'brand': 'Nike', 'color': 'orange', 'size': '36'},\n",
       " {'brand': 'Nike', 'color': 'black', 'size': '38'},\n",
       " {'brand': 'New Balance', 'color': 'black', 'size': '40'},\n",
       " {'brand': 'New Balance', 'color': 'pink', 'size': '40'},\n",
       " {'brand': 'Adidas', 'color': 'black', 'size': '42'},\n",
       " {'brand': 'Adidas', 'color': 'white', 'size': '40'},\n",
       " {'brand': 'New Balance', 'color': 'orange', 'size': '38'},\n",
       " {'brand': 'Nike', 'color': 'pink', 'size': '41'},\n",
       " {'brand': 'Adidas', 'color': 'orange', 'size': '37'},\n",
       " {'brand': 'Nike', 'color': 'black', 'size': '44'},\n",
       " {'brand': 'Adidas', 'color': 'pink', 'size': '36'},\n",
       " {'brand': 'Adidas', 'color': 'white', 'size': '35'},\n",
       " {'brand': 'Nike', 'color': 'black', 'size': '38'},\n",
       " {'brand': 'Nike', 'color': 'pink', 'size': '42'},\n",
       " {'brand': 'New Balance', 'color': 'black', 'size': '43'},\n",
       " {'brand': 'Nike', 'color': 'white', 'size': '38'},\n",
       " {'brand': 'New Balance', 'color': 'pink', 'size': '39'},\n",
       " {'brand': 'Nike', 'color': 'orange', 'size': '39'},\n",
       " {'brand': 'New Balance', 'color': 'orange', 'size': '40'},\n",
       " {'brand': 'New Balance', 'color': 'white', 'size': '44'},\n",
       " {'brand': 'Adidas', 'color': 'black', 'size': '42'},\n",
       " {'brand': 'Nike', 'color': 'black', 'size': '35'}]"
      ]
     },
     "execution_count": 15,
     "metadata": {},
     "output_type": "execute_result"
    }
   ],
   "source": [
    "def str_to_dict(string):\n",
    "    brand, color, size = string.strip().split(\"\\t\")  \n",
    "    return {\n",
    "        \"brand\": brand,\n",
    "        \"color\": color,\n",
    "        \"size\": size,\n",
    "    }\n",
    "\n",
    "[str_to_dict(shoe) for shoe in open(\"shoe-data.txt\")]"
   ]
  },
  {
   "cell_type": "code",
   "execution_count": 16,
   "metadata": {},
   "outputs": [
    {
     "name": "stdout",
     "output_type": "stream",
     "text": [
      "linux-etc-passwd.txt\t  mini-access-log.txt  nums.txt       wcfile.txt\r\n",
      "linux-etc-passwd.txt.txt  myconfig.txt\t       shoe-data.txt\r\n"
     ]
    }
   ],
   "source": [
    "!ls *.txt"
   ]
  },
  {
   "cell_type": "code",
   "execution_count": 17,
   "metadata": {},
   "outputs": [
    {
     "name": "stdout",
     "output_type": "stream",
     "text": [
      "67.218.116.165 - - [30/Jan/2010:00:03:18 +0200] \"GET /robots.txt HTTP/1.0\" 200 99 \"-\" \"Mozilla/5.0 (Twiceler-0.9 http://www.cuil.com/twiceler/robot.html)\"\r\n",
      "66.249.71.65 - - [30/Jan/2010:00:12:06 +0200] \"GET /browse/one_node/1557 HTTP/1.1\" 200 39208 \"-\" \"Mozilla/5.0 (compatible; Googlebot/2.1; +http://www.google.com/bot.html)\"\r\n",
      "65.55.106.183 - - [30/Jan/2010:01:29:23 +0200] \"GET /robots.txt HTTP/1.1\" 200 99 \"-\" \"msnbot/2.0b (+http://search.msn.com/msnbot.htm)\"\r\n",
      "65.55.106.183 - - [30/Jan/2010:01:30:06 +0200] \"GET /browse/one_model/2162 HTTP/1.1\" 200 2181 \"-\" \"msnbot/2.0b (+http://search.msn.com/msnbot.htm)\"\r\n",
      "66.249.71.65 - - [30/Jan/2010:02:07:14 +0200] \"GET /browse/browse_applet_tab/2593 HTTP/1.1\" 200 10305 \"-\" \"Mozilla/5.0 (compatible; Googlebot/2.1; +http://www.google.com/bot.html)\"\r\n",
      "66.249.71.65 - - [30/Jan/2010:02:10:39 +0200] \"GET /browse/browse_files_tab/2499?tab=true HTTP/1.1\" 200 446 \"-\" \"Mozilla/5.0 (compatible; Googlebot/2.1; +http://www.google.com/bot.html)\"\r\n",
      "66.249.65.12 - - [30/Jan/2010:03:13:34 +0200] \"GET /robots.txt HTTP/1.1\" 200 99 \"-\" \"Mozilla/5.0 (compatible; Googlebot/2.1; +http://www.google.com/bot.html)\"\r\n",
      "66.249.65.12 - - [30/Jan/2010:03:13:34 +0200] \"GET /browse/one_node/2715 HTTP/1.1\" 200 26433 \"-\" \"Mozilla/5.0 (compatible; Googlebot/2.1; +http://www.google.com/bot.html)\"\r\n",
      "66.249.65.12 - - [30/Jan/2010:03:43:39 +0200] \"GET /browse/download_model/1969 HTTP/1.1\" 200 31713 \"-\" \"Mozilla/5.0 (compatible; Googlebot/2.1; +http://www.google.com/bot.html)\"\r\n",
      "66.249.65.12 - - [30/Jan/2010:04:05:43 +0200] \"GET /browse/one_node/1406 HTTP/1.1\" 302 118 \"-\" \"Mozilla/5.0 (compatible; Googlebot/2.1; +http://www.google.com/bot.html)\"\r\n"
     ]
    }
   ],
   "source": [
    "!head mini-access-log.txt"
   ]
  },
  {
   "cell_type": "code",
   "execution_count": 18,
   "metadata": {},
   "outputs": [
    {
     "data": {
      "text/plain": [
       "['67.218.116.165',\n",
       " '66.249.71.65',\n",
       " '65.55.106.183',\n",
       " '65.55.106.183',\n",
       " '66.249.71.65',\n",
       " '66.249.71.65',\n",
       " '66.249.65.12',\n",
       " '66.249.65.12',\n",
       " '66.249.65.12',\n",
       " '66.249.65.12']"
      ]
     },
     "execution_count": 18,
     "metadata": {},
     "output_type": "execute_result"
    }
   ],
   "source": [
    "# retrieve all of the ip address from the file\n",
    "[line.split()[0] for line in open(\"mini-access-log.txt\")][0:10]"
   ]
  },
  {
   "cell_type": "code",
   "execution_count": 19,
   "metadata": {},
   "outputs": [
    {
     "data": {
      "text/plain": [
       "Counter({'a': 5, 'b': 6})"
      ]
     },
     "execution_count": 19,
     "metadata": {},
     "output_type": "execute_result"
    }
   ],
   "source": [
    "# how many times did each ip address access my server?\n",
    "\n",
    "from collections import Counter\n",
    "\n",
    "# bad way to use Counter\n",
    "c = Counter()\n",
    "c[\"a\"] += 5\n",
    "c[\"b\"] += 6\n",
    "c"
   ]
  },
  {
   "cell_type": "code",
   "execution_count": 20,
   "metadata": {},
   "outputs": [],
   "source": [
    "# the good way to use Counter is to initialize it with an iterable\n",
    "# it will count how many times each element of that iterable is there. Each element becomes a key,\n",
    "# the number times becomes the values.\n",
    "\n",
    "c = Counter([line.split()[0] for line in open(\"mini-access-log.txt\")])"
   ]
  },
  {
   "cell_type": "code",
   "execution_count": 21,
   "metadata": {},
   "outputs": [
    {
     "name": "stdout",
     "output_type": "stream",
     "text": [
      "67.218.116.165 : 2\n",
      "66.249.71.65   : 3\n",
      "65.55.106.183  : 2\n",
      "66.249.65.12   : 32\n",
      "65.55.106.131  : 2\n",
      "65.55.106.186  : 2\n",
      "74.52.245.146  : 2\n",
      "66.249.65.43   : 3\n",
      "65.55.207.25   : 2\n",
      "65.55.207.94   : 2\n",
      "65.55.207.71   : 1\n",
      "98.242.170.241 : 1\n",
      "66.249.65.38   : 100\n",
      "65.55.207.126  : 2\n",
      "82.34.9.20     : 2\n",
      "65.55.106.155  : 2\n",
      "65.55.207.77   : 2\n",
      "208.80.193.28  : 1\n",
      "89.248.172.58  : 22\n",
      "67.195.112.35  : 16\n",
      "65.55.207.50   : 3\n",
      "65.55.215.75   : 2\n"
     ]
    }
   ],
   "source": [
    "# Counter inherits from dict\n",
    "\n",
    "for key, value in c.items():\n",
    "    print(f\"{key:15}: {value}\")"
   ]
  },
  {
   "cell_type": "code",
   "execution_count": 22,
   "metadata": {},
   "outputs": [
    {
     "data": {
      "text/plain": [
       "[('66.249.65.38', 100),\n",
       " ('66.249.65.12', 32),\n",
       " ('89.248.172.58', 22),\n",
       " ('67.195.112.35', 16),\n",
       " ('66.249.71.65', 3)]"
      ]
     },
     "execution_count": 22,
     "metadata": {},
     "output_type": "execute_result"
    }
   ],
   "source": [
    "c.most_common(5)"
   ]
  },
  {
   "cell_type": "code",
   "execution_count": 23,
   "metadata": {},
   "outputs": [],
   "source": [
    "# set is faster than list, it gurantees uniqueness in their members, searching is very fast\n",
    "# and all elements are hashable. Just like dict keys\n",
    "\n",
    "usernames = {line.split(\":\")[0] for line in open(\"linux-etc-passwd.txt\") if \":\" in line}"
   ]
  },
  {
   "cell_type": "code",
   "execution_count": 24,
   "metadata": {},
   "outputs": [
    {
     "data": {
      "text/plain": [
       "{'amavis',\n",
       " 'amotz',\n",
       " 'atara',\n",
       " 'backup',\n",
       " 'bin',\n",
       " 'clamav',\n",
       " 'colord',\n",
       " 'daemon',\n",
       " 'debian-spamd',\n",
       " 'deploy',\n",
       " 'dkim-milter-python',\n",
       " 'dovecot',\n",
       " 'dovenull',\n",
       " 'games',\n",
       " 'genadi',\n",
       " 'git',\n",
       " 'gitlab-psql',\n",
       " 'gitlab-redis',\n",
       " 'gnats',\n",
       " 'irc',\n",
       " 'jci',\n",
       " 'landscape',\n",
       " 'list',\n",
       " 'lp',\n",
       " 'mail',\n",
       " 'man',\n",
       " 'memcache',\n",
       " 'messagebus',\n",
       " 'mysql',\n",
       " 'news',\n",
       " 'nobody',\n",
       " 'opendkim',\n",
       " 'opendmarc',\n",
       " 'postfix',\n",
       " 'postgres',\n",
       " 'postgrey',\n",
       " 'proxy',\n",
       " 'redis',\n",
       " 'reuven',\n",
       " 'root',\n",
       " 'shikma',\n",
       " 'shira',\n",
       " 'sshd',\n",
       " 'sync',\n",
       " 'sys',\n",
       " 'syslog',\n",
       " 'user',\n",
       " 'uucp',\n",
       " 'www-data'}"
      ]
     },
     "execution_count": 24,
     "metadata": {},
     "output_type": "execute_result"
    }
   ],
   "source": [
    "usernames"
   ]
  },
  {
   "cell_type": "code",
   "execution_count": 25,
   "metadata": {},
   "outputs": [
    {
     "data": {
      "text/plain": [
       "True"
      ]
     },
     "execution_count": 25,
     "metadata": {},
     "output_type": "execute_result"
    }
   ],
   "source": [
    "\"root\" in usernames"
   ]
  },
  {
   "cell_type": "markdown",
   "metadata": {},
   "source": [
    "## Exercise: Sum of unique numbers\n",
    "\n",
    "1. Ask the user to enter numbers, separated by whitespace\n",
    "2. Print their sum, but only count each number once.\n",
    "\n",
    "```py\n",
    "> Enter numbers: 10 20 30 10 20 30\n",
    "> Total is 60\n",
    "```"
   ]
  },
  {
   "cell_type": "code",
   "execution_count": 26,
   "metadata": {},
   "outputs": [
    {
     "name": "stdout",
     "output_type": "stream",
     "text": [
      "Enter numbers: 10 20 30 10 20 30\n"
     ]
    },
    {
     "data": {
      "text/plain": [
       "60"
      ]
     },
     "execution_count": 26,
     "metadata": {},
     "output_type": "execute_result"
    }
   ],
   "source": [
    "sum(set(map(int, input(\"Enter numbers: \").strip().split())))"
   ]
  },
  {
   "cell_type": "code",
   "execution_count": 27,
   "metadata": {},
   "outputs": [
    {
     "name": "stdout",
     "output_type": "stream",
     "text": [
      "Enter numbers: 10 20 30 10 20 30\n"
     ]
    },
    {
     "data": {
      "text/plain": [
       "60"
      ]
     },
     "execution_count": 27,
     "metadata": {},
     "output_type": "execute_result"
    }
   ],
   "source": [
    "sum({int(number) for number in input(\"Enter numbers: \").strip().split()})"
   ]
  },
  {
   "cell_type": "markdown",
   "metadata": {},
   "source": [
    "## Exercise: which shells?\n",
    "\n",
    "Read through `linux-etc-passwd.txt` and find the different shells that are used on the system."
   ]
  },
  {
   "cell_type": "code",
   "execution_count": 28,
   "metadata": {},
   "outputs": [
    {
     "data": {
      "text/plain": [
       "{'',\n",
       " '# This is a comment',\n",
       " '# You should ignore me',\n",
       " 'amavis:x:116:127:AMaViS system user,,,:/var/lib/amavis:/bin/sh',\n",
       " 'amotz:x:1006:1007:Amotz Lerner-Friedman,,,:/home/amotz:/bin/bash',\n",
       " 'atara:x:1004:1005:Atara Lerner-Friedman,,,:/home/atara:/bin/bash',\n",
       " 'backup:x:34:34:backup:/var/backups:/usr/sbin/nologin',\n",
       " 'bin:x:2:2:bin:/bin:/usr/sbin/nologin',\n",
       " 'clamav:x:115:126::/var/lib/clamav:/bin/false',\n",
       " 'colord:x:106:116:colord colour management daemon,,,:/var/lib/colord:/bin/false',\n",
       " 'daemon:x:1:1:daemon:/usr/sbin:/usr/sbin/nologin',\n",
       " 'debian-spamd:x:111:122::/var/lib/spamassassin:/bin/sh',\n",
       " 'deploy:x:1008:1011:Deploy,,,:/home/deploy:/bin/bash',\n",
       " 'dkim-milter-python:x:119:130::/var/run/dkim-milter-python:/bin/false',\n",
       " 'dovecot:x:108:119:Dovecot mail server,,,:/usr/lib/dovecot:/bin/false',\n",
       " 'dovenull:x:109:120:Dovecot login user,,,:/nonexistent:/bin/false',\n",
       " 'games:x:5:60:games:/usr/games:/usr/sbin/nologin',\n",
       " 'genadi:x:1002:1003:Genadi Reznichenko,,,:/home/genadi:/bin/bash',\n",
       " 'git:x:1007:1008:GitLab,,,:/home/git:/bin/bash',\n",
       " 'gitlab-psql:x:998:1010::/var/opt/gitlab/postgresql:/bin/sh',\n",
       " 'gitlab-redis:x:999:1009::/var/opt/gitlab/redis:/bin/nologin',\n",
       " 'gnats:x:41:41:Gnats Bug-Reporting System (admin):/var/lib/gnats:/usr/sbin/nologin',\n",
       " 'irc:x:39:39:ircd:/var/run/ircd:/usr/sbin/nologin',\n",
       " 'jci:x:955:955::/home/jci:/bin/bash',\n",
       " 'landscape:x:103:109::/var/lib/landscape:/bin/false',\n",
       " 'list:x:38:38:Mailing List Manager:/var/list:/usr/sbin/nologin',\n",
       " 'lp:x:7:7:lp:/var/spool/lpd:/usr/sbin/nologin',\n",
       " 'mail:x:8:8:mail:/var/mail:/usr/sbin/nologin',\n",
       " 'man:x:6:12:man:/var/cache/man:/usr/sbin/nologin',\n",
       " 'memcache:x:113:124:Memcached,,,:/nonexistent:/bin/false',\n",
       " 'messagebus:x:102:106::/var/run/dbus:/bin/false',\n",
       " 'mysql:x:114:125:MySQL Server,,,:/nonexistent:/bin/false',\n",
       " 'news:x:9:9:news:/var/spool/news:/usr/sbin/nologin',\n",
       " 'nobody:x:65534:65534:nobody:/nonexistent:/usr/sbin/nologin',\n",
       " 'opendkim:x:117:128::/var/run/opendkim:/bin/false',\n",
       " 'opendmarc:x:118:129::/var/run/opendmarc:/bin/false',\n",
       " 'postfix:x:105:113::/var/spool/postfix:/bin/false',\n",
       " 'postgres:x:107:117:PostgreSQL administrator,,,:/var/lib/postgresql:/bin/bash',\n",
       " 'postgrey:x:110:121::/var/lib/postgrey:/bin/false',\n",
       " 'proxy:x:13:13:proxy:/bin:/usr/sbin/nologin',\n",
       " 'redis:x:112:123:redis server,,,:/var/lib/redis:/bin/false',\n",
       " 'reuven:x:1001:1001:Reuven M. Lerner,,,:/home/reuven:/bin/bash',\n",
       " 'root:x:0:0:root:/root:/bin/bash',\n",
       " 'shikma:x:1005:1006:Shikma Lerner-Friedman,,,:/home/shikma:/bin/bash',\n",
       " 'shira:x:1003:1004:Shira Friedman,,,:/home/shira:/bin/bash',\n",
       " 'sshd:x:104:65534::/var/run/sshd:/usr/sbin/nologin',\n",
       " 'sync:x:4:65534:sync:/bin:/bin/sync',\n",
       " 'sys:x:3:3:sys:/dev:/usr/sbin/nologin',\n",
       " 'syslog:x:101:104::/home/syslog:/bin/false',\n",
       " 'user:x:1000:1000:user,,,:/home/user:/bin/bash',\n",
       " 'uucp:x:10:10:uucp:/var/spool/uucp:/usr/sbin/nologin',\n",
       " 'www-data:x:33:33:www-data:/var/www:/usr/sbin/nologin'}"
      ]
     },
     "execution_count": 28,
     "metadata": {},
     "output_type": "execute_result"
    }
   ],
   "source": [
    "{line.strip() for line in open(\"linux-etc-passwd.txt\")}"
   ]
  },
  {
   "cell_type": "code",
   "execution_count": 29,
   "metadata": {},
   "outputs": [
    {
     "data": {
      "text/plain": [
       "['/bin/bash',\n",
       " '/usr/sbin/nologin',\n",
       " '/usr/sbin/nologin',\n",
       " '/usr/sbin/nologin',\n",
       " '/bin/sync',\n",
       " '/usr/sbin/nologin',\n",
       " '/usr/sbin/nologin',\n",
       " '/usr/sbin/nologin',\n",
       " '/usr/sbin/nologin',\n",
       " '/usr/sbin/nologin',\n",
       " '/usr/sbin/nologin',\n",
       " '/usr/sbin/nologin',\n",
       " '/usr/sbin/nologin',\n",
       " '/usr/sbin/nologin',\n",
       " '/usr/sbin/nologin',\n",
       " '/usr/sbin/nologin',\n",
       " '/usr/sbin/nologin',\n",
       " '/usr/sbin/nologin',\n",
       " '/bin/false',\n",
       " '/bin/false',\n",
       " '/bin/false',\n",
       " '/bin/bash',\n",
       " '/usr/sbin/nologin',\n",
       " '/bin/bash',\n",
       " '/bin/bash',\n",
       " '/bin/false',\n",
       " '/bin/false',\n",
       " '/bin/bash',\n",
       " '/bin/false',\n",
       " '/bin/false',\n",
       " '/bin/false',\n",
       " '/bin/sh',\n",
       " '/bin/false',\n",
       " '/bin/bash',\n",
       " '/bin/bash',\n",
       " '/bin/bash',\n",
       " '/bin/bash',\n",
       " '/bin/bash',\n",
       " '/bin/false',\n",
       " '/bin/false',\n",
       " '/bin/sh',\n",
       " '/bin/false',\n",
       " '/bin/nologin',\n",
       " '/bin/sh',\n",
       " '/bin/bash',\n",
       " '/bin/false',\n",
       " '/bin/false',\n",
       " '/bin/bash',\n",
       " '/bin/false']"
      ]
     },
     "execution_count": 29,
     "metadata": {},
     "output_type": "execute_result"
    }
   ],
   "source": [
    "[line.strip().split(\":\")[-1] for line in open(\"linux-etc-passwd.txt\") if \":\" in line]"
   ]
  },
  {
   "cell_type": "code",
   "execution_count": 30,
   "metadata": {},
   "outputs": [
    {
     "data": {
      "text/plain": [
       "{'/bin/bash',\n",
       " '/bin/false',\n",
       " '/bin/nologin',\n",
       " '/bin/sh',\n",
       " '/bin/sync',\n",
       " '/usr/sbin/nologin'}"
      ]
     },
     "execution_count": 30,
     "metadata": {},
     "output_type": "execute_result"
    }
   ],
   "source": [
    "{line.strip().split(\":\")[-1] for line in open(\"linux-etc-passwd.txt\") if \":\" in line}"
   ]
  },
  {
   "cell_type": "code",
   "execution_count": 31,
   "metadata": {},
   "outputs": [
    {
     "data": {
      "text/plain": [
       "{'This': 4, 'is': 2, 'a': 1, 'bunch': 5, 'of': 2, 'words': 5}"
      ]
     },
     "execution_count": 31,
     "metadata": {},
     "output_type": "execute_result"
    }
   ],
   "source": [
    "# I have string with some words\n",
    "# I want to create a dict where each word is the key and word length is the value\n",
    "\n",
    "string = \"This is a bunch of words\"\n",
    "\n",
    "string_dict = {}\n",
    "\n",
    "for key, value in [(word, len(word)) for word in string.split()]:\n",
    "    string_dict[key] = value\n",
    "\n",
    "string_dict"
   ]
  },
  {
   "cell_type": "code",
   "execution_count": 32,
   "metadata": {},
   "outputs": [
    {
     "data": {
      "text/plain": [
       "{'This': 4, 'is': 2, 'a': 1, 'bunch': 5, 'of': 2, 'words': 5}"
      ]
     },
     "execution_count": 32,
     "metadata": {},
     "output_type": "execute_result"
    }
   ],
   "source": [
    "# invoke list of tuples and get back a dict\n",
    "dict([(word, len(word)) for word in string.split()])"
   ]
  },
  {
   "cell_type": "code",
   "execution_count": 33,
   "metadata": {},
   "outputs": [
    {
     "data": {
      "text/plain": [
       "{'This': 4, 'is': 2, 'a': 1, 'bunch': 5, 'of': 2, 'words': 5}"
      ]
     },
     "execution_count": 33,
     "metadata": {},
     "output_type": "execute_result"
    }
   ],
   "source": [
    "# dict comprehension\n",
    "{word : len(word) for word in string.split()}"
   ]
  },
  {
   "cell_type": "code",
   "execution_count": 34,
   "metadata": {},
   "outputs": [
    {
     "name": "stdout",
     "output_type": "stream",
     "text": [
      "a=1\r\n",
      "b=2\r\n",
      "c=3\r\n",
      "d=4\r\n"
     ]
    }
   ],
   "source": [
    "!cat myconfig.txt"
   ]
  },
  {
   "cell_type": "code",
   "execution_count": 35,
   "metadata": {},
   "outputs": [
    {
     "data": {
      "text/plain": [
       "{'a': '1', 'b': '2', 'c': '3', 'd': '4'}"
      ]
     },
     "execution_count": 35,
     "metadata": {},
     "output_type": "execute_result"
    }
   ],
   "source": [
    "{ line.split(\"=\")[0] : line.split(\"=\")[1].strip() for line in open(\"myconfig.txt\") }"
   ]
  },
  {
   "cell_type": "markdown",
   "metadata": {},
   "source": [
    "## Exercise: Usernames and shells\n",
    "\n",
    "Use a dict comprehension to create a dict in which keys are usernames and the values are the shells associated with those usernames in `linux-etc-passwd.txt`"
   ]
  },
  {
   "cell_type": "code",
   "execution_count": 36,
   "metadata": {},
   "outputs": [
    {
     "data": {
      "text/plain": [
       "[('# This is a comment\\n', '# This is a comment'),\n",
       " ('# You should ignore me\\n', '# You should ignore me'),\n",
       " ('root', '/bin/bash'),\n",
       " ('daemon', '/usr/sbin/nologin'),\n",
       " ('bin', '/usr/sbin/nologin'),\n",
       " ('sys', '/usr/sbin/nologin'),\n",
       " ('sync', '/bin/sync'),\n",
       " ('games', '/usr/sbin/nologin'),\n",
       " ('man', '/usr/sbin/nologin'),\n",
       " ('lp', '/usr/sbin/nologin'),\n",
       " ('mail', '/usr/sbin/nologin'),\n",
       " ('\\n', ''),\n",
       " ('\\n', ''),\n",
       " ('\\n', ''),\n",
       " ('news', '/usr/sbin/nologin'),\n",
       " ('uucp', '/usr/sbin/nologin'),\n",
       " ('proxy', '/usr/sbin/nologin'),\n",
       " ('www-data', '/usr/sbin/nologin'),\n",
       " ('backup', '/usr/sbin/nologin'),\n",
       " ('list', '/usr/sbin/nologin'),\n",
       " ('irc', '/usr/sbin/nologin'),\n",
       " ('gnats', '/usr/sbin/nologin'),\n",
       " ('\\n', ''),\n",
       " ('nobody', '/usr/sbin/nologin'),\n",
       " ('syslog', '/bin/false'),\n",
       " ('messagebus', '/bin/false'),\n",
       " ('landscape', '/bin/false'),\n",
       " ('jci', '/bin/bash'),\n",
       " ('sshd', '/usr/sbin/nologin'),\n",
       " ('user', '/bin/bash'),\n",
       " ('reuven', '/bin/bash'),\n",
       " ('postfix', '/bin/false'),\n",
       " ('colord', '/bin/false'),\n",
       " ('postgres', '/bin/bash'),\n",
       " ('dovecot', '/bin/false'),\n",
       " ('dovenull', '/bin/false'),\n",
       " ('postgrey', '/bin/false'),\n",
       " ('debian-spamd', '/bin/sh'),\n",
       " ('memcache', '/bin/false'),\n",
       " ('genadi', '/bin/bash'),\n",
       " ('shira', '/bin/bash'),\n",
       " ('atara', '/bin/bash'),\n",
       " ('shikma', '/bin/bash'),\n",
       " ('amotz', '/bin/bash'),\n",
       " ('mysql', '/bin/false'),\n",
       " ('clamav', '/bin/false'),\n",
       " ('amavis', '/bin/sh'),\n",
       " ('opendkim', '/bin/false'),\n",
       " ('gitlab-redis', '/bin/nologin'),\n",
       " ('gitlab-psql', '/bin/sh'),\n",
       " ('git', '/bin/bash'),\n",
       " ('opendmarc', '/bin/false'),\n",
       " ('dkim-milter-python', '/bin/false'),\n",
       " ('deploy', '/bin/bash'),\n",
       " ('redis', '/bin/false')]"
      ]
     },
     "execution_count": 36,
     "metadata": {},
     "output_type": "execute_result"
    }
   ],
   "source": [
    "[(line.split(\":\")[0], line.split(\":\")[-1].strip()) for line in open(\"linux-etc-passwd.txt\")]"
   ]
  },
  {
   "cell_type": "code",
   "execution_count": 37,
   "metadata": {},
   "outputs": [
    {
     "data": {
      "text/plain": [
       "{'root': '/bin/bash',\n",
       " 'daemon': '/usr/sbin/nologin',\n",
       " 'bin': '/usr/sbin/nologin',\n",
       " 'sys': '/usr/sbin/nologin',\n",
       " 'sync': '/bin/sync',\n",
       " 'games': '/usr/sbin/nologin',\n",
       " 'man': '/usr/sbin/nologin',\n",
       " 'lp': '/usr/sbin/nologin',\n",
       " 'mail': '/usr/sbin/nologin',\n",
       " 'news': '/usr/sbin/nologin',\n",
       " 'uucp': '/usr/sbin/nologin',\n",
       " 'proxy': '/usr/sbin/nologin',\n",
       " 'www-data': '/usr/sbin/nologin',\n",
       " 'backup': '/usr/sbin/nologin',\n",
       " 'list': '/usr/sbin/nologin',\n",
       " 'irc': '/usr/sbin/nologin',\n",
       " 'gnats': '/usr/sbin/nologin',\n",
       " 'nobody': '/usr/sbin/nologin',\n",
       " 'syslog': '/bin/false',\n",
       " 'messagebus': '/bin/false',\n",
       " 'landscape': '/bin/false',\n",
       " 'jci': '/bin/bash',\n",
       " 'sshd': '/usr/sbin/nologin',\n",
       " 'user': '/bin/bash',\n",
       " 'reuven': '/bin/bash',\n",
       " 'postfix': '/bin/false',\n",
       " 'colord': '/bin/false',\n",
       " 'postgres': '/bin/bash',\n",
       " 'dovecot': '/bin/false',\n",
       " 'dovenull': '/bin/false',\n",
       " 'postgrey': '/bin/false',\n",
       " 'debian-spamd': '/bin/sh',\n",
       " 'memcache': '/bin/false',\n",
       " 'genadi': '/bin/bash',\n",
       " 'shira': '/bin/bash',\n",
       " 'atara': '/bin/bash',\n",
       " 'shikma': '/bin/bash',\n",
       " 'amotz': '/bin/bash',\n",
       " 'mysql': '/bin/false',\n",
       " 'clamav': '/bin/false',\n",
       " 'amavis': '/bin/sh',\n",
       " 'opendkim': '/bin/false',\n",
       " 'gitlab-redis': '/bin/nologin',\n",
       " 'gitlab-psql': '/bin/sh',\n",
       " 'git': '/bin/bash',\n",
       " 'opendmarc': '/bin/false',\n",
       " 'dkim-milter-python': '/bin/false',\n",
       " 'deploy': '/bin/bash',\n",
       " 'redis': '/bin/false'}"
      ]
     },
     "execution_count": 37,
     "metadata": {},
     "output_type": "execute_result"
    }
   ],
   "source": [
    "{line.split(\":\")[0] : line.split(\":\")[-1].strip() for line in open(\"linux-etc-passwd.txt\") if \":\" in line}"
   ]
  },
  {
   "cell_type": "code",
   "execution_count": 38,
   "metadata": {},
   "outputs": [
    {
     "data": {
      "text/plain": [
       "{'root': '/bin/bash',\n",
       " 'daemon': '/usr/sbin/nologin',\n",
       " 'bin': '/usr/sbin/nologin',\n",
       " 'sys': '/usr/sbin/nologin',\n",
       " 'sync': '/bin/sync',\n",
       " 'games': '/usr/sbin/nologin',\n",
       " 'man': '/usr/sbin/nologin',\n",
       " 'lp': '/usr/sbin/nologin',\n",
       " 'mail': '/usr/sbin/nologin',\n",
       " 'news': '/usr/sbin/nologin',\n",
       " 'uucp': '/usr/sbin/nologin',\n",
       " 'proxy': '/usr/sbin/nologin',\n",
       " 'www-data': '/usr/sbin/nologin',\n",
       " 'backup': '/usr/sbin/nologin',\n",
       " 'list': '/usr/sbin/nologin',\n",
       " 'irc': '/usr/sbin/nologin',\n",
       " 'gnats': '/usr/sbin/nologin',\n",
       " 'nobody': '/usr/sbin/nologin',\n",
       " 'syslog': '/bin/false',\n",
       " 'messagebus': '/bin/false',\n",
       " 'landscape': '/bin/false',\n",
       " 'jci': '/bin/bash',\n",
       " 'sshd': '/usr/sbin/nologin',\n",
       " 'user': '/bin/bash',\n",
       " 'reuven': '/bin/bash',\n",
       " 'postfix': '/bin/false',\n",
       " 'colord': '/bin/false',\n",
       " 'postgres': '/bin/bash',\n",
       " 'dovecot': '/bin/false',\n",
       " 'dovenull': '/bin/false',\n",
       " 'postgrey': '/bin/false',\n",
       " 'debian-spamd': '/bin/sh',\n",
       " 'memcache': '/bin/false',\n",
       " 'genadi': '/bin/bash',\n",
       " 'shira': '/bin/bash',\n",
       " 'atara': '/bin/bash',\n",
       " 'shikma': '/bin/bash',\n",
       " 'amotz': '/bin/bash',\n",
       " 'mysql': '/bin/false',\n",
       " 'clamav': '/bin/false',\n",
       " 'amavis': '/bin/sh',\n",
       " 'opendkim': '/bin/false',\n",
       " 'gitlab-redis': '/bin/nologin',\n",
       " 'gitlab-psql': '/bin/sh',\n",
       " 'git': '/bin/bash',\n",
       " 'opendmarc': '/bin/false',\n",
       " 'dkim-milter-python': '/bin/false',\n",
       " 'deploy': '/bin/bash',\n",
       " 'redis': '/bin/false'}"
      ]
     },
     "execution_count": 38,
     "metadata": {},
     "output_type": "execute_result"
    }
   ],
   "source": [
    "# better version\n",
    "{field[0] : field[-1].strip() for line in open(\"linux-etc-passwd.txt\") if \":\" in line and (field := line.split(\":\"))}"
   ]
  },
  {
   "cell_type": "code",
   "execution_count": 39,
   "metadata": {},
   "outputs": [
    {
     "data": {
      "text/plain": [
       "[[10, 20, 25],\n",
       " [30, 35, 40, 45, 50],\n",
       " [60, 65, 70, 80, 90, 100],\n",
       " [110, 115, 120, 130, 140, 145]]"
      ]
     },
     "execution_count": 39,
     "metadata": {},
     "output_type": "execute_result"
    }
   ],
   "source": [
    "myList = [\n",
    "    [10, 20, 25],\n",
    "    [30, 35, 40, 45, 50],\n",
    "    [60, 65, 70, 80, 90, 100],\n",
    "    [110, 115, 120, 130, 140, 145]\n",
    "]\n",
    "\n",
    "myList"
   ]
  },
  {
   "cell_type": "code",
   "execution_count": 40,
   "metadata": {},
   "outputs": [
    {
     "data": {
      "text/plain": [
       "1480"
      ]
     },
     "execution_count": 40,
     "metadata": {},
     "output_type": "execute_result"
    }
   ],
   "source": [
    "# sum the integers in the nested list\n",
    "\n",
    "# NATIVE Approach\n",
    "result = 0\n",
    "for sublist in myList:\n",
    "    for num in sublist:\n",
    "        result += num\n",
    "\n",
    "result"
   ]
  },
  {
   "cell_type": "code",
   "execution_count": 41,
   "metadata": {},
   "outputs": [
    {
     "data": {
      "text/plain": [
       "1480"
      ]
     },
     "execution_count": 41,
     "metadata": {},
     "output_type": "execute_result"
    }
   ],
   "source": [
    "sum([num \n",
    "     for sublist in myList # outer loop\n",
    "     for num in sublist # nested loop\n",
    "])"
   ]
  },
  {
   "cell_type": "code",
   "execution_count": 42,
   "metadata": {},
   "outputs": [
    {
     "data": {
      "text/plain": [
       "[30, 35, 40, 45, 50, 60, 65, 70, 80, 90, 100, 110, 115, 120, 130, 140, 145]"
      ]
     },
     "execution_count": 42,
     "metadata": {},
     "output_type": "execute_result"
    }
   ],
   "source": [
    "# use condition\n",
    "[num \n",
    "     for sublist in myList if len(sublist) > 3\n",
    "     for num in sublist\n",
    "]"
   ]
  },
  {
   "cell_type": "code",
   "execution_count": 43,
   "metadata": {},
   "outputs": [
    {
     "data": {
      "text/plain": [
       "[35, 45, 65, 115, 145]"
      ]
     },
     "execution_count": 43,
     "metadata": {},
     "output_type": "execute_result"
    }
   ],
   "source": [
    "[num \n",
    "     for sublist in myList if len(sublist) > 3\n",
    "     for num in sublist if num % 2\n",
    "]"
   ]
  },
  {
   "cell_type": "code",
   "execution_count": 44,
   "metadata": {},
   "outputs": [
    {
     "name": "stdout",
     "output_type": "stream",
     "text": [
      "1::Toy Story (1995)::Animation|Children's|Comedy\r\n",
      "2::Jumanji (1995)::Adventure|Children's|Fantasy\r\n",
      "3::Grumpier Old Men (1995)::Comedy|Romance\r\n",
      "4::Waiting to Exhale (1995)::Comedy|Drama\r\n",
      "5::Father of the Bride Part II (1995)::Comedy\r\n",
      "6::Heat (1995)::Action|Crime|Thriller\r\n",
      "7::Sabrina (1995)::Comedy|Romance\r\n",
      "8::Tom and Huck (1995)::Adventure|Children's\r\n",
      "9::Sudden Death (1995)::Action\r\n",
      "10::GoldenEye (1995)::Action|Adventure|Thriller\r\n"
     ]
    }
   ],
   "source": [
    "!head movies.dat"
   ]
  },
  {
   "cell_type": "markdown",
   "metadata": {},
   "source": [
    "## Exercise: Movie genres\n",
    "\n",
    "Goal: Find out what the 5 most popular movie genres are in `movies.dat` file\n",
    "\n",
    "Use a nested comprehension to read through the file, find out appropriate fields and lines, then use `Counter` to find the most common genres.\n",
    "\n",
    "If a movie has more than 1 genre, each should be counted once."
   ]
  },
  {
   "cell_type": "code",
   "execution_count": 45,
   "metadata": {},
   "outputs": [
    {
     "data": {
      "text/plain": [
       "[('Drama', 1603),\n",
       " ('Comedy', 1200),\n",
       " ('Action', 503),\n",
       " ('Thriller', 492),\n",
       " ('Romance', 471)]"
      ]
     },
     "execution_count": 45,
     "metadata": {},
     "output_type": "execute_result"
    }
   ],
   "source": [
    "c = Counter([genre for line in open(\"movies.dat\") for genre in line.strip().split(\"::\")[2].split(\"|\")])\n",
    "c.most_common(5)"
   ]
  },
  {
   "cell_type": "markdown",
   "metadata": {},
   "source": [
    "## Generator\n",
    "\n",
    "A generator is an object that knows how to behave inside of a `for` loop -- because it is iterable\n",
    "\n",
    "The point of generator is that it doesn't return all of its elements at once. Rather, it only returns one a time.\n",
    "\n",
    "A generator expression works just like a list comprehension, except that instead of returning a list with all of its elements, it returns a generator object. That object can be put into a for loop (or any other iterable context), and it will only run the expression when it is asked to, typically once per iteration."
   ]
  },
  {
   "cell_type": "code",
   "execution_count": 46,
   "metadata": {},
   "outputs": [
    {
     "data": {
      "text/plain": [
       "<generator object <genexpr> at 0x7f2b339bc970>"
      ]
     },
     "execution_count": 46,
     "metadata": {},
     "output_type": "execute_result"
    }
   ],
   "source": [
    "(x**2 for x in range(10))"
   ]
  },
  {
   "cell_type": "code",
   "execution_count": 47,
   "metadata": {},
   "outputs": [
    {
     "data": {
      "text/plain": [
       "'10*20*30'"
      ]
     },
     "execution_count": 47,
     "metadata": {},
     "output_type": "execute_result"
    }
   ],
   "source": [
    "# generator expression\n",
    "\"*\".join(\n",
    "    str(item) for item in [10, 20, 30]\n",
    ")"
   ]
  },
  {
   "cell_type": "code",
   "execution_count": 48,
   "metadata": {},
   "outputs": [
    {
     "data": {
      "text/plain": [
       "'10*20*30'"
      ]
     },
     "execution_count": 48,
     "metadata": {},
     "output_type": "execute_result"
    }
   ],
   "source": [
    "# list comprehenion\n",
    "\"*\".join(\n",
    "    [str(item) for item in [10, 20, 30]]\n",
    ")"
   ]
  },
  {
   "cell_type": "code",
   "execution_count": 49,
   "metadata": {},
   "outputs": [
    {
     "data": {
      "text/plain": [
       "<generator object myGen at 0x7f2b339bd310>"
      ]
     },
     "execution_count": 49,
     "metadata": {},
     "output_type": "execute_result"
    }
   ],
   "source": [
    "def myGen():\n",
    "    yield 10\n",
    "    yield 20\n",
    "    yield 30\n",
    "    \n",
    "myGen()"
   ]
  },
  {
   "cell_type": "code",
   "execution_count": 50,
   "metadata": {},
   "outputs": [
    {
     "name": "stdout",
     "output_type": "stream",
     "text": [
      "10\n",
      "20\n",
      "30\n"
     ]
    }
   ],
   "source": [
    "for x in myGen():\n",
    "    print(x)"
   ]
  },
  {
   "cell_type": "code",
   "execution_count": 51,
   "metadata": {},
   "outputs": [
    {
     "data": {
      "text/plain": [
       "<generator object myGen.<locals>.<genexpr> at 0x7f2b339bd540>"
      ]
     },
     "execution_count": 51,
     "metadata": {},
     "output_type": "execute_result"
    }
   ],
   "source": [
    "# do the same things by writing a function that returns a generator expression\n",
    "def myGen():\n",
    "    return (line for line in [10, 20, 30, 40])\n",
    "\n",
    "myGen()"
   ]
  },
  {
   "cell_type": "code",
   "execution_count": 52,
   "metadata": {},
   "outputs": [
    {
     "data": {
      "text/plain": [
       "12"
      ]
     },
     "execution_count": 52,
     "metadata": {},
     "output_type": "execute_result"
    }
   ],
   "source": [
    "x = 100\n",
    "\n",
    "for num in range(5):\n",
    "    x = num * 3\n",
    "\n",
    "x # what is x's value?"
   ]
  },
  {
   "cell_type": "code",
   "execution_count": 53,
   "metadata": {},
   "outputs": [
    {
     "name": "stdout",
     "output_type": "stream",
     "text": [
      "[0, 3, 6, 9, 12]\n"
     ]
    },
    {
     "data": {
      "text/plain": [
       "100"
      ]
     },
     "execution_count": 53,
     "metadata": {},
     "output_type": "execute_result"
    }
   ],
   "source": [
    "x = 100\n",
    "\n",
    "print([x*3 for x in range(5)])\n",
    "\n",
    "x # seems like x is unchanged"
   ]
  },
  {
   "cell_type": "code",
   "execution_count": 54,
   "metadata": {},
   "outputs": [
    {
     "name": "stdout",
     "output_type": "stream",
     "text": [
      "  4           0 LOAD_CONST               1 (100)\n",
      "              2 STORE_FAST               0 (x)\n",
      "\n",
      "  6           4 LOAD_GLOBAL              0 (range)\n",
      "              6 LOAD_CONST               2 (5)\n",
      "              8 CALL_FUNCTION            1\n",
      "             10 GET_ITER\n",
      "        >>   12 FOR_ITER                 6 (to 26)\n",
      "             14 STORE_FAST               1 (num)\n",
      "\n",
      "  7          16 LOAD_FAST                1 (num)\n",
      "             18 LOAD_CONST               3 (3)\n",
      "             20 BINARY_MULTIPLY\n",
      "             22 STORE_FAST               0 (x)\n",
      "             24 JUMP_ABSOLUTE            6 (to 12)\n",
      "\n",
      "  6     >>   26 LOAD_CONST               0 (None)\n",
      "             28 RETURN_VALUE\n"
     ]
    }
   ],
   "source": [
    "import dis\n",
    "\n",
    "def regular_loop():\n",
    "    x = 100\n",
    "    \n",
    "    for num in range(5):\n",
    "        x = num * 3\n",
    "        \n",
    "dis.dis(regular_loop)"
   ]
  },
  {
   "cell_type": "code",
   "execution_count": 55,
   "metadata": {},
   "outputs": [
    {
     "name": "stdout",
     "output_type": "stream",
     "text": [
      "  2           0 LOAD_CONST               1 (100)\n",
      "              2 STORE_FAST               0 (x)\n",
      "\n",
      "  4           4 LOAD_GLOBAL              0 (print)\n",
      "              6 LOAD_CONST               2 (<code object <listcomp> at 0x7f2b33976a20, file \"/tmp/ipykernel_1044/2847522135.py\", line 4>)\n",
      "              8 LOAD_CONST               3 ('comp_loop.<locals>.<listcomp>')\n",
      "             10 MAKE_FUNCTION            0\n",
      "             12 LOAD_GLOBAL              1 (range)\n",
      "             14 LOAD_CONST               4 (5)\n",
      "             16 CALL_FUNCTION            1\n",
      "             18 GET_ITER\n",
      "             20 CALL_FUNCTION            1\n",
      "             22 CALL_FUNCTION            1\n",
      "             24 POP_TOP\n",
      "             26 LOAD_CONST               0 (None)\n",
      "             28 RETURN_VALUE\n",
      "\n",
      "Disassembly of <code object <listcomp> at 0x7f2b33976a20, file \"/tmp/ipykernel_1044/2847522135.py\", line 4>:\n",
      "  4           0 BUILD_LIST               0\n",
      "              2 LOAD_FAST                0 (.0)\n",
      "        >>    4 FOR_ITER                 6 (to 18)\n",
      "              6 STORE_FAST               1 (x)\n",
      "              8 LOAD_FAST                1 (x)\n",
      "             10 LOAD_CONST               0 (3)\n",
      "             12 BINARY_MULTIPLY\n",
      "             14 LIST_APPEND              2\n",
      "             16 JUMP_ABSOLUTE            2 (to 4)\n",
      "        >>   18 RETURN_VALUE\n"
     ]
    }
   ],
   "source": [
    "def comp_loop():\n",
    "    x = 100\n",
    "    \n",
    "    print([x*3 for x in range(5)])\n",
    "        \n",
    "dis.dis(comp_loop)"
   ]
  }
 ],
 "metadata": {
  "kernelspec": {
   "display_name": "Python 3 (system-wide)",
   "language": "python",
   "name": "python3"
  },
  "language_info": {
   "codemirror_mode": {
    "name": "ipython",
    "version": 3
   },
   "file_extension": ".py",
   "mimetype": "text/x-python",
   "name": "python",
   "nbconvert_exporter": "python",
   "pygments_lexer": "ipython3",
   "version": "3.10.12"
  }
 },
 "nbformat": 4,
 "nbformat_minor": 4
}
