{
 "cells": [
  {
   "cell_type": "markdown",
   "id": "054b8cb6-4980-49b8-8576-6114184eabca",
   "metadata": {},
   "source": [
    "# Fundamental Concepts｜Session 1 to 16\n",
    "\n",
    "In Java, a name is considered an identifier, which is used for identification purposes. Identifiers can include method names, variable names, class names, and label names.\n",
    "\n",
    "![identifiers](https://i.ibb.co.com/vQCVxVc/image.png)\n",
    "\n",
    "## Rules for Defining Identifer\n",
    "\n",
    "* Identifiers cannot start with a digit.\n",
    "* Only the following characters are allowed: `a-z`, `A-Z`, `0-9`, `$`, and `_`.\n",
    "* Identifiers are case-sensitive; for example, `int x = 50;` and `int X = 40;` are different.\n",
    "* There is no length limit for identifiers.\n",
    "* Reserved words cannot be used as identifiers.\n",
    "\n",
    "> All predefined Java ClassName and Interface can be used as identifier."
   ]
  },
  {
   "cell_type": "code",
   "execution_count": 1,
   "id": "ed4697b4-da13-4320-9b8d-48bac7dd9b94",
   "metadata": {},
   "outputs": [
    {
     "data": {
      "text/plain": [
       "21.0.1"
      ]
     },
     "execution_count": 1,
     "metadata": {},
     "output_type": "execute_result"
    }
   ],
   "source": [
    "System.getProperty(\"java.version\");"
   ]
  },
  {
   "cell_type": "code",
   "execution_count": 2,
   "id": "133f4e0d-b21b-4127-b369-a657ca09ddc9",
   "metadata": {},
   "outputs": [
    {
     "data": {
      "text/plain": [
       "888"
      ]
     },
     "execution_count": 2,
     "metadata": {},
     "output_type": "execute_result"
    }
   ],
   "source": [
    "int String = 888; // predefined class\n",
    "String;"
   ]
  },
  {
   "cell_type": "code",
   "execution_count": 3,
   "id": "ea257cc3-bdbc-415c-96b3-3c490abbd18e",
   "metadata": {},
   "outputs": [
    {
     "data": {
      "text/plain": [
       "999"
      ]
     },
     "execution_count": 3,
     "metadata": {},
     "output_type": "execute_result"
    }
   ],
   "source": [
    "int Runnable = 999; // predefined interface\n",
    "Runnable;"
   ]
  },
  {
   "cell_type": "markdown",
   "id": "76a76443-2168-4889-92ce-a22509d19ef8",
   "metadata": {},
   "source": [
    "### Reserve Words\n",
    "\n",
    "Java has 53 reserve keywords:\n",
    "\n",
    "![reserve words](https://i.ibb.co.com/61HMD9p/image.png)\n",
    "\n",
    "* **Control Flow Keywords**: for, break, continue, do, while, if, else, return, switch, case, default.\n",
    "* **Exception Handling Keywords**: try, catch, finally, throw, throws, assert.\n",
    "* **Class and Object Keywords**: class, extends, implements, package, interface, import, new, instanceof, super, this.\n",
    "* **Data Types and Variables**: boolean, byte, char, double, float, int, long, short.\n",
    "* **Access Modifiers**: private, protected, public.\n",
    "* **Modifiers**: final, static, abstract, synchronized, native, transient, volatile, strictfp.\n",
    "* **Other Keywords**: void, enum, goto, const, true, false, null.\n",
    "\n",
    "Java is a strongly typed programming language that follows strict type checking.\n",
    "\n",
    "* Is Java a pure OOP language?\n",
    "    * No, it is not considered a pure OOP language because it lacks certain OOP concepts like operator overloading and multiple inheritance. Additionally, Java relies on primitive types, which are not objects.\n",
    " \n",
    "## Data Types\n",
    "\n",
    "Java has 8 primitive data types:\n",
    "\n",
    "![primtive-types](https://files.catbox.moe/bzj3gs.png)\n",
    "\n",
    "* byte (1 byte)\n",
    "* short (2 bytes)\n",
    "* int (4 bytes)\n",
    "* long (8 bytes)\n",
    "* float (4 bytes)\n",
    "* double (8 bytes)\n",
    "* char (2 bytes)\n",
    "* boolean\n",
    "\n",
    "All numeric data types are called signed types because they can represent both positive and negative values.\n",
    "\n",
    "**Signed bit**:\n",
    "\n",
    "* 0 - positive (+ve)\n",
    "* 1 - negative (-ve)\n",
    "\n",
    "### byte type\n",
    "\n",
    "The byte data type is 1 byte (8 bits) and has a range from ${-128}$ to ${127}$. It is particularly useful for managing data streams in files or over networks.\n",
    "\n",
    "Java has 2 types of streams:\n",
    "\n",
    "* char\n",
    "* byte"
   ]
  },
  {
   "cell_type": "code",
   "execution_count": 4,
   "id": "1c243282-2f23-4428-b780-d40bb347d33d",
   "metadata": {},
   "outputs": [
    {
     "ename": "CompilationException",
     "evalue": "",
     "output_type": "error",
     "traceback": [
      "\u001b[1m\u001b[30m|   \u001b[1m\u001b[30mx = \u001b[0m\u001b[1m\u001b[30m\u001b[41m128\u001b[0m\u001b[1m\u001b[30m;\u001b[0m",
      "\u001b[1m\u001b[31mincompatible types: possible lossy conversion from int to byte\u001b[0m",
      ""
     ]
    }
   ],
   "source": [
    "byte x = 10;\n",
    "x = 127;\n",
    "x = 128;"
   ]
  },
  {
   "cell_type": "code",
   "execution_count": 5,
   "id": "70a9e85e-e804-4172-b0dd-3f772bee387c",
   "metadata": {},
   "outputs": [
    {
     "ename": "CompilationException",
     "evalue": "",
     "output_type": "error",
     "traceback": [
      "\u001b[1m\u001b[30m|   \u001b[1m\u001b[30mx = \u001b[0m\u001b[1m\u001b[30m\u001b[41m10.5\u001b[0m\u001b[1m\u001b[30m;\u001b[0m",
      "\u001b[1m\u001b[31mincompatible types: possible lossy conversion from double to byte\u001b[0m",
      ""
     ]
    }
   ],
   "source": [
    "x = 10.5;"
   ]
  },
  {
   "cell_type": "code",
   "execution_count": 6,
   "id": "77beb44e-afa6-46d9-9187-03f3bad2e72f",
   "metadata": {},
   "outputs": [
    {
     "ename": "CompilationException",
     "evalue": "",
     "output_type": "error",
     "traceback": [
      "\u001b[1m\u001b[30m|   \u001b[1m\u001b[30mx = \u001b[0m\u001b[1m\u001b[30m\u001b[41mtrue\u001b[0m\u001b[1m\u001b[30m;\u001b[0m",
      "\u001b[1m\u001b[31mincompatible types: boolean cannot be converted to byte\u001b[0m",
      ""
     ]
    }
   ],
   "source": [
    "x = true;"
   ]
  },
  {
   "cell_type": "markdown",
   "id": "8012a223-c043-4d8c-b73f-5e5a78bc2c2e",
   "metadata": {},
   "source": [
    "### short type\n",
    "\n",
    "The short data type is 2 bytes (16 bits) in size, with a range from -32,768 to 32,767 or ${-2^{15}}$ to ${2^{15} - 1}$. It is well-suited for use with 16-bit processors."
   ]
  },
  {
   "cell_type": "code",
   "execution_count": 7,
   "id": "51879d0f-44b0-4221-83a8-605f4004770e",
   "metadata": {},
   "outputs": [
    {
     "ename": "CompilationException",
     "evalue": "",
     "output_type": "error",
     "traceback": [
      "\u001b[1m\u001b[30m|   \u001b[1m\u001b[30my = \u001b[0m\u001b[1m\u001b[30m\u001b[41mtrue\u001b[0m\u001b[1m\u001b[30m;\u001b[0m",
      "\u001b[1m\u001b[31mincompatible types: boolean cannot be converted to short\u001b[0m",
      ""
     ]
    }
   ],
   "source": [
    "short y = 10;\n",
    "y = true;"
   ]
  },
  {
   "cell_type": "code",
   "execution_count": 8,
   "id": "b551b4f0-18ea-460d-b57d-26b4c3eaf0cb",
   "metadata": {},
   "outputs": [
    {
     "ename": "CompilationException",
     "evalue": "",
     "output_type": "error",
     "traceback": [
      "\u001b[1m\u001b[30m|   \u001b[1m\u001b[30my = \u001b[0m\u001b[1m\u001b[30m\u001b[41m10.5\u001b[0m\u001b[1m\u001b[30m;\u001b[0m",
      "\u001b[1m\u001b[31mincompatible types: possible lossy conversion from double to short\u001b[0m",
      ""
     ]
    }
   ],
   "source": [
    "y = 10.5;"
   ]
  },
  {
   "cell_type": "code",
   "execution_count": 9,
   "id": "c810aa96-98a5-456d-bf90-382af48f9fcb",
   "metadata": {},
   "outputs": [
    {
     "ename": "CompilationException",
     "evalue": "",
     "output_type": "error",
     "traceback": [
      "\u001b[1m\u001b[30m|   \u001b[1m\u001b[30my = \u001b[0m\u001b[1m\u001b[30m\u001b[41m\"string\"\u001b[0m\u001b[1m\u001b[30m;\u001b[0m",
      "\u001b[1m\u001b[31mincompatible types: java.lang.String cannot be converted to short\u001b[0m",
      ""
     ]
    }
   ],
   "source": [
    "y = \"string\";"
   ]
  },
  {
   "cell_type": "code",
   "execution_count": 10,
   "id": "b472e412-1a9b-43f5-9a10-a486e85e7c86",
   "metadata": {},
   "outputs": [
    {
     "ename": "CompilationException",
     "evalue": "",
     "output_type": "error",
     "traceback": [
      "\u001b[1m\u001b[30m|   \u001b[1m\u001b[30my = \u001b[0m\u001b[1m\u001b[30m\u001b[41m32768\u001b[0m\u001b[1m\u001b[30m;\u001b[0m",
      "\u001b[1m\u001b[31mincompatible types: possible lossy conversion from int to short\u001b[0m",
      ""
     ]
    }
   ],
   "source": [
    "y = 32768;"
   ]
  },
  {
   "cell_type": "markdown",
   "id": "e954a2c9-5cd4-4d7e-80fb-c301b7cce835",
   "metadata": {},
   "source": [
    "### int type\n",
    "\n",
    "The int data type is typically 4 bytes (32 bits) in size, with a range from -2,147,483,648 to 2,147,483,647 or ${-2^{31}}$ to ${2^{31} - 1}$."
   ]
  },
  {
   "cell_type": "code",
   "execution_count": 11,
   "id": "994d1db1-cd86-4fd9-b659-46c2d8471fc5",
   "metadata": {},
   "outputs": [
    {
     "ename": "CompilationException",
     "evalue": "",
     "output_type": "error",
     "traceback": [
      "\u001b[1m\u001b[30m|   \u001b[1m\u001b[30mint z = \u001b[0m\u001b[1m\u001b[30m\u001b[41m\u001b[0m\u001b[1m\u001b[30m21474833648;\u001b[0m",
      "\u001b[1m\u001b[31minteger number too large\u001b[0m",
      ""
     ]
    }
   ],
   "source": [
    "int z = 21474833648;"
   ]
  },
  {
   "cell_type": "code",
   "execution_count": 12,
   "id": "0a0a2830-54f8-4d3e-8ffa-399e66de5503",
   "metadata": {},
   "outputs": [
    {
     "ename": "CompilationException",
     "evalue": "",
     "output_type": "error",
     "traceback": [
      "\u001b[1m\u001b[30m|   \u001b[1m\u001b[30mint z = \u001b[0m\u001b[1m\u001b[30m\u001b[41m214748336489l\u001b[0m\u001b[1m\u001b[30m;\u001b[0m",
      "\u001b[1m\u001b[31mincompatible types: possible lossy conversion from long to int\u001b[0m",
      ""
     ]
    }
   ],
   "source": [
    "int z = 214748336489l;"
   ]
  },
  {
   "cell_type": "code",
   "execution_count": 13,
   "id": "d9c0d049-c013-4c1d-81d2-016e95decbae",
   "metadata": {},
   "outputs": [
    {
     "ename": "CompilationException",
     "evalue": "",
     "output_type": "error",
     "traceback": [
      "\u001b[1m\u001b[30m|   \u001b[1m\u001b[30mint z = \u001b[0m\u001b[1m\u001b[30m\u001b[41mtrue\u001b[0m\u001b[1m\u001b[30m;\u001b[0m",
      "\u001b[1m\u001b[31mincompatible types: boolean cannot be converted to int\u001b[0m",
      ""
     ]
    }
   ],
   "source": [
    "int z = true;"
   ]
  },
  {
   "cell_type": "code",
   "execution_count": 14,
   "id": "d2cdfdd2-714d-46be-b344-b8991da3259b",
   "metadata": {},
   "outputs": [
    {
     "data": {
      "text/plain": [
       "214748336489"
      ]
     },
     "execution_count": 14,
     "metadata": {},
     "output_type": "execute_result"
    }
   ],
   "source": [
    "long z = 214748336489l;\n",
    "z;"
   ]
  },
  {
   "cell_type": "markdown",
   "id": "e84ecb12-837e-43b5-9da3-ec7d12b4e55c",
   "metadata": {},
   "source": [
    "### char type\n",
    "\n",
    "In Java, `char` type takes 2 bytes. Because it supports unicode characters. Old language like `C` only supports ASCI characters. Range between ${0}$ to ${65535}$.\n",
    "\n",
    "```java\n",
    "char ch = \"H\";\n",
    "ch = null; // Incompatable type error\n",
    "```\n",
    "\n",
    "### long type\n",
    "\n",
    "The long data type is typically 8 bytes (64 bits) in size, with a range from ${-2^{63}}$ to ${2^{63} - 1}$. \n",
    "\n",
    "```java\n",
    "long l = 45l;\n",
    "```\n",
    "\n",
    "### float & double type\n",
    "\n",
    "Difference between float and double types:\n",
    "\n",
    "* Float\n",
    "    *  If you want 5 to 6 decimal places then use float\n",
    "    *  Single precision\n",
    "    *  4 bytes\n",
    "    *  Range: -3.4e38 to 3.4e38\n",
    "* Double\n",
    "    * If you want 14 to 16 decimal places then use double\n",
    "    * Double precision\n",
    "    * 8 bytes\n",
    "    * Range: 4.9e-324 to 1.7e+308\n",
    " \n",
    "### boolean type\n",
    "\n",
    "Size is not applicable. Mostly depends on JVM. Allowed values are either `true` or `false`\n",
    "\n",
    "```java\n",
    "boolean b = true;\n",
    "boolean c = false;\n",
    "```"
   ]
  },
  {
   "cell_type": "code",
   "execution_count": 15,
   "id": "2fccc219-f017-49c5-b591-c0ce88e5c610",
   "metadata": {},
   "outputs": [
    {
     "ename": "CompilationException",
     "evalue": "",
     "output_type": "error",
     "traceback": [
      "\u001b[1m\u001b[30m|   \u001b[1m\u001b[30mboolean v = \u001b[0m\u001b[1m\u001b[30m\u001b[41m0\u001b[0m\u001b[1m\u001b[30m;\u001b[0m",
      "\u001b[1m\u001b[31mincompatible types: int cannot be converted to boolean\u001b[0m",
      ""
     ]
    }
   ],
   "source": [
    "boolean v = 0;"
   ]
  },
  {
   "cell_type": "code",
   "execution_count": 16,
   "id": "09d680fc-0753-419f-8c1f-582696088505",
   "metadata": {},
   "outputs": [
    {
     "ename": "CompilationException",
     "evalue": "",
     "output_type": "error",
     "traceback": [
      "\u001b[1m\u001b[30m|   \u001b[1m\u001b[30m\u001b[0m\u001b[1m\u001b[30m\u001b[41mv\u001b[0m\u001b[1m\u001b[30m = True;\u001b[0m",
      "\u001b[1m\u001b[31mcannot find symbol\u001b[0m",
      "\u001b[1m\u001b[31m  symbol:   variable v\u001b[0m",
      "",
      "\u001b[1m\u001b[30m|   \u001b[1m\u001b[30mv = \u001b[0m\u001b[1m\u001b[30m\u001b[41mTrue\u001b[0m\u001b[1m\u001b[30m;\u001b[0m",
      "\u001b[1m\u001b[31mcannot find symbol\u001b[0m",
      "\u001b[1m\u001b[31m  symbol:   variable True\u001b[0m",
      ""
     ]
    }
   ],
   "source": [
    "v = True;"
   ]
  },
  {
   "cell_type": "code",
   "execution_count": 17,
   "id": "041062d3-1301-4d74-860c-3ab904283118",
   "metadata": {},
   "outputs": [
    {
     "ename": "CompilationException",
     "evalue": "",
     "output_type": "error",
     "traceback": [
      "\u001b[1m\u001b[30m|   \u001b[1m\u001b[30mif (\u001b[0m\u001b[1m\u001b[30m\u001b[41mX\u001b[0m\u001b[1m\u001b[30m) { // works fne in C/C++\u001b[0m",
      "\u001b[1m\u001b[31mincompatible types: int cannot be converted to boolean\u001b[0m",
      ""
     ]
    }
   ],
   "source": [
    "int X = 0;\n",
    "\n",
    "if (X) { // works fne in C/C++\n",
    "    System.out.println(\"Hello\");\n",
    "} else {\n",
    "    System.out.println(\"World\");\n",
    "}"
   ]
  },
  {
   "cell_type": "markdown",
   "id": "f41f86af-f00c-48fd-8eb2-41bb2528f442",
   "metadata": {},
   "source": [
    "## Literals\n",
    "\n",
    "Any constant value which can be assigned to a variable is called literal.\n",
    "\n",
    "In this `int x = 10;` statement:\n",
    "\n",
    "* `int` is the data type/keyword.\n",
    "* `x` is the identifier/variable.\n",
    "* `10` is the constant value/literal.\n",
    "\n",
    "### Integral Literals\n",
    "\n",
    "* `byte`\n",
    "* `short`\n",
    "* `int`\n",
    "* `long`\n",
    "  \n",
    "For integral data types, values can be specified in the following formats:\n",
    "\n",
    "* Decimal (base 10):\n",
    "    * `int x = 10;`\n",
    "    * Allowed digits are 0 to 9.\n",
    "* Octal (base 8):\n",
    "    * `int x = 010;`\n",
    "    * Allowed digits are 0 to 7.\n",
    "* Hexadecimal (base 16):\n",
    "    * `int x = 0x10;`\n",
    "    * Allowed digits are 0 to 9 and a to f (case insensitive).\n",
    "  \n",
    "> Every integral lierals (byte, short, long, int) are by default `int` type.\n",
    "\n",
    "```java\n",
    "int x = 10;\n",
    "int x = 0786; ❌\n",
    "int x = 0777;\n",
    "\n",
    "int x = 0xFace;\n",
    "int x = 0xBeef;\n",
    "int x = 0xBeer; ❌\n",
    "```\n",
    "\n",
    "If you want to make intergal literals are long then you have to suffix `l/L`.\n",
    "\n",
    "```java\n",
    "long l = 0xFaceL; // 64206 in decimal\n",
    "\n",
    "int x = 10;\n",
    "long l = 10l;\n",
    "int x = 10L; ❌\n",
    "\n",
    "long l = 20;\n",
    "byte x = 010;\n",
    "short x = 011;\n",
    "```"
   ]
  },
  {
   "cell_type": "code",
   "execution_count": 18,
   "id": "e8752948-58bd-4a4a-ac6d-52fe5cd6752b",
   "metadata": {},
   "outputs": [
    {
     "name": "stdout",
     "output_type": "stream",
     "text": [
      "10---8---16\n"
     ]
    }
   ],
   "source": [
    "int a = 10;\n",
    "int b = 010;\n",
    "int c = 0x10;\n",
    "\n",
    "// JVM always return output in decimal format\n",
    "System.out.println(a + \"---\" + b + \"---\" + c);"
   ]
  },
  {
   "cell_type": "markdown",
   "id": "e6afe596-dc8e-4146-a473-21567641648d",
   "metadata": {},
   "source": [
    "### Floating Literals\n",
    "\n",
    "By default every floating point literals is `double`.\n",
    "\n",
    "```java\n",
    "float f = 123.456F;\n",
    "double d = 123.456;\n",
    "\n",
    "double d = 0123.456d;\n",
    "float f = 123.4567d; ❌\n",
    "double d = 01123.456;\n",
    "double d = 0x123.456; ❌\n",
    "\n",
    "double d = 0786; ❌\n",
    "double d = 0xFace;\n",
    "double d = 0xF1ace;\n",
    "\n",
    "double d = 07865.0;\n",
    "double d = 0xFace.0; ❌\n",
    "double d = 0.7777;\n",
    "\n",
    "double d = 10;\n",
    "int x = 10.0; ❌\n",
    "\n",
    "double d = 1.2e3;\n",
    "float f = 1.2e3; ❌\n",
    "f = 1.2e3F;\n",
    "```"
   ]
  },
  {
   "cell_type": "code",
   "execution_count": 19,
   "id": "2db7ba43-ab1b-4651-bf85-6ea37e098742",
   "metadata": {},
   "outputs": [
    {
     "ename": "CompilationException",
     "evalue": "",
     "output_type": "error",
     "traceback": [
      "\u001b[1m\u001b[30m|   \u001b[1m\u001b[30mfloat f = \u001b[0m\u001b[1m\u001b[30m\u001b[41m123.456\u001b[0m\u001b[1m\u001b[30m;\u001b[0m",
      "\u001b[1m\u001b[31mincompatible types: possible lossy conversion from double to float\u001b[0m",
      ""
     ]
    }
   ],
   "source": [
    "float f = 123.456;"
   ]
  },
  {
   "cell_type": "code",
   "execution_count": 20,
   "id": "fb640dff-787d-4c7c-80b8-6f4d8231b1f2",
   "metadata": {},
   "outputs": [
    {
     "ename": "CompilationException",
     "evalue": "",
     "output_type": "error",
     "traceback": [
      "\u001b[1m\u001b[30m|   \u001b[1m\u001b[30mdouble d = \u001b[0m\u001b[1m\u001b[30m\u001b[41m\u001b[0m\u001b[1m\u001b[30m0x123.456;\u001b[0m",
      "\u001b[1m\u001b[31mmalformed floating-point literal\u001b[0m",
      ""
     ]
    }
   ],
   "source": [
    "// floating point literals only you can specifiy in decimal format\n",
    "double d = 0x123.456;"
   ]
  },
  {
   "cell_type": "markdown",
   "id": "1ace6b84-7d2c-452c-8551-f130549a821e",
   "metadata": {},
   "source": [
    "### Boolean Literals\n",
    "\n",
    "Possible values are either `true` or `false`. Default value is `false`.\n",
    "\n",
    "```java\n",
    "boolean b = true;\n",
    "boolean b = 1;\n",
    "\n",
    "boolean b = \"true\"; ❌\n",
    "boolean b = True; ❌\n",
    "```"
   ]
  },
  {
   "cell_type": "markdown",
   "id": "d7d964c9-7299-41ad-b42b-a998810ce2ad",
   "metadata": {},
   "source": [
    "### Character Literals"
   ]
  },
  {
   "cell_type": "code",
   "execution_count": null,
   "id": "0ca6b4f8-a0d5-4909-be96-6757d4b80704",
   "metadata": {},
   "outputs": [],
   "source": []
  }
 ],
 "metadata": {
  "kernelspec": {
   "display_name": "Java",
   "language": "java",
   "name": "java"
  },
  "language_info": {
   "codemirror_mode": "java",
   "file_extension": ".jshell",
   "mimetype": "text/x-java-source",
   "name": "Java",
   "pygments_lexer": "java",
   "version": "21.0.1+12-LTS"
  }
 },
 "nbformat": 4,
 "nbformat_minor": 5
}
