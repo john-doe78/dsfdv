{
 "cells": [
  {
   "cell_type": "markdown",
   "metadata": {},
   "source": [
    "# Python Decorators\n",
    "\n",
    "In python everything is an object even function"
   ]
  },
  {
   "cell_type": "code",
   "execution_count": 1,
   "metadata": {},
   "outputs": [
    {
     "data": {
      "text/plain": [
       "'hello'"
      ]
     },
     "execution_count": 1,
     "metadata": {},
     "output_type": "execute_result"
    }
   ],
   "source": [
    "def f1():\n",
    "    return 'hello'\n",
    "\n",
    "# f1 is a reference variable that holding function object\n",
    "f1()"
   ]
  },
  {
   "cell_type": "code",
   "execution_count": 2,
   "metadata": {},
   "outputs": [
    {
     "data": {
      "text/plain": [
       "140352756658624"
      ]
     },
     "execution_count": 2,
     "metadata": {},
     "output_type": "execute_result"
    }
   ],
   "source": [
    "id(f1)"
   ]
  },
  {
   "cell_type": "markdown",
   "metadata": {},
   "source": [
    "## Function Aliasing\n",
    "\n",
    "We can give another name of existing function, which is called function aliasing.\n",
    "\n",
    "* In Python, everything is an Object.\n",
    "* Even function is also internally considered as an object only.\n",
    "* For the existing function, we can give another name, which is nothing but function aliasing.\n",
    "* If we delete one name, still we can access that function by using alias name."
   ]
  },
  {
   "cell_type": "code",
   "execution_count": 3,
   "metadata": {},
   "outputs": [
    {
     "data": {
      "text/plain": [
       "<function __main__.wish(name='John')>"
      ]
     },
     "execution_count": 3,
     "metadata": {},
     "output_type": "execute_result"
    }
   ],
   "source": [
    "def wish(name='John'):\n",
    "    print(f'Hello {name}')\n",
    "\n",
    "greeting = wish # function aliasing\n",
    "greeting"
   ]
  },
  {
   "cell_type": "code",
   "execution_count": 4,
   "metadata": {},
   "outputs": [
    {
     "data": {
      "text/plain": [
       "<function __main__.wish(name='John')>"
      ]
     },
     "execution_count": 4,
     "metadata": {},
     "output_type": "execute_result"
    }
   ],
   "source": [
    "wish"
   ]
  },
  {
   "cell_type": "code",
   "execution_count": 5,
   "metadata": {},
   "outputs": [
    {
     "data": {
      "text/plain": [
       "True"
      ]
     },
     "execution_count": 5,
     "metadata": {},
     "output_type": "execute_result"
    }
   ],
   "source": [
    "id(wish) == id(greeting)"
   ]
  },
  {
   "cell_type": "code",
   "execution_count": 6,
   "metadata": {},
   "outputs": [
    {
     "name": "stdout",
     "output_type": "stream",
     "text": [
      "Hello John\n"
     ]
    }
   ],
   "source": [
    "greeting()"
   ]
  },
  {
   "cell_type": "code",
   "execution_count": 7,
   "metadata": {},
   "outputs": [
    {
     "name": "stdout",
     "output_type": "stream",
     "text": [
      "Hello Rena\n"
     ]
    }
   ],
   "source": [
    "wish('Rena')"
   ]
  },
  {
   "cell_type": "code",
   "execution_count": 8,
   "metadata": {},
   "outputs": [
    {
     "data": {
      "text/plain": [
       "True"
      ]
     },
     "execution_count": 8,
     "metadata": {},
     "output_type": "execute_result"
    }
   ],
   "source": [
    "greeting is wish"
   ]
  },
  {
   "cell_type": "code",
   "execution_count": 9,
   "metadata": {},
   "outputs": [],
   "source": [
    "del wish"
   ]
  },
  {
   "cell_type": "code",
   "execution_count": 10,
   "metadata": {},
   "outputs": [
    {
     "data": {
      "text/plain": [
       "<function __main__.wish(name='John')>"
      ]
     },
     "execution_count": 10,
     "metadata": {},
     "output_type": "execute_result"
    }
   ],
   "source": [
    "greeting"
   ]
  },
  {
   "cell_type": "markdown",
   "metadata": {},
   "source": [
    "## Nested function\n",
    "\n",
    "When a function is declared inside another function is called nested function."
   ]
  },
  {
   "cell_type": "code",
   "execution_count": 11,
   "metadata": {},
   "outputs": [],
   "source": [
    "def outer():\n",
    "    print('This is from outer function')\n",
    "    \n",
    "    def inner():\n",
    "        print('This is from inner function')\n",
    "    \n",
    "    print('Outer function exeution completed')"
   ]
  },
  {
   "cell_type": "code",
   "execution_count": 12,
   "metadata": {},
   "outputs": [
    {
     "name": "stdout",
     "output_type": "stream",
     "text": [
      "This is from outer function\n",
      "Outer function exeution completed\n"
     ]
    }
   ],
   "source": [
    "outer()"
   ]
  },
  {
   "cell_type": "code",
   "execution_count": 13,
   "metadata": {},
   "outputs": [],
   "source": [
    "def outer():\n",
    "    print('This is from outer function')\n",
    "    \n",
    "    def inner():\n",
    "        print('This is from inner function')\n",
    "    \n",
    "    # to call this from outside of function isn't possible, because inner is local to outer.\n",
    "    inner()"
   ]
  },
  {
   "cell_type": "code",
   "execution_count": 14,
   "metadata": {},
   "outputs": [
    {
     "name": "stdout",
     "output_type": "stream",
     "text": [
      "This is from outer function\n",
      "This is from inner function\n"
     ]
    }
   ],
   "source": [
    "outer()"
   ]
  },
  {
   "cell_type": "code",
   "execution_count": 15,
   "metadata": {},
   "outputs": [
    {
     "name": "stdout",
     "output_type": "stream",
     "text": [
      "Good Morning John, from outer\n",
      "Good Morning John, from inner\n"
     ]
    }
   ],
   "source": [
    "def outer(name):\n",
    "    print(f'Good Morning {name}, from outer')\n",
    "    \n",
    "    def inner(name):\n",
    "        print(f'Good Morning {name}, from inner')\n",
    "    \n",
    "    inner(name)\n",
    "\n",
    "outer('John')"
   ]
  },
  {
   "cell_type": "markdown",
   "metadata": {},
   "source": [
    "## Function as Return Value and Function as Argument\n",
    "\n",
    "```py\n",
    "def outer():\n",
    "    return \"Hi\"\n",
    "\n",
    "f1 = outer() # outer function will be executed and return a value \n",
    "xyz = outer # function aliasing\n",
    "```"
   ]
  },
  {
   "cell_type": "code",
   "execution_count": 16,
   "metadata": {},
   "outputs": [
    {
     "data": {
      "text/plain": [
       "'Hello World'"
      ]
     },
     "execution_count": 16,
     "metadata": {},
     "output_type": "execute_result"
    }
   ],
   "source": [
    "def outer():\n",
    "    def inner():\n",
    "        return 'Hello World'\n",
    "    \n",
    "    return inner # returning the inner function object and f1 is holding the object.\n",
    "\n",
    "# first outer is executed, then return value(inner obj) stored in f1.\n",
    "f1 = outer()\n",
    "f1()"
   ]
  },
  {
   "cell_type": "code",
   "execution_count": 17,
   "metadata": {},
   "outputs": [
    {
     "data": {
      "text/plain": [
       "False"
      ]
     },
     "execution_count": 17,
     "metadata": {},
     "output_type": "execute_result"
    }
   ],
   "source": [
    "# both are holding the same object aka function aliasing.\n",
    "f1 is outer"
   ]
  },
  {
   "cell_type": "code",
   "execution_count": 18,
   "metadata": {},
   "outputs": [
    {
     "data": {
      "text/plain": [
       "'Hello World'"
      ]
     },
     "execution_count": 18,
     "metadata": {},
     "output_type": "execute_result"
    }
   ],
   "source": [
    "def outer():\n",
    "    def inner():\n",
    "        return 'Hello World'\n",
    "    \n",
    "    return inner() # invoke the inner function and return a value\n",
    "\n",
    "outer()"
   ]
  },
  {
   "cell_type": "code",
   "execution_count": 19,
   "metadata": {},
   "outputs": [],
   "source": [
    "def f1(func):\n",
    "    return func()\n",
    "\n",
    "def f2():\n",
    "    return 'f2 function is calling'"
   ]
  },
  {
   "cell_type": "code",
   "execution_count": 20,
   "metadata": {},
   "outputs": [
    {
     "data": {
      "text/plain": [
       "'f2 function is calling'"
      ]
     },
     "execution_count": 20,
     "metadata": {},
     "output_type": "execute_result"
    }
   ],
   "source": [
    "f1(f2)"
   ]
  },
  {
   "cell_type": "code",
   "execution_count": 21,
   "metadata": {},
   "outputs": [
    {
     "data": {
      "text/plain": [
       "(0, 2, 4, 6, 8, 10, 12, 14, 16, 18, 20, 22, 24)"
      ]
     },
     "execution_count": 21,
     "metadata": {},
     "output_type": "execute_result"
    }
   ],
   "source": [
    "# example of function as an argument\n",
    "\n",
    "list_of_numbers = list(range(25))\n",
    "\n",
    "def is_even(number):\n",
    "    return number % 2 == 0\n",
    "\n",
    "even_numbers = filter(is_even, list_of_numbers)\n",
    "tuple(even_numbers)"
   ]
  },
  {
   "cell_type": "markdown",
   "metadata": {},
   "source": [
    "* We can assign another name to existing function == function aliasing\n",
    "* We can define one function inside another function == nested function\n",
    "* Function can return another function\n",
    "* We can pass a function as an argument to anothr function eg: `filter`, `map`, `reduce`\n",
    "\n",
    "## Introduction to Decorators\n",
    "\n",
    "A decorator is a function that takes another function as an argument and extends its functionality, returns modified function with extended functionality.\n",
    "\n",
    "```py\n",
    "def decorator_function(input_func):\n",
    "    def output_func():\n",
    "        ...\n",
    "    return output_func\n",
    "```\n",
    "\n",
    "The main objective of decorator function is we can extend the functionality of existing function without modifying that function."
   ]
  },
  {
   "cell_type": "code",
   "execution_count": 22,
   "metadata": {},
   "outputs": [
    {
     "name": "stdout",
     "output_type": "stream",
     "text": [
      "Send the person to parlour\n",
      "Showing the person with full of decoration\n"
     ]
    }
   ],
   "source": [
    "# without decorator\n",
    "\n",
    "def decorator_func(input_func):\n",
    "    def output_func():\n",
    "        print('Send the person to parlour')\n",
    "        print('Showing the person with full of decoration')\n",
    "    \n",
    "    return output_func\n",
    "\n",
    "def display():\n",
    "    print('Showing the person as it is')\n",
    "\n",
    "display = decorator_func(display)\n",
    "display()"
   ]
  },
  {
   "cell_type": "code",
   "execution_count": 23,
   "metadata": {},
   "outputs": [
    {
     "name": "stdout",
     "output_type": "stream",
     "text": [
      "Send the person to parlour\n",
      "Showing the person with full of decoration\n"
     ]
    }
   ],
   "source": [
    "def decorator_func(input_func):\n",
    "    def output_func():\n",
    "        print('Send the person to parlour')\n",
    "        print('Showing the person with full of decoration')\n",
    "    \n",
    "    return output_func\n",
    "\n",
    "@decorator_func # @decorator_func(display)\n",
    "def display():\n",
    "    print('Showing the person as it is')\n",
    "\n",
    "display()"
   ]
  },
  {
   "cell_type": "code",
   "execution_count": 24,
   "metadata": {},
   "outputs": [
    {
     "name": "stdout",
     "output_type": "stream",
     "text": [
      "Showing the person as it is\n",
      "Send the person to parlour\n",
      "Showing the person with full of decoration\n"
     ]
    }
   ],
   "source": [
    "def decorator_func(input_func):\n",
    "    def output_func():\n",
    "        print('Send the person to parlour')\n",
    "        print('Showing the person with full of decoration')\n",
    "    \n",
    "    input_func()\n",
    "    return output_func\n",
    "\n",
    "@decorator_func # @decorator_func(display)\n",
    "def display():\n",
    "    print('Showing the person as it is')\n",
    "\n",
    "display()"
   ]
  },
  {
   "cell_type": "code",
   "execution_count": 25,
   "metadata": {},
   "outputs": [
    {
     "data": {
      "text/plain": [
       "'f2 function is calling'"
      ]
     },
     "execution_count": 25,
     "metadata": {},
     "output_type": "execute_result"
    }
   ],
   "source": [
    "def f1(func):\n",
    "    return func\n",
    "\n",
    "@f1 # f1(f2)\n",
    "def f2():\n",
    "    return 'f2 function is calling'\n",
    "\n",
    "f2()"
   ]
  },
  {
   "cell_type": "code",
   "execution_count": 26,
   "metadata": {},
   "outputs": [
    {
     "name": "stdout",
     "output_type": "stream",
     "text": [
      "🥪🥪🥪🥪🥪🥪🥪🥪🥪🥪\n",
      "          15\n",
      "🍔🍔🍔🍔🍔🍔🍔🍔🍔🍔\n"
     ]
    }
   ],
   "source": [
    "def decorator_func(func):\n",
    "    def inner(a, b): # args there must be same\n",
    "        print('🥪' * 10)\n",
    "        func(a, b)\n",
    "        print('🍔' * 10)\n",
    "    \n",
    "    return inner\n",
    "\n",
    "@decorator_func\n",
    "def add(a, b): # args here\n",
    "    print(f\"{a+b:12}\")\n",
    "\n",
    "add(10, 5)"
   ]
  },
  {
   "cell_type": "markdown",
   "metadata": {},
   "source": [
    "## Call function with and without decorator"
   ]
  },
  {
   "cell_type": "code",
   "execution_count": 27,
   "metadata": {},
   "outputs": [
    {
     "name": "stdout",
     "output_type": "stream",
     "text": [
      "OMG! who's there\n",
      "The famous sunny leone!\n",
      "we are glad to see you here!\n"
     ]
    }
   ],
   "source": [
    "# with decorator\n",
    "\n",
    "def for_sunny(func):\n",
    "    def inner(name):\n",
    "        if name.lower() == 'sunny':\n",
    "            print('OMG! who\\'s there')\n",
    "            print(f'The famous {name} leone!')\n",
    "            print('we are glad to see you here!')\n",
    "        else:\n",
    "            func(name)\n",
    "    \n",
    "    return inner\n",
    "\n",
    "@for_sunny # wish = for_sunny(wish)\n",
    "def wish(name):\n",
    "    print(f'Hello {name}')\n",
    "\n",
    "wish('sunny')"
   ]
  },
  {
   "cell_type": "code",
   "execution_count": 28,
   "metadata": {},
   "outputs": [
    {
     "name": "stdout",
     "output_type": "stream",
     "text": [
      "Hello durga\n"
     ]
    }
   ],
   "source": [
    "wish('durga')"
   ]
  },
  {
   "cell_type": "code",
   "execution_count": 29,
   "metadata": {},
   "outputs": [
    {
     "name": "stdout",
     "output_type": "stream",
     "text": [
      "OMG! who's there\n",
      "The famous sunny leone!\n",
      "we are glad to see you here!\n"
     ]
    }
   ],
   "source": [
    "# without decorator\n",
    "\n",
    "def for_sunny(func):\n",
    "    def inner(name):\n",
    "        if name.lower() == 'sunny':\n",
    "            print('OMG! who\\'s there')\n",
    "            print(f'The famous {name} leone!')\n",
    "            print('we are glad to see you here!')\n",
    "        else:\n",
    "            func(name)\n",
    "    \n",
    "    return inner\n",
    "\n",
    "def wish(name):\n",
    "    print(f'Hello {name}')\n",
    "\n",
    "wish = for_sunny(wish)\n",
    "wish('sunny')"
   ]
  },
  {
   "cell_type": "code",
   "execution_count": 30,
   "metadata": {},
   "outputs": [
    {
     "name": "stdout",
     "output_type": "stream",
     "text": [
      "Hello Imran\n"
     ]
    }
   ],
   "source": [
    "wish('Imran')"
   ]
  },
  {
   "cell_type": "markdown",
   "metadata": {},
   "source": [
    "## Decorator chaining\n",
    "\n",
    "We can define multiple decorators for the same function and all these decorators will form decorator chaining..."
   ]
  },
  {
   "cell_type": "code",
   "execution_count": 31,
   "metadata": {},
   "outputs": [
    {
     "name": "stdout",
     "output_type": "stream",
     "text": [
      "decorator2 execution\n"
     ]
    }
   ],
   "source": [
    "def decor1(func):\n",
    "    def inner1():\n",
    "        print('decorator1 execution')\n",
    "    \n",
    "    return inner1\n",
    "\n",
    "def decor2(func):\n",
    "    def inner2():\n",
    "        # func is inner1 //= True\n",
    "        print('decorator2 execution')\n",
    "    \n",
    "    return inner2\n",
    "\n",
    "# first @decor1(func=f1) will be executed and returned inner1 function object will \n",
    "# be passed to @decor2(func=inner1) as an argument.\n",
    "@decor2\n",
    "@decor1\n",
    "def f1():\n",
    "    print('Original function')\n",
    "\n",
    "# when we call f1(), it will execute inner2\n",
    "f1() # f1 is inner2 //= True"
   ]
  },
  {
   "cell_type": "code",
   "execution_count": 32,
   "metadata": {},
   "outputs": [
    {
     "name": "stdout",
     "output_type": "stream",
     "text": [
      "decorator2 execution\n"
     ]
    }
   ],
   "source": [
    "# without decorator chaining\n",
    "\n",
    "def decor1(func):\n",
    "    def inner1():\n",
    "        print('decorator1 execution')\n",
    "    \n",
    "    return inner1\n",
    "\n",
    "def decor2(func):\n",
    "    def inner2():\n",
    "        # func is inner1 //= True\n",
    "        print('decorator2 execution')\n",
    "    \n",
    "    return inner2\n",
    "\n",
    "\n",
    "def f1():\n",
    "    print('Original Function')\n",
    "\n",
    "f1 = decor1(f1)\n",
    "f2 = decor2(f1)\n",
    "f2()"
   ]
  },
  {
   "cell_type": "code",
   "execution_count": 33,
   "metadata": {},
   "outputs": [
    {
     "name": "stdout",
     "output_type": "stream",
     "text": [
      "decorator1 execution\n"
     ]
    }
   ],
   "source": [
    "# change the order of decorator\n",
    "\n",
    "def decor1(func):\n",
    "    def inner1():\n",
    "        print('decorator1 execution')\n",
    "    \n",
    "    return inner1\n",
    "\n",
    "def decor2(func):\n",
    "    def inner2():\n",
    "        # func is inner2 == True\n",
    "        print('decorator2 execution')\n",
    "    \n",
    "    return inner2\n",
    "\n",
    "@decor1\n",
    "@decor2\n",
    "def f1():\n",
    "    print('Original function')\n",
    "\n",
    "# when we call f1(), it will execute inner1\n",
    "f1() # f1 is inner1 == True"
   ]
  },
  {
   "cell_type": "code",
   "execution_count": 34,
   "metadata": {},
   "outputs": [
    {
     "name": "stdout",
     "output_type": "stream",
     "text": [
      "Original function\n",
      "decorator2 execution\n",
      "decorator1 execution\n"
     ]
    }
   ],
   "source": [
    "def decor1(func):\n",
    "    def inner1():\n",
    "        func()  # inner2\n",
    "        print('decorator1 execution')\n",
    "    \n",
    "    return inner1\n",
    "\n",
    "def decor2(func):\n",
    "    def inner2():\n",
    "        func() # f1\n",
    "        print('decorator2 execution')\n",
    "    \n",
    "    return inner2\n",
    "\n",
    "@decor1\n",
    "@decor2\n",
    "def f1():\n",
    "    print('Original function')\n",
    "\n",
    "f1() # f1 is inner1 == True"
   ]
  },
  {
   "cell_type": "code",
   "execution_count": 35,
   "metadata": {},
   "outputs": [],
   "source": [
    "def decorator(func):\n",
    "    def inner():\n",
    "        result = func()\n",
    "        return result * result\n",
    "    \n",
    "    return inner\n",
    "\n",
    "def decorator2(func):\n",
    "    def inner2():\n",
    "        result = func()\n",
    "        return 2 * result\n",
    "    \n",
    "    return inner2"
   ]
  },
  {
   "cell_type": "code",
   "execution_count": 36,
   "metadata": {},
   "outputs": [
    {
     "data": {
      "text/plain": [
       "400"
      ]
     },
     "execution_count": 36,
     "metadata": {},
     "output_type": "execute_result"
    }
   ],
   "source": [
    "@decorator\n",
    "def num():\n",
    "    return 20\n",
    "\n",
    "num()"
   ]
  },
  {
   "cell_type": "code",
   "execution_count": 37,
   "metadata": {},
   "outputs": [
    {
     "data": {
      "text/plain": [
       "40"
      ]
     },
     "execution_count": 37,
     "metadata": {},
     "output_type": "execute_result"
    }
   ],
   "source": [
    "@decorator2\n",
    "def num():\n",
    "    return 20\n",
    "\n",
    "num()"
   ]
  },
  {
   "cell_type": "code",
   "execution_count": 38,
   "metadata": {},
   "outputs": [
    {
     "data": {
      "text/plain": [
       "800"
      ]
     },
     "execution_count": 38,
     "metadata": {},
     "output_type": "execute_result"
    }
   ],
   "source": [
    "@decorator2\n",
    "@decorator\n",
    "def num():\n",
    "    return 20\n",
    "\n",
    "num()"
   ]
  }
 ],
 "metadata": {
  "kernelspec": {
   "display_name": "Python 3 (system-wide)",
   "language": "python",
   "name": "python3"
  },
  "language_info": {
   "codemirror_mode": {
    "name": "ipython",
    "version": 3
   },
   "file_extension": ".py",
   "mimetype": "text/x-python",
   "name": "python",
   "nbconvert_exporter": "python",
   "pygments_lexer": "ipython3",
   "version": "3.10.12"
  }
 },
 "nbformat": 4,
 "nbformat_minor": 4
}
