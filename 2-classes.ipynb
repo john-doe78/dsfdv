{
 "cells": [
  {
   "cell_type": "markdown",
   "id": "09e9b22f-fdfa-4782-9fc1-5e977d93fe0c",
   "metadata": {},
   "source": [
    "# Sessions 12-15｜Classes\n",
    "\n",
    "* Concrete Class\n",
    "* Abstract Class\n",
    "* Superclass and Subclass\n",
    "* Nested Class\n",
    "  * Non-static Nested Class (Inner Class)\n",
    "    * Anonymous Inner Class\n",
    "    * Member Inner Class\n",
    "    * Local Inner Class\n",
    "  * Static Nested Class\n",
    "* Generic Class\n",
    "* POJO Class\n",
    "* Enum Class\n",
    "  * Normal Enum Class\n",
    "  * Custom Enum Class\n",
    "  * Enum with Abstract Method\n",
    "  * Method Override by Constant\n",
    "* Final Class\n",
    "* Singleton Class\n",
    "* Immutable Class\n",
    "* Wrapper Class\n",
    "\n",
    "## Concrete Class\n",
    "\n",
    "📘 [Concrete Class in Java](https://www.baeldung.com/java-concrete-class) – Baeldung\n",
    "\n",
    "* A concrete class is a class that can be instantiated using the `new` keyword.\n",
    "* All methods in a concrete class have complete implementations\n",
    "* It can extend an abstract class or implement one or more interfaces.\n",
    "* The access modifier of a concrete class can be `public` or package-private (default)."
   ]
  },
  {
   "cell_type": "code",
   "execution_count": 1,
   "id": "0c9e7309-9937-423a-bb0c-a846f80ee759",
   "metadata": {},
   "outputs": [
    {
     "data": {
      "text/plain": [
       "10"
      ]
     },
     "execution_count": 1,
     "metadata": {},
     "output_type": "execute_result"
    }
   ],
   "source": [
    "public class Person {\n",
    "    private int empId;\n",
    "    \n",
    "    Person(int empId) {\n",
    "        this.empId = empId;\n",
    "    }\n",
    "    \n",
    "    public int getEmpId() {\n",
    "        return this.empId;\n",
    "    }\n",
    "}\n",
    "\n",
    "Person person = new Person(10);\n",
    "person.getEmpId();"
   ]
  },
  {
   "cell_type": "code",
   "execution_count": 2,
   "id": "bd94abee-67cc-4123-a7aa-77556761e470",
   "metadata": {},
   "outputs": [
    {
     "name": "stdout",
     "output_type": "stream",
     "text": [
      "Computing Rectangle Area\n"
     ]
    }
   ],
   "source": [
    "public interface Shape {\n",
    "    public void computeArea();\n",
    "}\n",
    "\n",
    "public class Rectangle implements Shape {\n",
    "    @Override\n",
    "    public void computeArea() {\n",
    "        System.out.println(\"Computing Rectangle Area\");\n",
    "    }\n",
    "}\n",
    "\n",
    "Rectangle rectangle = new Rectangle();\n",
    "rectangle.computeArea();"
   ]
  },
  {
   "cell_type": "markdown",
   "id": "a2cf55fe-c498-4ff0-9acc-f70cfa2a79de",
   "metadata": {},
   "source": [
    "## Abstract Class\n",
    "\n",
    "📘 [Abstract Classes in Java](https://www.baeldung.com/java-abstract-class) – Baeldung \n",
    "\n",
    "An abstract class defines a blueprint for its subclasses, exposing essential functionality while optionally providing or hiding implementation details. It supports 0 to 100% abstraction, meaning it can include:\n",
    "\n",
    "* No abstract methods\n",
    "* Some abstract methods\n",
    "* Only abstract methods\n",
    "\n",
    "### To Achieve Abstraction\n",
    "\n",
    "* Declare a class as `abstract` using the `abstract` keyword.\n",
    "* An abstract class can contain both:\n",
    "  * Abstract methods\n",
    "  * Concrete methods\n",
    "* An abstract class cannot be instantiated directly.\n",
    "* Abstract classes are useful when multiple subclasses share common features or behaviors.\n",
    "* Abstract classes can have constructors, which can be called from subclasses using the `super` keyword."
   ]
  },
  {
   "cell_type": "code",
   "execution_count": 3,
   "id": "b39b5430-cdc4-4b8e-a091-6cf2bf811cc2",
   "metadata": {},
   "outputs": [],
   "source": [
    "abstract class Car {\n",
    "    int mileage;\n",
    "    \n",
    "    Car(int mileage) {\n",
    "        this.mileage = mileage;\n",
    "    }\n",
    "    \n",
    "    public abstract void pressBreak();\n",
    "    public abstract void pressCluth();\n",
    "    \n",
    "    public int getNumberOfWheels() {\n",
    "        return 4;\n",
    "    }\n",
    "}"
   ]
  },
  {
   "cell_type": "code",
   "execution_count": 4,
   "id": "73c3f3ed-6e1b-4995-bab6-d24c0867be54",
   "metadata": {},
   "outputs": [],
   "source": [
    "abstract class LuxuryCar extends Car {\n",
    "    LuxuryCar(int mileage) {\n",
    "        super(mileage);\n",
    "    }\n",
    "    \n",
    "    public abstract void pressDualBreakSystem();\n",
    "    \n",
    "    @Override\n",
    "    public void pressBreak() {\n",
    "        System.out.println(\"Press the Break...\");\n",
    "    }\n",
    "}"
   ]
  },
  {
   "cell_type": "code",
   "execution_count": 5,
   "id": "e377e1bd-73fc-45a7-8288-05e7343dfa2b",
   "metadata": {},
   "outputs": [],
   "source": [
    "class Audi extends LuxuryCar {\n",
    "    Audi(int mileage) {\n",
    "        super(mileage);\n",
    "    }\n",
    "    \n",
    "    @Override\n",
    "    public void pressCluth() {\n",
    "        System.out.println(\"Press the Cluth...\");\n",
    "    }\n",
    "    \n",
    "    @Override\n",
    "    public void pressDualBreakSystem() {\n",
    "        System.out.println(\"Press the Dual Break...\");\n",
    "    }\n",
    "\n",
    "    @Override\n",
    "    public void pressBreak() {\n",
    "        super.pressBreak();\n",
    "        System.out.println(\"Press the Break...\");\n",
    "    }\n",
    "}"
   ]
  },
  {
   "cell_type": "code",
   "execution_count": 6,
   "id": "be6ff675-4e43-439b-8666-520deef6cdef",
   "metadata": {},
   "outputs": [
    {
     "name": "stdout",
     "output_type": "stream",
     "text": [
      "Press the Dual Break...\n",
      "Press the Cluth...\n",
      "Press the Break...\n",
      "Press the Break...\n"
     ]
    }
   ],
   "source": [
    "Audi audi = new Audi(20);\n",
    "audi.pressDualBreakSystem();\n",
    "audi.pressCluth();\n",
    "audi.pressBreak();"
   ]
  },
  {
   "cell_type": "markdown",
   "id": "5318de94-c01f-48ce-bef4-9c2704b94939",
   "metadata": {},
   "source": [
    "## Superclass and Subclass\n",
    "\n",
    "📘 [Inner Classes vs. Subclasses in Java](https://www.baeldung.com/java-inner-classes-vs-subclasses) – Baeldung\n",
    "\n",
    "* A subclass is a class that inherits from another class.\n",
    "* The class being inherited from is called the superclass.\n",
    "* In Java, if no explicit superclass is defined, a class implicitly inherits from the `Object` class.\n",
    "* It is the root class of the Java class hierarchy.\n",
    "* It provides several commonly used methods, such as: `clone()`, `toString()`, `equals()`, `notify()`, `wait()`, and others."
   ]
  },
  {
   "cell_type": "code",
   "execution_count": 7,
   "id": "19f363ae-4718-4053-b614-b2e9f4b992b8",
   "metadata": {},
   "outputs": [
    {
     "data": {
      "text/plain": [
       "class REPL.$JShell$12$Person"
      ]
     },
     "execution_count": 7,
     "metadata": {},
     "output_type": "execute_result"
    }
   ],
   "source": [
    "// child class object can be stored in parent class reference\n",
    "Object obj1 = new Person(10);\n",
    "Object obj2 = new Audi(15);\n",
    "\n",
    "obj1.getClass(); // class Person"
   ]
  },
  {
   "cell_type": "code",
   "execution_count": 8,
   "id": "13797a91-1676-4f81-9dd8-7b7f542055ad",
   "metadata": {},
   "outputs": [
    {
     "data": {
      "text/plain": [
       "class REPL.$JShell$21$Audi"
      ]
     },
     "execution_count": 8,
     "metadata": {},
     "output_type": "execute_result"
    }
   ],
   "source": [
    "obj2.getClass(); // class Audi"
   ]
  },
  {
   "cell_type": "markdown",
   "id": "29b94d15-f6d3-4b0f-b688-9fc89e5be333",
   "metadata": {},
   "source": [
    "## Nested Class\n",
    "\n",
    "🎥 [Inner Classes in Java](https://www.youtube.com/playlist?list=PLR1BXeBj1hutfUwB4RtDmM5u3ASEsLGKk) – Durga sir  \n",
    "📘 [Nested Classes in Java](https://www.baeldung.com/java-nested-classes) – Baeldung\n",
    "\n",
    "A nested class is a class defined within the scope of another class. It helps logically group classes that are only used in one place, improving encapsulation and code readability.\n",
    "\n",
    "### When to Use?\n",
    "\n",
    "If class `A` is only relevant to class `B`, you can define `A` as a nested class inside `B` instead of creating a separate file (`A.java`). This keeps related code organized and avoids unnecessary exposure to other parts of the application.\n",
    "\n",
    "### Scope\n",
    "\n",
    "The scope of a nested class is tied to its enclosing (outer) class. Access levels and member visibility depend on whether the nested class is static or non-static.\n",
    "\n",
    "### Types of Nested Class\n",
    "\n",
    "Nested classes are primarily of two types:\n",
    "\n",
    "* Static Nested Class\n",
    "* Non-static Nested Class (Inner Class)\n",
    "  * Local Inner Class\n",
    "  * Member Inner Class\n",
    "  * Anonymous Inner Class\n",
    "\n",
    "### Static Nested Class\n",
    "\n",
    "* Declared with the `static` keyword.\n",
    "* Cannot access non-static members (fields or methods) of the outer class directly.\n",
    "* Can be instantiated without creating an object of the outer class.\n",
    "* Can have any access modifier: `private`, `protected`, `public`, or default (package-private)."
   ]
  },
  {
   "cell_type": "code",
   "execution_count": 9,
   "id": "a7d2475d-fdcf-4e68-a482-5a95fb70da25",
   "metadata": {},
   "outputs": [
    {
     "name": "stdout",
     "output_type": "stream",
     "text": [
      "Hola\n"
     ]
    }
   ],
   "source": [
    "class OuterClass {\n",
    "    int instanceVariable = 10;\n",
    "    static String greeting = \"Hola\";\n",
    "    static int classVariable = 20;\n",
    "\n",
    "    // A static nested class can access the static members of its outer class \n",
    "    // — regardless of whether the nested class method is static or not.\n",
    "    static class NestedClass {\n",
    "        public void print() {\n",
    "            System.out.println(greeting);\n",
    "        }\n",
    "\n",
    "        public static void staticPrint() {\n",
    "            System.out.println(classVariable);\n",
    "        }\n",
    "    }\n",
    "}\n",
    "\n",
    "OuterClass.NestedClass nestedObj = new OuterClass.NestedClass();\n",
    "nestedObj.print();"
   ]
  },
  {
   "cell_type": "code",
   "execution_count": 10,
   "id": "c0c0595b-6ae5-4628-afde-c4c0d989d604",
   "metadata": {},
   "outputs": [
    {
     "name": "stdout",
     "output_type": "stream",
     "text": [
      "20\n"
     ]
    }
   ],
   "source": [
    "OuterClass.NestedClass.staticPrint();"
   ]
  },
  {
   "cell_type": "markdown",
   "id": "39dbc6c6-58a7-4ea4-960b-693ef4f79c3c",
   "metadata": {},
   "source": [
    "A nested class can have `public`, `protected`, `private`, or default (package-private) access. If a `static` nested class is declared `private`, it can only be instantiated from within the enclosing outer class."
   ]
  },
  {
   "cell_type": "code",
   "execution_count": 11,
   "id": "78f2d9ae-fd26-4f1c-9b2d-0c09b0487384",
   "metadata": {},
   "outputs": [
    {
     "name": "stdout",
     "output_type": "stream",
     "text": [
      "200\n"
     ]
    }
   ],
   "source": [
    "class OuterClass {\n",
    "    int instanceVariable = 10;\n",
    "    static int classVariable = 200;\n",
    "    \n",
    "    private static class NestedClass {\n",
    "        public void print() {\n",
    "            System.out.println(classVariable);\n",
    "        }\n",
    "    }\n",
    "    \n",
    "    public void display() {\n",
    "        NestedClass nestedObj = new NestedClass();\n",
    "        nestedObj.print();\n",
    "    }\n",
    "}\n",
    "\n",
    "OuterClass outerclass = new OuterClass();\n",
    "outerclass.display();"
   ]
  },
  {
   "cell_type": "markdown",
   "id": "f18741a4-140d-4049-8ab0-8399eabbd6e9",
   "metadata": {},
   "source": [
    "### Non-static Nested Class\n",
    "\n",
    "* It has access to all instance variables and methods of the outer class.\n",
    "* The object of the inner class can only be instantiated after the object of the outer class is created.\n",
    "\n",
    "#### Member Inner Class\n",
    "\n",
    "* A member inner class can have any of the following access modifiers: `private`, `protected`, `public`, or package-private (default)."
   ]
  },
  {
   "cell_type": "code",
   "execution_count": 12,
   "id": "57d7a370-c38a-4c43-a81a-dea532585eee",
   "metadata": {},
   "outputs": [
    {
     "name": "stdout",
     "output_type": "stream",
     "text": [
      "210\n"
     ]
    }
   ],
   "source": [
    "class OuterClass {\n",
    "    int instanceVariable = 10;\n",
    "    static int classVariable = 200;\n",
    "    \n",
    "    class InnerClass {\n",
    "        public void print() {\n",
    "            System.out.println(instanceVariable + classVariable);\n",
    "        }\n",
    "    }\n",
    "}\n",
    "\n",
    "OuterClass outerclass = new OuterClass();\n",
    "\n",
    "OuterClass.InnerClass nestedclass = outerclass.new InnerClass();\n",
    "nestedclass.print();"
   ]
  },
  {
   "cell_type": "markdown",
   "id": "6c4bb7e7-8d16-42a1-a038-ace81861c9e9",
   "metadata": {},
   "source": [
    "#### Local Inner Class\n",
    "\n",
    "* A local inner class is a class defined within a method, constructor, or any control structure like a `for` loop, `while` loop, or `if` block.\n",
    "* It cannot have explicit access modifiers such as `private`, `protected`, or `public`. By default, it has package-private (default) access.\n",
    "* A local inner class can only be instantiated within the block in which it is defined."
   ]
  },
  {
   "cell_type": "code",
   "execution_count": 13,
   "id": "401b3525-a68b-4448-9baf-5adb258ae863",
   "metadata": {},
   "outputs": [],
   "source": [
    "class OuterClass {\n",
    "    int instanceVariable = 1;\n",
    "    static int classVariable = 2;\n",
    "    \n",
    "    public void display() {\n",
    "        int methodLocalVariable = 3;\n",
    "        \n",
    "        class LocalInnerClass {\n",
    "            int localInnerVariable = 4;\n",
    "            \n",
    "            public void print() {\n",
    "                System.out.println(instanceVariable + methodLocalVariable + localInnerVariable + classVariable);\n",
    "            }\n",
    "        }\n",
    "        \n",
    "        LocalInnerClass local = new LocalInnerClass();\n",
    "        local.print();\n",
    "    }\n",
    "}"
   ]
  },
  {
   "cell_type": "code",
   "execution_count": 14,
   "id": "8bc087fb-8aa3-40ad-abfb-82a9060a537a",
   "metadata": {},
   "outputs": [
    {
     "name": "stdout",
     "output_type": "stream",
     "text": [
      "10\n"
     ]
    }
   ],
   "source": [
    "OuterClass outer = new OuterClass();\n",
    "outer.display();"
   ]
  },
  {
   "cell_type": "markdown",
   "id": "abda1d73-e9b7-4e9c-afbf-bbb2d0e9ceb0",
   "metadata": {},
   "source": [
    "#### Anonymous Inner Class\n",
    "\n",
    "An anonymous inner class is a class without a name, typically used to define a class in place, usually for a one-time use.\n",
    "\n",
    "**When to use**?\n",
    "\n",
    "* Use an anonymous inner class when you need to override the behavior of a method without the need to create a separate subclass."
   ]
  },
  {
   "cell_type": "code",
   "execution_count": 15,
   "id": "c37f0100-1042-4d38-aaab-556d5b0aacfb",
   "metadata": {},
   "outputs": [
    {
     "name": "stdout",
     "output_type": "stream",
     "text": [
      "Audi Car Specfic Break\n"
     ]
    }
   ],
   "source": [
    "public abstract class Car {\n",
    "    public abstract void pressBreak();\n",
    "}\n",
    "\n",
    "// Behind the scenes, the compiler creates an anonymous subclass of the `Car` class.\n",
    "// An object of this anonymous subclass is instantiated, and its reference is assigned to the \"audiCar\" variable.\n",
    "Car audiCar = new Car() {\n",
    "    @Override\n",
    "    public void pressBreak() {\n",
    "        System.out.println(\"Audi Car Specfic Break\");\n",
    "    }\n",
    "};\n",
    "\n",
    "audiCar.pressBreak();"
   ]
  },
  {
   "cell_type": "markdown",
   "id": "59c7b347-89f2-4451-837a-8eb1e8c3f703",
   "metadata": {},
   "source": [
    "### Inheritance in Nested Classes\n",
    "\n",
    "#### Example 1: One Nested Class Inheriting Another Nested Class within the Same Outer Class"
   ]
  },
  {
   "cell_type": "code",
   "execution_count": 16,
   "id": "71397915-3b21-4c45-b170-54156228bb95",
   "metadata": {},
   "outputs": [],
   "source": [
    "class OuterClass {\n",
    "    int instanceVar = 1;\n",
    "    static int classVar = 2;\n",
    "    \n",
    "    class InnerClass {\n",
    "        int innerClassVar = 3;\n",
    "    }\n",
    "    \n",
    "    class AnotherInnerClass extends InnerClass {\n",
    "        int localInnerVariable = 44;\n",
    "            \n",
    "        public void print() {\n",
    "            System.out.println(instanceVar + innerClassVar + classVar + localInnerVariable);\n",
    "        }\n",
    "    }\n",
    "}"
   ]
  },
  {
   "cell_type": "code",
   "execution_count": 17,
   "id": "83ef551f-3b30-4648-94b3-01ef38965bba",
   "metadata": {},
   "outputs": [
    {
     "name": "stdout",
     "output_type": "stream",
     "text": [
      "50\n"
     ]
    }
   ],
   "source": [
    "OuterClass outer = new OuterClass();\n",
    "OuterClass.AnotherInnerClass another = outer.new AnotherInnerClass();\n",
    "another.print();"
   ]
  },
  {
   "cell_type": "markdown",
   "id": "d90c93bf-659b-4d55-81b4-a25daba3e7a2",
   "metadata": {},
   "source": [
    "#### Example 2: Inheriting a Static Nested Class from Another Class"
   ]
  },
  {
   "cell_type": "code",
   "execution_count": 18,
   "id": "c2c17405-fec9-46b9-8681-31f8b01a541b",
   "metadata": {},
   "outputs": [],
   "source": [
    "class OuterClass {\n",
    "    static class NestedClass {\n",
    "        public void display() {\n",
    "            System.out.println(\"Inside Nested Static Class\");\n",
    "        }\n",
    "    }\n",
    "}"
   ]
  },
  {
   "cell_type": "code",
   "execution_count": 19,
   "id": "02f0dda9-4eb6-4425-b440-8b33e92ae0f8",
   "metadata": {},
   "outputs": [
    {
     "name": "stdout",
     "output_type": "stream",
     "text": [
      "Inside Nested Static Class\n",
      "Inside Concrete Class\n"
     ]
    }
   ],
   "source": [
    "public class SomeOtherClass extends OuterClass.NestedClass {\n",
    "    @Override\n",
    "    public void display() {\n",
    "        super.display();\n",
    "        System.out.println(\"Inside Concrete Class\");\n",
    "    }\n",
    "}\n",
    "\n",
    "SomeOtherClass some = new SomeOtherClass();\n",
    "some.display();"
   ]
  },
  {
   "cell_type": "markdown",
   "id": "33dc4e73-b48c-41d2-8b0f-f50706093485",
   "metadata": {},
   "source": [
    "#### Example 3: Inheriting a Non-static Inner Class from Another Class"
   ]
  },
  {
   "cell_type": "code",
   "execution_count": 20,
   "id": "ac0fc3db-5208-4db8-8c07-97c5ecbcd79d",
   "metadata": {},
   "outputs": [],
   "source": [
    "class OuterClass {\n",
    "    class NestedClass {\n",
    "        public void display() {\n",
    "            System.out.println(\"Inside Non-static Nested Class\");\n",
    "        }\n",
    "    }\n",
    "}"
   ]
  },
  {
   "cell_type": "code",
   "execution_count": 21,
   "id": "9a776a85-92d1-4ec8-b72e-d1619834a68d",
   "metadata": {},
   "outputs": [
    {
     "name": "stdout",
     "output_type": "stream",
     "text": [
      "Inside Non-static Nested Class\n",
      "Inside Concrete Class\n"
     ]
    }
   ],
   "source": [
    "public class SomeOtherClass extends OuterClass.NestedClass {\n",
    "    \n",
    "    SomeOtherClass(OuterClass outer) {\n",
    "        // In Java, super() is used to invoke the constructor of the parent class, \n",
    "        // but for a non-static inner class, it requires an instance of the outer class.\n",
    "        outer.super();\n",
    "    }\n",
    "    \n",
    "    @Override\n",
    "    public void display() {\n",
    "        super.display();\n",
    "        System.out.println(\"Inside Concrete Class\");\n",
    "    }\n",
    "}\n",
    "\n",
    "OuterClass outer = new OuterClass();\n",
    "SomeOtherClass some = new SomeOtherClass(outer);\n",
    "some.display();"
   ]
  },
  {
   "cell_type": "markdown",
   "id": "6a829948-2972-4a00-8c34-d9b207a9fbfc",
   "metadata": {},
   "source": [
    "## Generic Class\n",
    "\n",
    "* [Java Generics: Past, Present and Futurit](https://www.youtube.com/watch?v=LEAoMMEIUXk&t=164s) – Richard Warburton/Raoul-Gabriel Urma\n",
    "* [The Basics of Java Generics](https://www.baeldung.com/java-generics)\n",
    "* [Java Generics Interview Questions (+Answers)](https://www.baeldung.com/java-generics-interview-questions)\n",
    "* [Java Generics Example Tutorial - Generic Method, Class, Interface](https://www.digitalocean.com/community/tutorials/java-generics-example-method-class-interface)\n",
    "* [Java Generic class](https://www.youtube.com/playlist?list=PLR1BXeBj1huu_wctI0C7qmvpDO4sabxhM) by Durga sir\n",
    "\n",
    "### Generic Object Class"
   ]
  },
  {
   "cell_type": "code",
   "execution_count": 22,
   "id": "446cc2dd-5535-4782-b4ea-5428616991d0",
   "metadata": {},
   "outputs": [],
   "source": [
    "class Print {\n",
    "    Object value;\n",
    "\n",
    "    public Object getPrintValue() {\n",
    "        return this.value;\n",
    "    }\n",
    "\n",
    "    public void setPrintValue(Object value) {\n",
    "        this.value = value;\n",
    "    }\n",
    "}"
   ]
  },
  {
   "cell_type": "code",
   "execution_count": 23,
   "id": "654cf93b-30c2-4718-bba7-bf8569d65c43",
   "metadata": {},
   "outputs": [
    {
     "name": "stdout",
     "output_type": "stream",
     "text": [
      "99\n",
      "Hello, Moscow\n"
     ]
    }
   ],
   "source": [
    "Print print = new Print();\n",
    "print.setPrintValue(10.0f);\n",
    "print.setPrintValue(99);\n",
    "\n",
    "Object value = print.getPrintValue();\n",
    "System.out.println(value);\n",
    "\n",
    "// we can't use value directly, we've to type caste before use it else get compile tme error\n",
    "if ((int)value == 10) {\n",
    "    System.out.println(\"Hello, World\");\n",
    "} else {\n",
    "    System.out.println(\"Hello, Moscow\");\n",
    "}"
   ]
  },
  {
   "cell_type": "markdown",
   "id": "f0fb735a-49ec-494b-bd32-900d4e150b81",
   "metadata": {},
   "source": [
    "> **NOTE:** One restriction of generics in Java is that the type (type $<T>$) parameter cannot be a primitive type.  \n",
    "It can be any non-primitive object."
   ]
  },
  {
   "cell_type": "code",
   "execution_count": 24,
   "id": "39fe7e30-ed1d-41c8-a534-f20c703df746",
   "metadata": {},
   "outputs": [],
   "source": [
    "class Print<T> {\n",
    "    T value;\n",
    "\n",
    "    public T getPrintValue() {\n",
    "        return value;\n",
    "    }\n",
    "\n",
    "    public void setPrintValue(T value) {\n",
    "        this.value = value;\n",
    "    }\n",
    "}"
   ]
  },
  {
   "cell_type": "code",
   "execution_count": 25,
   "id": "412152c4-5274-40d8-8815-8ce53ada7e53",
   "metadata": {},
   "outputs": [
    {
     "name": "stdout",
     "output_type": "stream",
     "text": [
      "10.0\n",
      "Hello, World\n"
     ]
    }
   ],
   "source": [
    "Print<Float> print = new Print<Float>();\n",
    "print.setPrintValue(10.0f);\n",
    "\n",
    "Float value = print.getPrintValue();\n",
    "System.out.println(value);\n",
    "\n",
    "if (value == 10) {\n",
    "    System.out.println(\"Hello, World\");\n",
    "}"
   ]
  },
  {
   "cell_type": "code",
   "execution_count": 26,
   "id": "4439a51c-89e5-47c9-86b4-b513817e35c8",
   "metadata": {},
   "outputs": [
    {
     "data": {
      "text/plain": [
       "true"
      ]
     },
     "execution_count": 26,
     "metadata": {},
     "output_type": "execute_result"
    }
   ],
   "source": [
    "10 == 10.0f;"
   ]
  },
  {
   "cell_type": "code",
   "execution_count": 27,
   "id": "98a4d06a-be5b-4d9b-b4ea-95338e6e8e6c",
   "metadata": {},
   "outputs": [
    {
     "name": "stdout",
     "output_type": "stream",
     "text": [
      "Good, Morning\n",
      "Hello, Moscow\n"
     ]
    }
   ],
   "source": [
    "Print<String> print = new Print<String>();\n",
    "print.setPrintValue(\"Good, Morning\");\n",
    "\n",
    "String value = print.getPrintValue();\n",
    "System.out.println(value);\n",
    "\n",
    "if (value == \"10\") {\n",
    "    System.out.println(\"Hello, World\");\n",
    "} else {\n",
    "    System.out.println(\"Hello, Moscow\");\n",
    "}"
   ]
  },
  {
   "cell_type": "markdown",
   "id": "7b6cd4b9-2126-4f33-88c0-1c795632adcc",
   "metadata": {},
   "source": [
    "### Inheritance with Generic Class\n",
    "\n",
    "#### 1. Non-Generic Subclass\n",
    "\n",
    "If the subclass is non-generic, you must explicitly define the type when extending the generic class."
   ]
  },
  {
   "cell_type": "code",
   "execution_count": 28,
   "id": "c5ea965b-c7ee-45e9-9757-5203f2aa5fa2",
   "metadata": {},
   "outputs": [
    {
     "name": "stdout",
     "output_type": "stream",
     "text": [
      "Hello\n"
     ]
    },
    {
     "data": {
      "text/plain": [
       "Non Generic"
      ]
     },
     "execution_count": 28,
     "metadata": {},
     "output_type": "execute_result"
    }
   ],
   "source": [
    "public class ColorPrint extends Print<String> {\n",
    "    @Override\n",
    "    public String getPrintValue() {\n",
    "        System.out.println(super.value);\n",
    "        return \"Non Generic\";\n",
    "    }\n",
    "}\n",
    "\n",
    "ColorPrint color_print = new ColorPrint();\n",
    "color_print.setPrintValue(\"Hello\");\n",
    "color_print.getPrintValue();"
   ]
  },
  {
   "cell_type": "markdown",
   "id": "58006054-ca5c-453a-ae49-98a375f3d7fc",
   "metadata": {},
   "source": [
    "#### 2. Generic Subclass\n",
    "\n",
    "If a subclass is generic, it can define its own type parameters or inherit the type parameters from the generic superclass."
   ]
  },
  {
   "cell_type": "code",
   "execution_count": 29,
   "id": "3f782514-b0d0-44ec-b002-2540e9ab8089",
   "metadata": {},
   "outputs": [
    {
     "data": {
      "text/plain": [
       "15"
      ]
     },
     "execution_count": 29,
     "metadata": {},
     "output_type": "execute_result"
    }
   ],
   "source": [
    "public class ColorPrint<T> extends Print<T> {}\n",
    "\n",
    "ColorPrint<Integer> color_print = new ColorPrint<Integer>();\n",
    "color_print.setPrintValue(15);\n",
    "color_print.getPrintValue();"
   ]
  },
  {
   "cell_type": "code",
   "execution_count": 30,
   "id": "91eb3a96-7a28-4b24-b5d1-604b4a87fec2",
   "metadata": {},
   "outputs": [
    {
     "data": {
      "text/plain": [
       "15.5"
      ]
     },
     "execution_count": 30,
     "metadata": {},
     "output_type": "execute_result"
    }
   ],
   "source": [
    "ColorPrint<Float> color_print = new ColorPrint<>();\n",
    "color_print.setPrintValue(15.5f);\n",
    "color_print.getPrintValue();"
   ]
  },
  {
   "cell_type": "code",
   "execution_count": 31,
   "id": "8ff5a658-d41e-44ec-b300-42a275ec15ca",
   "metadata": {},
   "outputs": [],
   "source": [
    "// More than one generic type examples\n",
    "public class Pair<K, V> {\n",
    "    private K key;\n",
    "    private V value;\n",
    "    \n",
    "    public void put(K key, V value) {\n",
    "        this.key = key;\n",
    "        this.value = value;\n",
    "    }\n",
    "    \n",
    "    public String get() {\n",
    "        return key + value.toString();\n",
    "    }\n",
    "}"
   ]
  },
  {
   "cell_type": "code",
   "execution_count": 32,
   "id": "528c1935-36f6-4522-96d8-0740f54250c9",
   "metadata": {},
   "outputs": [
    {
     "data": {
      "text/plain": [
       "Hello 420"
      ]
     },
     "execution_count": 32,
     "metadata": {},
     "output_type": "execute_result"
    }
   ],
   "source": [
    "Pair<String, Integer> pair = new Pair<>();\n",
    "pair.put(\"Hello \", 420);\n",
    "pair.get();"
   ]
  },
  {
   "cell_type": "markdown",
   "id": "5ad719e9-88d6-49ee-99f8-089fd51fd504",
   "metadata": {},
   "source": [
    "### Generic Method\n",
    "\n",
    "What if you only want to make the methods generic, not the entire class? \n",
    "\n",
    "You can create generic methods as well.  \n",
    "* The type parameter should be placed before the return type in the method declaration.  \n",
    "* The scope of the type parameter is limited to the method itself."
   ]
  },
  {
   "cell_type": "code",
   "execution_count": 33,
   "id": "918cb749-9855-43da-a28f-1fcecc60e2ce",
   "metadata": {},
   "outputs": [],
   "source": [
    "public class GenericMethod {\n",
    "    public <K, V> void printValue(Pair<K, V> pair1, Pair<K, V> pair2) {\n",
    "        if (pair1.getKey().equals(pair2.getKey())) {\n",
    "            // do something\n",
    "        }\n",
    "    }\n",
    "}"
   ]
  },
  {
   "cell_type": "markdown",
   "id": "cff35840-39ee-4283-be4d-668844332d1b",
   "metadata": {},
   "source": [
    "### Raw Type\n",
    "\n",
    "A raw type refers to a generic class or interface used without specifying any type arguments."
   ]
  },
  {
   "cell_type": "code",
   "execution_count": 34,
   "id": "9d6b949b-f3d3-4611-8651-440dc2d750e3",
   "metadata": {},
   "outputs": [
    {
     "data": {
      "text/plain": [
       "20.0"
      ]
     },
     "execution_count": 34,
     "metadata": {},
     "output_type": "execute_result"
    }
   ],
   "source": [
    "// generic way\n",
    "Print<Float> print = new Print<Float>();\n",
    "print.setPrintValue(20.0f);\n",
    "print.getPrintValue();"
   ]
  },
  {
   "cell_type": "code",
   "execution_count": 35,
   "id": "404c90d6-586a-4ebb-b850-b2411e7df6fa",
   "metadata": {},
   "outputs": [
    {
     "data": {
      "text/plain": [
       "100"
      ]
     },
     "execution_count": 35,
     "metadata": {},
     "output_type": "execute_result"
    }
   ],
   "source": [
    "// raw way\n",
    "Print raw_print = new Print(); // Print<Object> print = new Print<>();\n",
    "raw_print.setPrintValue(100);\n",
    "raw_print.getPrintValue();"
   ]
  },
  {
   "cell_type": "markdown",
   "id": "c77ea144-9d77-43e2-9fa4-681b4582fc17",
   "metadata": {},
   "source": [
    "### Bounded Generics\n",
    "\n",
    "Bounded generics can be used with both generic classes and methods.\n",
    "\n",
    "* [Type Parameter vs Wildcard in Java Generics](https://www.baeldung.com/java-generics-type-parameter-vs-wildcard)\n",
    "\n",
    "#### Upper Bound\n",
    "\n",
    "`<T extends Number>` means that `T` can be of type `Number` or any [subclass](https://media.geeksforgeeks.org/wp-content/uploads/lang-1.png) of `Number`."
   ]
  },
  {
   "cell_type": "code",
   "execution_count": 36,
   "id": "b733b33b-67d2-425a-9289-c2e8713280ad",
   "metadata": {},
   "outputs": [
    {
     "data": {
      "text/plain": [
       "500"
      ]
     },
     "execution_count": 36,
     "metadata": {},
     "output_type": "execute_result"
    }
   ],
   "source": [
    "class Print<T extends Number> {\n",
    "    T value;\n",
    "\n",
    "    public T getPrintValue() {\n",
    "        return value;\n",
    "    }\n",
    "\n",
    "    public void setPrintValue(T value) {\n",
    "        this.value = value;\n",
    "    }\n",
    "}\n",
    "\n",
    "Print<Number> print2 = new Print<>();\n",
    "print2.setPrintValue(500);\n",
    "print2.getPrintValue();"
   ]
  },
  {
   "cell_type": "code",
   "execution_count": 37,
   "id": "161562ca-db2d-4217-b5a1-c55a6b1b7689",
   "metadata": {},
   "outputs": [
    {
     "data": {
      "text/plain": [
       "500.45"
      ]
     },
     "execution_count": 37,
     "metadata": {},
     "output_type": "execute_result"
    }
   ],
   "source": [
    "print2.setPrintValue(500.45f);\n",
    "print2.getPrintValue();"
   ]
  },
  {
   "cell_type": "code",
   "execution_count": 38,
   "id": "688d1569-2b4c-4069-aa68-29d73bbaec53",
   "metadata": {},
   "outputs": [
    {
     "ename": "CompilationException",
     "evalue": "",
     "output_type": "error",
     "traceback": [
      "\u001b[1m\u001b[30m|   \u001b[1m\u001b[30mPrint<\u001b[0m\u001b[1m\u001b[30m\u001b[41mString\u001b[0m\u001b[1m\u001b[30m> print2 = new Print<>();\u001b[0m",
      "\u001b[1m\u001b[31mtype argument java.lang.String is not within bounds of type-variable T\u001b[0m",
      "",
      "\u001b[1m\u001b[30m|   \u001b[1m\u001b[30mPrint<String> print2 = new \u001b[0m\u001b[1m\u001b[30m\u001b[41mPrint<>\u001b[0m\u001b[1m\u001b[30m();\u001b[0m",
      "\u001b[1m\u001b[31mincompatible types: cannot infer type arguments for Print<>\u001b[0m",
      "\u001b[1m\u001b[31m    reason: inference variable T has incompatible bounds\u001b[0m",
      "\u001b[1m\u001b[31m      equality constraints: java.lang.String\u001b[0m",
      "\u001b[1m\u001b[31m      upper bounds: java.lang.Number\u001b[0m",
      ""
     ]
    }
   ],
   "source": [
    "Print<String> print2 = new Print<>();\n",
    "print2.setPrintValue(\"500\");\n",
    "print2.getPrintValue();"
   ]
  },
  {
   "cell_type": "markdown",
   "id": "cef73d57-73e8-4e2d-a947-3920b3d0411a",
   "metadata": {},
   "source": [
    "#### Multi-Bound\n",
    "\n",
    "Signature: `<T extends Superclass & Interface1 & InterfaceN>`\n",
    "\n",
    "* The first bound must be a concrete class.\n",
    "* Subsequent bounds can be one or more interfaces."
   ]
  },
  {
   "cell_type": "code",
   "execution_count": 39,
   "id": "023a99ea-8133-4b6d-86de-74beb7ef5e14",
   "metadata": {},
   "outputs": [],
   "source": [
    "class A {}\n",
    "\n",
    "public interface Interface1{}\n",
    "public interface Interface2{}\n",
    "\n",
    "// demo \n",
    "public class childClass extends A implements Interface1, Interface2 {}\n",
    "\n",
    "// actual code\n",
    "public class Print<T extends A & Interface1 & Interface2> {\n",
    "    T val;\n",
    "\n",
    "    public T getVal() {\n",
    "        return val;\n",
    "    }\n",
    "\n",
    "    public void setVal(T val) {\n",
    "        this.val = val;\n",
    "    }\n",
    "}"
   ]
  },
  {
   "cell_type": "markdown",
   "id": "515cd251-765a-4154-96a4-0301884af64d",
   "metadata": {},
   "source": [
    "### Wildcards in Generics\n",
    "\n",
    "[Java Generics – <?> vs <? extends Object>](https://www.baeldung.com/java-generics-vs-extends-object)\n",
    "\n",
    "* **Upper-bounded wildcard**: `<? extends UpperBoundClassName>`  \n",
    "  * Allows you to work with objects of `UpperBoundClassName` or its subclasses.\n",
    "* **Lower-bounded wildcard**: `<? super LowerBoundClassName>`  \n",
    "  * Allows you to work with objects of `LowerBoundClassName` or its superclasses.\n",
    "* **Unbounded wildcard**: `<?>`  \n",
    "  * Can represent any type but is limited to read-only access.\n",
    "\n",
    "### Generic class Erasure\n",
    "\n",
    "```java\n",
    "public class Print<T extends Number> {\n",
    "  T value;\n",
    "\n",
    "  public void setValue(T value) {\n",
    "    this.value = value;\n",
    "  }\n",
    "}\n",
    "```\n",
    "\n",
    "After converting to bytecode\n",
    "\n",
    "```java\n",
    "public class Print {\n",
    "  Number value;\n",
    "\n",
    "  public void setValue(Number value) {\n",
    "    this.value = value;\n",
    "  }\n",
    "}\n",
    "```\n",
    "\n",
    "## POJO Class\n",
    "\n",
    "* Stands for \"Plain Old Java Object.\"\n",
    "* Contains variables along with their getter and setter methods.\n",
    "* The class should be `public`.\n",
    "* It should have a public default constructor.\n",
    "* No annotations, such as `@Table`, `@Entity`, `@Id`, etc., should be used.\n",
    "* It should not extend any class or implement any interface."
   ]
  },
  {
   "cell_type": "code",
   "execution_count": 40,
   "id": "e21b3318-bdbb-4930-9f97-6db3c00399a7",
   "metadata": {},
   "outputs": [],
   "source": [
    "public class Student {\n",
    "    int id;\n",
    "    private String name;\n",
    "    protected String course;\n",
    "\n",
    "    public String getName() {\n",
    "        return this.name;\n",
    "    }\n",
    "\n",
    "    public void setName(String name) {\n",
    "        this.name = name;\n",
    "    }\n",
    "\n",
    "    public int getId() {\n",
    "        return this.id;\n",
    "    }\n",
    "\n",
    "    public void setId(int id) {\n",
    "        this.id = id;\n",
    "    }\n",
    "\n",
    "    public String getCourse() {\n",
    "        return this.course;\n",
    "    }\n",
    "\n",
    "    public void setCourse(String course) {\n",
    "        this.course = course;\n",
    "    }\n",
    "}"
   ]
  },
  {
   "cell_type": "code",
   "execution_count": 41,
   "id": "00091932-029d-4823-8e74-84e9ab703698",
   "metadata": {},
   "outputs": [
    {
     "data": {
      "text/plain": [
       "Software Engineering"
      ]
     },
     "execution_count": 41,
     "metadata": {},
     "output_type": "execute_result"
    }
   ],
   "source": [
    "Student student = new Student();\n",
    "student.setCourse(\"Software Engineering\");\n",
    "student.getCourse();"
   ]
  },
  {
   "cell_type": "markdown",
   "id": "ecea6543-749e-468e-8acb-5c43db03827c",
   "metadata": {},
   "source": [
    "## Enum Class\n",
    "\n",
    "* An Enum class contains a collection of constants.\n",
    "* All constants in an Enum are implicitly `static` and `final`.\n",
    "* It cannot extend other classes since it automatically extends the `java.lang.Enum` class.\n",
    "* It can implement interfaces.\n",
    "* An Enum can contain variables, constructors, and methods.\n",
    "* cannot be instantiated directly because:\n",
    "  * Its constructor is always private. Even if you declare it with default access, the bytecode automatically marks it as private.\n",
    "* No other class can extend an Enum class.\n",
    "* An Enum class can have abstract methods, and all constants within the Enum must implement these abstract methods.\n",
    "\n",
    "### Further Reading\n",
    "\n",
    "* [Enum Class in Java](https://www.youtube.com/playlist?list=PLR1BXeBj1husxxtCRd2d18HJ5D7hGRZ0y) by Durga sir\n",
    "* [Attaching Values to Java Enum](https://www.baeldung.com/java-enum-values)\n",
    "* [A Guide to Java Enums](https://www.baeldung.com/a-guide-to-java-enums)\n",
    "\n",
    "### Normal Enum Class\n",
    "\n",
    "If no value is provided to the constants in an enum, the default value is assigned starting from 0 and incrementing by 1 for each subsequent constant.\n",
    "\n",
    "There are four important methods available in an enum:\n",
    "\n",
    "* `values()`: Returns an array containing all the constants of the enum in the order they are declared\n",
    "* `ordinal()`: Returns the position of the constant in the enum (its index, starting from 0).\n",
    "* `valueOf(String name)`: Returns the enum constant of the specified string name. The string must exactly match the name of one of the enum constants (case-sensitive). If the string doesn't match any constant, it throws an `IllegalArgumentException`.\n",
    "* `name()`: Returns the exact name of the enum constant as a string."
   ]
  },
  {
   "cell_type": "code",
   "execution_count": 42,
   "id": "71571ad5-68ce-4f1d-ada1-7bcc3aedecf1",
   "metadata": {},
   "outputs": [],
   "source": [
    "public enum EnumSample {\n",
    "    MONDAY,\n",
    "    TUESDAY,\n",
    "    WEDNESDAY,\n",
    "    THURSDAY,\n",
    "    FRIDAY,\n",
    "    SATURDAY,\n",
    "    SUNDAY;\n",
    "}"
   ]
  },
  {
   "cell_type": "code",
   "execution_count": 43,
   "id": "58e2399c-8dbe-49cc-84f5-5cbe93551469",
   "metadata": {},
   "outputs": [
    {
     "name": "stdout",
     "output_type": "stream",
     "text": [
      "0\n",
      "1\n",
      "2\n",
      "3\n",
      "4\n",
      "5\n",
      "6\n"
     ]
    }
   ],
   "source": [
    "for (EnumSample sample: EnumSample.values()) {\n",
    "    System.out.println(sample.ordinal());\n",
    "}"
   ]
  },
  {
   "cell_type": "code",
   "execution_count": 44,
   "id": "47eeda70-b637-4420-a615-8a1accc367cc",
   "metadata": {},
   "outputs": [
    {
     "name": "stdout",
     "output_type": "stream",
     "text": [
      "MONDAY\n",
      "TUESDAY\n",
      "WEDNESDAY\n",
      "THURSDAY\n",
      "FRIDAY\n",
      "SATURDAY\n",
      "SUNDAY\n"
     ]
    }
   ],
   "source": [
    "for (EnumSample sample: EnumSample.values()) {\n",
    "    System.out.println(sample);\n",
    "}"
   ]
  },
  {
   "cell_type": "code",
   "execution_count": 45,
   "id": "46968267-67e0-4cbb-8974-51acb72a8712",
   "metadata": {},
   "outputs": [
    {
     "data": {
      "text/plain": [
       "SUNDAY"
      ]
     },
     "execution_count": 45,
     "metadata": {},
     "output_type": "execute_result"
    }
   ],
   "source": [
    "EnumSample sampleVariable = EnumSample.valueOf(\"SUNDAY\");\n",
    "sampleVariable.name();"
   ]
  },
  {
   "cell_type": "markdown",
   "id": "53f4d7f0-d926-43dc-8cfe-bc90b074b7a6",
   "metadata": {},
   "source": [
    "### Enum with Custom Values"
   ]
  },
  {
   "cell_type": "code",
   "execution_count": 46,
   "id": "d98501cf-dcda-47e7-8164-e090d7ba88ee",
   "metadata": {},
   "outputs": [],
   "source": [
    "public enum EnumSample {\n",
    "    MONDAY (101, \"1st day of the week\"),\n",
    "    TUESDAY (102, \"2nd day of the week\"),\n",
    "    WEDNESDAY (103, \"3rd day of the week\"),\n",
    "    THURSDAY (104, \"4th day of the week\"),\n",
    "    FRIDAY (105, \"5th day of the week\"),\n",
    "    SATURDAY (106, \"1st day of the weekend\"),\n",
    "    SUNDAY (107, \"2nd day of the weekend\");\n",
    "\n",
    "    private int val;\n",
    "    private String comment;\n",
    "\n",
    "    EnumSample(int val, String comment) {\n",
    "        this.val = val;\n",
    "        this.comment = comment;\n",
    "    }\n",
    "\n",
    "    public int getValue(int val) {\n",
    "        return this.val;\n",
    "    }\n",
    "\n",
    "    public String getComment() {\n",
    "        return this.comment;\n",
    "    }\n",
    "\n",
    "    public static EnumSample getEnumFromVariable(int val) {\n",
    "        for (EnumSample sample: EnumSample.values()) {\n",
    "            if (sample.val == val) {\n",
    "                return sample;\n",
    "            }\n",
    "        }\n",
    "        return null;\n",
    "    }\n",
    "}"
   ]
  },
  {
   "cell_type": "code",
   "execution_count": 47,
   "id": "4649d95b-885a-4e2c-84a6-f8ee6191b09a",
   "metadata": {},
   "outputs": [
    {
     "data": {
      "text/plain": [
       "5th day of the week"
      ]
     },
     "execution_count": 47,
     "metadata": {},
     "output_type": "execute_result"
    }
   ],
   "source": [
    "EnumSample enumSample = EnumSample.getEnumFromVariable(105);\n",
    "enumSample.getComment();"
   ]
  },
  {
   "cell_type": "markdown",
   "id": "749966d6-b7a6-449a-879b-c1828188217e",
   "metadata": {},
   "source": [
    "### Method Overridden by Constant"
   ]
  },
  {
   "cell_type": "code",
   "execution_count": 48,
   "id": "3965b96c-9f3d-4c40-bfc7-89e1261eb9db",
   "metadata": {},
   "outputs": [],
   "source": [
    "public enum EnumSample {\n",
    "    MONDAY {\n",
    "        @Override\n",
    "        public void dummyMethod() {\n",
    "            System.out.println(\"Dummy Monday\");\n",
    "        }\n",
    "    },\n",
    "    TUESDAY,\n",
    "    WEDNESDAY,\n",
    "    THURSDAY,\n",
    "    FRIDAY,\n",
    "    SATURDAY,\n",
    "    SUNDAY;\n",
    "\n",
    "    public void dummyMethod() {\n",
    "        System.out.println(\"Dummy Default\");\n",
    "    }\n",
    "}"
   ]
  },
  {
   "cell_type": "code",
   "execution_count": 49,
   "id": "37d9b848-a653-4de2-8223-e5f4274fa146",
   "metadata": {},
   "outputs": [
    {
     "name": "stdout",
     "output_type": "stream",
     "text": [
      "Dummy Default\n"
     ]
    }
   ],
   "source": [
    "EnumSample saturdayEnum = EnumSample.SATURDAY;\n",
    "saturdayEnum.dummyMethod();"
   ]
  },
  {
   "cell_type": "code",
   "execution_count": 50,
   "id": "4acc3386-666d-4789-a3f4-674423003f79",
   "metadata": {},
   "outputs": [
    {
     "name": "stdout",
     "output_type": "stream",
     "text": [
      "Dummy Monday\n"
     ]
    }
   ],
   "source": [
    "EnumSample mondayEnum = EnumSample.MONDAY;\n",
    "mondayEnum.dummyMethod();"
   ]
  },
  {
   "cell_type": "markdown",
   "id": "81bc01ce-5873-467f-8da2-9ee3996e77fc",
   "metadata": {},
   "source": [
    "### Enum with an Abstract Method"
   ]
  },
  {
   "cell_type": "code",
   "execution_count": 51,
   "id": "e6357f96-5051-4003-9b13-b64dbbf121d6",
   "metadata": {},
   "outputs": [],
   "source": [
    "public enum EnumSample {\n",
    "    MONDAY {\n",
    "        public void dummyMethod() {\n",
    "            System.out.println(\"Dummy Monday...\");\n",
    "        }\n",
    "    },\n",
    "    TUESDAY {\n",
    "        public void dummyMethod() {\n",
    "            System.out.println(\"Dummy Tuesday...\");\n",
    "        }\n",
    "    };\n",
    "\n",
    "    public abstract void dummyMethod();\n",
    "}"
   ]
  },
  {
   "cell_type": "code",
   "execution_count": 52,
   "id": "9dead8b9-9838-4488-9b10-0d093ae1d36f",
   "metadata": {},
   "outputs": [
    {
     "name": "stdout",
     "output_type": "stream",
     "text": [
      "Dummy Monday...\n"
     ]
    }
   ],
   "source": [
    "EnumSample mondayEnum = EnumSample.MONDAY;\n",
    "mondayEnum.dummyMethod();"
   ]
  },
  {
   "cell_type": "markdown",
   "id": "7eea3cb8-7e6c-4d2e-b0d0-4c4e9a093218",
   "metadata": {},
   "source": [
    "### Interface Implementation in Enum"
   ]
  },
  {
   "cell_type": "code",
   "execution_count": 53,
   "id": "357c7166-ed5e-4268-8012-e0ec9929d085",
   "metadata": {},
   "outputs": [
    {
     "data": {
      "text/plain": [
       "monday"
      ]
     },
     "execution_count": 53,
     "metadata": {},
     "output_type": "execute_result"
    }
   ],
   "source": [
    "public interface MyInterface {\n",
    "    public String toLowerCase();\n",
    "}\n",
    "\n",
    "public enum EnumSample implements MyInterface {\n",
    "    MONDAY,\n",
    "    TUESDAY,\n",
    "    WEDNESDAY,\n",
    "    THURSDAY,\n",
    "    FRIDAY,\n",
    "    SATURDAY,\n",
    "    SUNDAY;\n",
    "\n",
    "    // its common for all constants\n",
    "    @Override\n",
    "    public String toLowerCase() {\n",
    "        return this.name().toLowerCase();\n",
    "    }\n",
    "}\n",
    "\n",
    "EnumSample mondayEnum = EnumSample.MONDAY;\n",
    "mondayEnum.toLowerCase();"
   ]
  },
  {
   "cell_type": "markdown",
   "id": "77b3c166-a54e-42b4-bdf2-132d2d027ad7",
   "metadata": {},
   "source": [
    "### Advantages of Enums over Constant Variables"
   ]
  },
  {
   "cell_type": "code",
   "execution_count": 54,
   "id": "63156528-8431-4b05-b1be-34c260631c50",
   "metadata": {},
   "outputs": [],
   "source": [
    "public class WeekConstants {\n",
    "    static final int MONDAY = 0;\n",
    "    static final int TUESDAY = 1;\n",
    "    static final int WEDNESDAY = 2;\n",
    "    static final int THURSDAY = 3;\n",
    "    static final int FRIDAY = 4;\n",
    "    static final int SATURDAY = 5;\n",
    "    static final int SUNDAY = 6;\n",
    "}\n",
    "\n",
    "// improved readability and full control over the parameters being passed.\n",
    "public enum EnumSample {\n",
    "    MONDAY,\n",
    "    TUESDAY,\n",
    "    WEDNESDAY,\n",
    "    THURSDAY,\n",
    "    FRIDAY,\n",
    "    SATURDAY,\n",
    "    SUNDAY;\n",
    "}\n",
    "\n",
    "// Main.java\n",
    "public static boolean isWeekend(int day) {\n",
    "    return (WeekConstants.SATURDAY == day || WeekConstants.SUNDAY == day);\n",
    "}\n",
    "\n",
    "public static boolean isEnumWeekend(EnumSample day) {\n",
    "    return (EnumSample.SATURDAY == day || EnumSample.SUNDAY == day);\n",
    "}"
   ]
  },
  {
   "cell_type": "code",
   "execution_count": 55,
   "id": "86ad4e6d-28a3-4080-89d8-17253f5a3999",
   "metadata": {},
   "outputs": [
    {
     "data": {
      "text/plain": [
       "false"
      ]
     },
     "execution_count": 55,
     "metadata": {},
     "output_type": "execute_result"
    }
   ],
   "source": [
    "isWeekend(1);"
   ]
  },
  {
   "cell_type": "code",
   "execution_count": 56,
   "id": "1179372a-9929-4428-94d7-35be56e1512e",
   "metadata": {},
   "outputs": [
    {
     "data": {
      "text/plain": [
       "false"
      ]
     },
     "execution_count": 56,
     "metadata": {},
     "output_type": "execute_result"
    }
   ],
   "source": [
    "isWeekend(100);"
   ]
  },
  {
   "cell_type": "code",
   "execution_count": 57,
   "id": "0f0dc7e4-fe71-4a24-bb46-15c6f2011e24",
   "metadata": {},
   "outputs": [
    {
     "data": {
      "text/plain": [
       "true"
      ]
     },
     "execution_count": 57,
     "metadata": {},
     "output_type": "execute_result"
    }
   ],
   "source": [
    "isWeekend(6);"
   ]
  },
  {
   "cell_type": "code",
   "execution_count": 58,
   "id": "ae40662b-e9cd-477b-a199-077789d8f968",
   "metadata": {},
   "outputs": [
    {
     "data": {
      "text/plain": [
       "true"
      ]
     },
     "execution_count": 58,
     "metadata": {},
     "output_type": "execute_result"
    }
   ],
   "source": [
    "isWeekend(5);"
   ]
  },
  {
   "cell_type": "code",
   "execution_count": 59,
   "id": "cf6970d6-268f-4123-920a-2135d64c8e24",
   "metadata": {},
   "outputs": [
    {
     "data": {
      "text/plain": [
       "true"
      ]
     },
     "execution_count": 59,
     "metadata": {},
     "output_type": "execute_result"
    }
   ],
   "source": [
    "isEnumWeekend(EnumSample.SATURDAY);"
   ]
  },
  {
   "cell_type": "code",
   "execution_count": 60,
   "id": "6d3bb02d-5d65-41ee-8885-dbab91eb6523",
   "metadata": {},
   "outputs": [
    {
     "data": {
      "text/plain": [
       "false"
      ]
     },
     "execution_count": 60,
     "metadata": {},
     "output_type": "execute_result"
    }
   ],
   "source": [
    "isEnumWeekend(EnumSample.MONDAY);"
   ]
  },
  {
   "cell_type": "markdown",
   "id": "8817204a-165b-4378-b85d-65a2ec70b5be",
   "metadata": {},
   "source": [
    "## Singleton Class\n",
    "\n",
    "The objective of the Singleton class is to ensure that only one instance of the class is created.\n",
    "\n",
    "* [Singletons in Java](https://www.baeldung.com/java-singleton)\n",
    "* [Drawbacks of the Singleton Design Pattern](https://www.baeldung.com/java-patterns-singleton-cons)\n",
    "* [Bill Pugh Singleton Implementation](https://www.baeldung.com/java-bill-pugh-singleton-implementation)\n",
    "\n",
    "Different ways to implement a Singleton class:\n",
    "\n",
    "* **Eager Initialization:** The instance is created at the time of class loading.\n",
    "* **Lazy Initialization:** The instance is created when it is first requested.\n",
    "* **Synchronization Block:** This approach synchronizes the method or block of code to ensure that only one thread can access it at a time.\n",
    "* **Double-Checked Locking:** This method minimizes the performance overhead by checking if the instance is `null` before entering the synchronized block. However, it requires the use of `volatile` to address memory consistency issues.\n",
    "* **Bill Pugh Solution:** A highly efficient and thread-safe approach that leverages the **static inner class** to implement the Singleton pattern.\n",
    "* **Enum Singleton:** This is considered the best way to implement a Singleton in Java, as it is both simple and guarantees thread safety, even in the case of serialization.  \n",
    "\n",
    "### Eager Initialization"
   ]
  },
  {
   "cell_type": "code",
   "execution_count": 61,
   "id": "f97fca01-9296-49ca-ab29-fd9aa00db140",
   "metadata": {},
   "outputs": [
    {
     "data": {
      "text/plain": [
       "REPL.$JShell$116$DBConnection@3fdcde8d"
      ]
     },
     "execution_count": 61,
     "metadata": {},
     "output_type": "execute_result"
    }
   ],
   "source": [
    "public class DBConnection {\n",
    "    private static DBConnection conObject = new DBConnection();\n",
    "    private DBConnection() {}\n",
    "\n",
    "    public static DBConnection getInstance() {\n",
    "        return conObject;\n",
    "    }\n",
    "}\n",
    "\n",
    "DBConnection conObject = DBConnection.getInstance();\n",
    "conObject;"
   ]
  },
  {
   "cell_type": "markdown",
   "id": "5a01f0a4-c44a-49db-9ade-83a256128529",
   "metadata": {},
   "source": [
    "### Lazy Initialization"
   ]
  },
  {
   "cell_type": "code",
   "execution_count": 62,
   "id": "dc1565d1-2e13-484a-989e-ad8300a1f711",
   "metadata": {},
   "outputs": [],
   "source": [
    "public class DBConnection {\n",
    "    private static DBConnection conObject;\n",
    "    private DBConnection() {}\n",
    "\n",
    "    public static DBConnection getInstance() {\n",
    "        if (conObject == null) {\n",
    "            conObject = new DBConnection();\n",
    "        }\n",
    "        return conObject;\n",
    "    }\n",
    "}"
   ]
  },
  {
   "cell_type": "markdown",
   "id": "318750c5-c125-4f65-bad5-54209cef3464",
   "metadata": {},
   "source": [
    "### Synchronization Block"
   ]
  },
  {
   "cell_type": "code",
   "execution_count": 63,
   "id": "3557aa1a-3d7b-4ab3-bd26-f573ea66581c",
   "metadata": {},
   "outputs": [],
   "source": [
    "public class DBConnection {\n",
    "    private static DBConnection conObject;\n",
    "    private DBConnection() {}\n",
    "\n",
    "    synchronized public static DBConnection getInstance() {\n",
    "        if (conObject == null) {\n",
    "            conObject = new DBConnection();\n",
    "        }\n",
    "        return conObject;\n",
    "    }\n",
    "}"
   ]
  },
  {
   "cell_type": "markdown",
   "id": "a0d97e15-1ef9-46af-9d72-1537a91cc5fa",
   "metadata": {},
   "source": [
    "### Double Check Lock"
   ]
  },
  {
   "cell_type": "code",
   "execution_count": 64,
   "id": "a30ef7e1-5f1c-4734-bdec-7b950472524e",
   "metadata": {},
   "outputs": [],
   "source": [
    "public class DBConnection {\n",
    "    private static volatile DBConnection conObject;\n",
    "    private DBConnection() {}\n",
    "\n",
    "    public static DBConnection getInstance() {\n",
    "        if (conObject == null) {\n",
    "            synchronized (DBConnection.class) {\n",
    "                if (conObject == null) {\n",
    "                    conObject = new DBConnection();\n",
    "                }\n",
    "            }\n",
    "        }\n",
    "        return conObject;\n",
    "    }\n",
    "}"
   ]
  },
  {
   "cell_type": "markdown",
   "id": "436c4671-f5ad-4eb5-abf2-8e2d19751db2",
   "metadata": {},
   "source": [
    "### Bill Pug Solution"
   ]
  },
  {
   "cell_type": "code",
   "execution_count": 65,
   "id": "0bd86d0b-cd40-41fb-a407-2c9fd416b9f1",
   "metadata": {},
   "outputs": [],
   "source": [
    "public class DBConnection {\n",
    "    private DBConnection() {}\n",
    "\n",
    "    private static class DBConnectionHelper {\n",
    "        private static final DBConnection INSTANCE_OBJECT = new DBConnection();\n",
    "    }\n",
    "\n",
    "    public static DBConnection getInstance() {\n",
    "        return DBConnectionHelper.INSTANCE_OBJECT;\n",
    "    }\n",
    "}"
   ]
  },
  {
   "cell_type": "markdown",
   "id": "67fddd16-6ab8-459b-bd63-8530172bc859",
   "metadata": {},
   "source": [
    "### Enum Singleton"
   ]
  },
  {
   "cell_type": "code",
   "execution_count": 66,
   "id": "cfcfd92d-33aa-4f6b-baed-b926d2ff90f6",
   "metadata": {},
   "outputs": [],
   "source": [
    "enum DBConnection {\n",
    "    INSTANCE_OBJECT;\n",
    "}"
   ]
  },
  {
   "cell_type": "markdown",
   "id": "8d2ecfa1-76bd-49b8-aef0-648640e14884",
   "metadata": {},
   "source": [
    "## Immutable Class \n",
    "\n",
    "* Once an object is created, its state cannot be changed.\n",
    "* Declare the class as `final` to prevent it from being extended.\n",
    "* All class members should be `private` to avoid direct access.\n",
    "* Class members should be initialized only once, typically through the constructor.\n",
    "* The class should not have setter methods, as they are used to modify values.\n",
    "* Provide only getter methods, which should return copies of the member variables to maintain immutability.\n",
    "* Example: `String` class, wrapper classes (`Integer`, `Double`, etc.)."
   ]
  },
  {
   "cell_type": "code",
   "execution_count": 67,
   "id": "4135bf3f-bcce-4ba2-b8aa-91c362dce5b6",
   "metadata": {},
   "outputs": [],
   "source": [
    "final class MyImmutableClass {\n",
    "    private final String name;\n",
    "    private final List<Object> getNameList;\n",
    "\n",
    "    MyImmutableClass (String name, List<Object> nameList) {\n",
    "        this.name = name;\n",
    "        this.getNameList = nameList;\n",
    "    }\n",
    "\n",
    "    public String getName() {\n",
    "        return this.name;\n",
    "    }\n",
    "\n",
    "    public List<Object> getNameList() {\n",
    "        // the 'final' modifier ensures that the reference to the list cannot be changed, \n",
    "        // but the contents of the list can still be modified. To prevent external modifications\n",
    "        // to the original list, we return a copy of it here.\n",
    "        return new ArrayList<>(getNameList);\n",
    "    }\n",
    "}"
   ]
  },
  {
   "cell_type": "code",
   "execution_count": 68,
   "id": "b1c1d45e-7a85-4416-bbfd-61f06f648e74",
   "metadata": {},
   "outputs": [
    {
     "data": {
      "text/plain": [
       "true"
      ]
     },
     "execution_count": 68,
     "metadata": {},
     "output_type": "execute_result"
    }
   ],
   "source": [
    "List<Object> pets = new ArrayList<>();\n",
    "pets.add(\"Cat\");\n",
    "pets.add(\"Dog\");\n",
    "pets.add(\"Hamster\");"
   ]
  },
  {
   "cell_type": "code",
   "execution_count": 69,
   "id": "7ea562ce-c221-483f-b311-a223a028abdb",
   "metadata": {},
   "outputs": [
    {
     "data": {
      "text/plain": [
       "[Cat, Dog, Hamster]"
      ]
     },
     "execution_count": 69,
     "metadata": {},
     "output_type": "execute_result"
    }
   ],
   "source": [
    "MyImmutableClass obj = new MyImmutableClass(\"John Doe\", pets);\n",
    "obj.getNameList().add(\"Owl\");\n",
    "obj.getNameList();"
   ]
  },
  {
   "cell_type": "markdown",
   "id": "ae565b66-7977-442e-be03-5237cb219211",
   "metadata": {},
   "source": [
    "## Final Class\n",
    "\n",
    "A final class is a class that cannot be extended or subclassed. Example: `StringBuilder`, `Math` classes."
   ]
  },
  {
   "cell_type": "code",
   "execution_count": 70,
   "id": "941ae48d-2ac8-4e5f-96b2-7a9881a2d634",
   "metadata": {},
   "outputs": [],
   "source": [
    "public final class MathUtils {\n",
    "    public static int add(int a, int b) {\n",
    "        return a + b;\n",
    "    }\n",
    "\n",
    "    public static int multiply(int a, int b) {\n",
    "        return a * b;\n",
    "    }\n",
    "}"
   ]
  }
 ],
 "metadata": {
  "kernelspec": {
   "display_name": "Java",
   "language": "java",
   "name": "java"
  },
  "language_info": {
   "codemirror_mode": "java",
   "file_extension": ".jshell",
   "mimetype": "text/x-java-source",
   "name": "Java",
   "pygments_lexer": "java",
   "version": "21.0.5+11-LTS"
  }
 },
 "nbformat": 4,
 "nbformat_minor": 5
}
