{
 "cells": [
  {
   "cell_type": "code",
   "execution_count": 1,
   "metadata": {},
   "outputs": [
    {
     "name": "stdout",
     "output_type": "stream",
     "text": [
      "<function f1 at 0x7fd819319430>\n"
     ]
    }
   ],
   "source": [
    "# in python everything is an object even function\n",
    "\n",
    "def f1():\n",
    "    print('hello')\n",
    "\n",
    "# f1 is a reference variable that holding function object\n",
    "print(f1)"
   ]
  },
  {
   "cell_type": "code",
   "execution_count": 2,
   "metadata": {},
   "outputs": [
    {
     "name": "stdout",
     "output_type": "stream",
     "text": [
      "140566112343088\n"
     ]
    }
   ],
   "source": [
    "print(id(f1))"
   ]
  },
  {
   "cell_type": "markdown",
   "metadata": {},
   "source": [
    "### Function Aliasing\n",
    "\n",
    "we can give another name of existing function, which is called function aliasing."
   ]
  },
  {
   "cell_type": "code",
   "execution_count": 3,
   "metadata": {},
   "outputs": [
    {
     "name": "stdout",
     "output_type": "stream",
     "text": [
      "<function wish at 0x7fd84d0a5310>\n",
      "<function wish at 0x7fd84d0a5310>\n"
     ]
    }
   ],
   "source": [
    "def wish(name='John'):\n",
    "    print(f'Hello {name}')\n",
    "\n",
    "greeting = wish # function aliasing\n",
    "print(greeting)\n",
    "print(wish)"
   ]
  },
  {
   "cell_type": "code",
   "execution_count": 4,
   "metadata": {},
   "outputs": [
    {
     "name": "stdout",
     "output_type": "stream",
     "text": [
      "140566982185744\n",
      "140566982185744\n"
     ]
    }
   ],
   "source": [
    "print(id(greeting))\n",
    "print(id(wish))"
   ]
  },
  {
   "cell_type": "code",
   "execution_count": 5,
   "metadata": {},
   "outputs": [
    {
     "name": "stdout",
     "output_type": "stream",
     "text": [
      "Hello John\n",
      "Hello Rena\n"
     ]
    }
   ],
   "source": [
    "greeting()\n",
    "wish('Rena')"
   ]
  },
  {
   "cell_type": "code",
   "execution_count": 6,
   "metadata": {},
   "outputs": [
    {
     "data": {
      "text/plain": [
       "True"
      ]
     },
     "execution_count": 6,
     "metadata": {},
     "output_type": "execute_result"
    }
   ],
   "source": [
    "greeting is wish"
   ]
  },
  {
   "cell_type": "code",
   "execution_count": 7,
   "metadata": {},
   "outputs": [],
   "source": [
    "del wish"
   ]
  },
  {
   "cell_type": "code",
   "execution_count": 8,
   "metadata": {},
   "outputs": [
    {
     "data": {
      "text/plain": [
       "<function __main__.wish(name='John')>"
      ]
     },
     "execution_count": 8,
     "metadata": {},
     "output_type": "execute_result"
    }
   ],
   "source": [
    "greeting"
   ]
  },
  {
   "cell_type": "markdown",
   "metadata": {},
   "source": [
    "### Nested function\n",
    "\n",
    "when a function is declared inside another function is called nested function."
   ]
  },
  {
   "cell_type": "code",
   "execution_count": 9,
   "metadata": {},
   "outputs": [],
   "source": [
    "def outer():\n",
    "    print('This is from outer function')\n",
    "    \n",
    "    def inner():\n",
    "        print('This is from inner function')"
   ]
  },
  {
   "cell_type": "code",
   "execution_count": 10,
   "metadata": {},
   "outputs": [
    {
     "name": "stdout",
     "output_type": "stream",
     "text": [
      "This is from outer function\n"
     ]
    }
   ],
   "source": [
    "outer()"
   ]
  },
  {
   "cell_type": "code",
   "execution_count": 11,
   "metadata": {},
   "outputs": [],
   "source": [
    "def outer():\n",
    "    print('This is from outer function')\n",
    "    \n",
    "    def inner():\n",
    "        print('This is from inner function')\n",
    "    inner() # to call this from outside of function isn't possible, because inner is local to outer."
   ]
  },
  {
   "cell_type": "code",
   "execution_count": 12,
   "metadata": {},
   "outputs": [
    {
     "name": "stdout",
     "output_type": "stream",
     "text": [
      "This is from outer function\n",
      "This is from inner function\n"
     ]
    }
   ],
   "source": [
    "outer()"
   ]
  },
  {
   "cell_type": "code",
   "execution_count": 13,
   "metadata": {},
   "outputs": [
    {
     "name": "stdout",
     "output_type": "stream",
     "text": [
      "Good Morning John, from outer\n",
      "Good Morning John, from inner\n"
     ]
    }
   ],
   "source": [
    "def outer(name):\n",
    "    print(f'Good Morning {name}, from outer')\n",
    "    \n",
    "    def inner(name):\n",
    "        print(f'Good Morning {name}, from inner')\n",
    "    inner(name)\n",
    "outer('John')"
   ]
  },
  {
   "cell_type": "markdown",
   "metadata": {},
   "source": [
    "### Function as Return Value and Function as Argument"
   ]
  },
  {
   "cell_type": "code",
   "execution_count": 14,
   "metadata": {},
   "outputs": [
    {
     "data": {
      "text/plain": [
       "'Hello World'"
      ]
     },
     "execution_count": 14,
     "metadata": {},
     "output_type": "execute_result"
    }
   ],
   "source": [
    "def outer():\n",
    "    def inner():\n",
    "        return 'Hello World'\n",
    "    return inner # returning the inner function and f1 is holding the object.\n",
    "\n",
    "# first outer is executed, then return value stored in f1 aka function call.\n",
    "f1 = outer()\n",
    "f1()"
   ]
  },
  {
   "cell_type": "code",
   "execution_count": 15,
   "metadata": {},
   "outputs": [],
   "source": [
    "# both are holding the same object aka function aliasing.\n",
    "f1 = outer"
   ]
  },
  {
   "cell_type": "code",
   "execution_count": 16,
   "metadata": {},
   "outputs": [],
   "source": [
    "def f1(func):\n",
    "    func()\n",
    "\n",
    "def f2():\n",
    "    print('f2 function is calling')"
   ]
  },
  {
   "cell_type": "code",
   "execution_count": 17,
   "metadata": {},
   "outputs": [
    {
     "name": "stdout",
     "output_type": "stream",
     "text": [
      "f2 function is calling\n"
     ]
    }
   ],
   "source": [
    "f1(f2)"
   ]
  },
  {
   "cell_type": "code",
   "execution_count": 18,
   "metadata": {},
   "outputs": [
    {
     "name": "stdout",
     "output_type": "stream",
     "text": [
      "(0, 2, 4, 6, 8)\n"
     ]
    }
   ],
   "source": [
    "# example of function as an argument\n",
    "\n",
    "list_of_numbers = list(range(10))\n",
    "\n",
    "def get_even(number):\n",
    "    return number % 2 == 0\n",
    "\n",
    "even_numbers = filter(get_even, list_of_numbers)\n",
    "print(tuple(even_numbers))"
   ]
  },
  {
   "cell_type": "markdown",
   "metadata": {},
   "source": [
    "### Introduction to Decorators\n",
    "\n",
    "a decorator is a function that takes another function as an argument and extends its functionality, returns modified function with extended functionality.\n",
    "\n",
    "```py\n",
    "def decorator_function(input_func):\n",
    "    def output_func():\n",
    "        ...\n",
    "    return output_func\n",
    "```\n",
    "\n",
    "The main objective of decorator function is we can extend the functionality of existing function without modifying that function."
   ]
  },
  {
   "cell_type": "code",
   "execution_count": 19,
   "metadata": {},
   "outputs": [
    {
     "name": "stdout",
     "output_type": "stream",
     "text": [
      "Send the person to parlour\n",
      "Showing the person with full of decoration\n"
     ]
    }
   ],
   "source": [
    "def decorator_func(func):\n",
    "    def inner():\n",
    "        print('Send the person to parlour')\n",
    "        print('Showing the person with full of decoration')\n",
    "    return inner\n",
    "\n",
    "@decorator_func # (func=display)\n",
    "def display():\n",
    "    print('Showing the person as it is')\n",
    "\n",
    "display()"
   ]
  },
  {
   "cell_type": "code",
   "execution_count": 20,
   "metadata": {},
   "outputs": [
    {
     "name": "stdout",
     "output_type": "stream",
     "text": [
      "f2 function is calling\n"
     ]
    }
   ],
   "source": [
    "def f1(func):\n",
    "    return func\n",
    "\n",
    "@f1\n",
    "def f2():\n",
    "    return 'f2 function is calling'\n",
    "print(f2())"
   ]
  },
  {
   "cell_type": "code",
   "execution_count": 21,
   "metadata": {},
   "outputs": [
    {
     "name": "stdout",
     "output_type": "stream",
     "text": [
      "😝😝😝😝😝😝😝😝😝😝\n",
      "15\n"
     ]
    }
   ],
   "source": [
    "def decorator_func(func):\n",
    "    def inner(a, b):\n",
    "        print('😝' * 10)\n",
    "        func(a, b)\n",
    "    return inner\n",
    "\n",
    "@decorator_func\n",
    "def add(a, b):\n",
    "    print(a+b)\n",
    "\n",
    "add(10, 5)"
   ]
  },
  {
   "cell_type": "code",
   "execution_count": 22,
   "metadata": {},
   "outputs": [
    {
     "name": "stdout",
     "output_type": "stream",
     "text": [
      "OMG! who's there\n",
      "The famous sunny leone!\n",
      "we are glad to see you here!\n"
     ]
    }
   ],
   "source": [
    "def for_sunny(func):\n",
    "    def inner(name):\n",
    "        if name.lower() == 'sunny':\n",
    "            print('OMG! who\\'s there')\n",
    "            print(f'The famous {name} leone!')\n",
    "            print('we are glad to see you here!')\n",
    "        else:\n",
    "            func(name)\n",
    "    return inner\n",
    "\n",
    "@for_sunny # wish = for_sunny(wish)\n",
    "def wish(name):\n",
    "    print(f'Hello {name}')\n",
    "\n",
    "wish('sunny')"
   ]
  },
  {
   "cell_type": "code",
   "execution_count": 23,
   "metadata": {},
   "outputs": [
    {
     "name": "stdout",
     "output_type": "stream",
     "text": [
      "Hello durga\n"
     ]
    }
   ],
   "source": [
    "wish('durga')"
   ]
  },
  {
   "cell_type": "markdown",
   "metadata": {},
   "source": [
    "### Call function with decorator and without decorator"
   ]
  },
  {
   "cell_type": "code",
   "execution_count": 24,
   "metadata": {},
   "outputs": [
    {
     "name": "stdout",
     "output_type": "stream",
     "text": [
      "OMG! who's there\n",
      "The famous sunny leone!\n",
      "we are glad to see you here!\n"
     ]
    }
   ],
   "source": [
    "def for_sunny(func):\n",
    "    def inner(name):\n",
    "        if name.lower() == 'sunny':\n",
    "            print('OMG! who\\'s there')\n",
    "            print(f'The famous {name} leone!')\n",
    "            print('we are glad to see you here!')\n",
    "        else:\n",
    "            func(name)\n",
    "    return inner\n",
    "\n",
    "def wish(name):\n",
    "    print(f'Hello {name}')\n",
    "\n",
    "wish = for_sunny(wish)\n",
    "wish('sunny')"
   ]
  },
  {
   "cell_type": "code",
   "execution_count": 25,
   "metadata": {},
   "outputs": [
    {
     "name": "stdout",
     "output_type": "stream",
     "text": [
      "Hello Imran\n"
     ]
    }
   ],
   "source": [
    "wish('Imran')"
   ]
  },
  {
   "cell_type": "markdown",
   "metadata": {},
   "source": [
    "### Decorator chaining\n",
    "\n",
    "we can define multiple decorators for the same function and all these decorators will form decorator chaining..."
   ]
  },
  {
   "cell_type": "code",
   "execution_count": 26,
   "metadata": {},
   "outputs": [
    {
     "name": "stdout",
     "output_type": "stream",
     "text": [
      "decorator2 execution\n"
     ]
    }
   ],
   "source": [
    "def decor1(func):\n",
    "    def inner1():\n",
    "        print('decorator1 execution')\n",
    "    return inner1\n",
    "\n",
    "def decor2(func):\n",
    "    def inner2():\n",
    "        # func is inner1 == True\n",
    "        print('decorator2 execution')\n",
    "    return inner2\n",
    "\n",
    "# first @decor1 will be executed (f1 as an input) and returned inner1 function object will be passed to @decor2 as an argument.\n",
    "@decor2\n",
    "@decor1\n",
    "def f1():\n",
    "    print('Original function')\n",
    "\n",
    "# when we call f1(), it will execute inner2\n",
    "f1() # f1 is inner2 == True"
   ]
  },
  {
   "cell_type": "code",
   "execution_count": 27,
   "metadata": {},
   "outputs": [
    {
     "name": "stdout",
     "output_type": "stream",
     "text": [
      "decorator1 execution\n"
     ]
    }
   ],
   "source": [
    "# change the order of decorator\n",
    "\n",
    "def decor1(func):\n",
    "    def inner1():\n",
    "        print('decorator1 execution')\n",
    "    return inner1\n",
    "\n",
    "def decor2(func):\n",
    "    def inner2():\n",
    "        # func is inner2 == True\n",
    "        print('decorator2 execution')\n",
    "    return inner2\n",
    "\n",
    "@decor1\n",
    "@decor2\n",
    "def f1():\n",
    "    print('Original function')\n",
    "\n",
    "# when we call f1(), it will execute inner1\n",
    "f1() # f1 is inner1 == True"
   ]
  },
  {
   "cell_type": "code",
   "execution_count": 28,
   "metadata": {},
   "outputs": [
    {
     "name": "stdout",
     "output_type": "stream",
     "text": [
      "Original function\n",
      "decorator2 execution\n",
      "decorator1 execution\n"
     ]
    }
   ],
   "source": [
    "def decor1(func):\n",
    "    def inner1():\n",
    "        func()  # ----\n",
    "        print('decorator1 execution')\n",
    "    return inner1\n",
    "\n",
    "def decor2(func):\n",
    "    def inner2():\n",
    "        func() # ----\n",
    "        print('decorator2 execution')\n",
    "    return inner2\n",
    "\n",
    "@decor1\n",
    "@decor2\n",
    "def f1():\n",
    "    print('Original function')\n",
    "\n",
    "# when we call f1(), it will execute inner1\n",
    "f1() # f1 is inner1 == True"
   ]
  },
  {
   "cell_type": "code",
   "execution_count": 29,
   "metadata": {},
   "outputs": [],
   "source": [
    "def decorator(func):\n",
    "    def inner():\n",
    "        result = func()\n",
    "        return result * result\n",
    "    return inner\n",
    "\n",
    "def decorator2(func):\n",
    "    def inner2():\n",
    "        result = func()\n",
    "        return 2 * result\n",
    "    return inner2"
   ]
  },
  {
   "cell_type": "code",
   "execution_count": 30,
   "metadata": {},
   "outputs": [
    {
     "data": {
      "text/plain": [
       "400"
      ]
     },
     "execution_count": 30,
     "metadata": {},
     "output_type": "execute_result"
    }
   ],
   "source": [
    "@decorator\n",
    "def num():\n",
    "    return 20\n",
    "\n",
    "num()"
   ]
  },
  {
   "cell_type": "code",
   "execution_count": 31,
   "metadata": {},
   "outputs": [
    {
     "data": {
      "text/plain": [
       "40"
      ]
     },
     "execution_count": 31,
     "metadata": {},
     "output_type": "execute_result"
    }
   ],
   "source": [
    "@decorator2\n",
    "def num():\n",
    "    return 20\n",
    "\n",
    "num()"
   ]
  },
  {
   "cell_type": "code",
   "execution_count": 32,
   "metadata": {},
   "outputs": [
    {
     "data": {
      "text/plain": [
       "800"
      ]
     },
     "execution_count": 32,
     "metadata": {},
     "output_type": "execute_result"
    }
   ],
   "source": [
    "@decorator2\n",
    "@decorator\n",
    "def num():\n",
    "    return 20\n",
    "\n",
    "num()"
   ]
  },
  {
   "cell_type": "code",
   "execution_count": 33,
   "metadata": {},
   "outputs": [
    {
     "data": {
      "text/plain": [
       "1600"
      ]
     },
     "execution_count": 33,
     "metadata": {},
     "output_type": "execute_result"
    }
   ],
   "source": [
    "@decorator\n",
    "@decorator2\n",
    "def num():\n",
    "    return 20\n",
    "\n",
    "num()"
   ]
  }
 ],
 "metadata": {
  "kernelspec": {
   "display_name": "Python 3 (system-wide)",
   "language": "python",
   "name": "python3"
  },
  "language_info": {
   "codemirror_mode": {
    "name": "ipython",
    "version": 3
   },
   "file_extension": ".py",
   "mimetype": "text/x-python",
   "name": "python",
   "nbconvert_exporter": "python",
   "pygments_lexer": "ipython3",
   "version": "3.8.10"
  }
 },
 "nbformat": 4,
 "nbformat_minor": 4
}
