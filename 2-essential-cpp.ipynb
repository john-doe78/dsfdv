{
 "cells": [
  {
   "cell_type": "markdown",
   "id": "9cc16176",
   "metadata": {},
   "source": [
    "# Before We Start\n",
    "\n",
    "What is Data Structure?\n",
    "\n",
    "* Data Structure is a way of organizing data in the main memory during execution time.\n",
    "\n",
    "### Various Data Structures\n",
    "\n",
    "Logical Data structures are implemented using physical Data structures.\n",
    "\n",
    "* Physical Data Structures (how data is arranged)\n",
    "    * Array\n",
    "    * Matrics\n",
    "    * Linked List\n",
    "* Logical Data Structures (how data is utilized)\n",
    "    * Stack\n",
    "    * Queue\n",
    "    * Tree\n",
    "    * Graph\n",
    "    * Hashing\n",
    "* Recursion\n",
    "* Sorting\n",
    "\n",
    "# Essential C++ Concepts"
   ]
  },
  {
   "cell_type": "code",
   "execution_count": 1,
   "id": "c97d26e6",
   "metadata": {},
   "outputs": [],
   "source": [
    "#include <stdio.h>"
   ]
  },
  {
   "cell_type": "code",
   "execution_count": 2,
   "id": "5b8edf60",
   "metadata": {},
   "outputs": [
    {
     "name": "stdout",
     "output_type": "stream",
     "text": [
      "Hello World"
     ]
    }
   ],
   "source": [
    "printf(\"Hello World\");"
   ]
  },
  {
   "cell_type": "markdown",
   "id": "1157ed8a",
   "metadata": {},
   "source": [
    "## Arrays\n",
    "\n",
    "Arrays are defined as collcection of similiar data elements.\n",
    "\n",
    "![arrays-memory](https://i.ibb.co/N9VM7Wj/image.png)"
   ]
  },
  {
   "cell_type": "code",
   "execution_count": 3,
   "id": "10599b21",
   "metadata": {},
   "outputs": [
    {
     "name": "stdout",
     "output_type": "stream",
     "text": [
      "4 5 6 8 9 \n",
      "10 11 12 "
     ]
    }
   ],
   "source": [
    "// declare an array\n",
    "int A[5];\n",
    "A[0] = 4;\n",
    "A[1] = 5;\n",
    "A[3] = 8;\n",
    "A[4] = 9;\n",
    "A[2] = 6;\n",
    "\n",
    "// declare and initialize the array\n",
    "int B[] = {10, 11, 12};\n",
    "\n",
    "// Accessing the element of the array\n",
    "for (int i = 0; i < 5; i++) {\n",
    "    printf(\"%d \", A[i]);\n",
    "}\n",
    "\n",
    "printf(\"\\n\");\n",
    "\n",
    "for (int i = 0; i < 3; i++) {\n",
    "    printf(\"%d \", B[i]);\n",
    "}"
   ]
  },
  {
   "cell_type": "markdown",
   "id": "c6997184",
   "metadata": {},
   "source": [
    "## Struct\n",
    "\n",
    "Collection of different data members, These data members can be different types. It is useful for defining user data types.\n",
    "\n",
    "![struct-in-memory](https://i.ibb.co/zmvWGwN/image.png)"
   ]
  },
  {
   "cell_type": "code",
   "execution_count": 4,
   "id": "d765438b",
   "metadata": {},
   "outputs": [],
   "source": [
    "struct Rectangle {\n",
    "    int length;\n",
    "    int breadth;\n",
    "};"
   ]
  },
  {
   "cell_type": "markdown",
   "id": "423ab245",
   "metadata": {},
   "source": [
    "This `Rectange` doesn't occupy any space in memory, It will be occupied memory once it is declared or initialized."
   ]
  },
  {
   "cell_type": "code",
   "execution_count": 5,
   "id": "0f2c56b5",
   "metadata": {},
   "outputs": [
    {
     "name": "stdout",
     "output_type": "stream",
     "text": [
      "Rectangle length is 10 and breadth is 5\n",
      "Area of Rectangle is 50"
     ]
    }
   ],
   "source": [
    "// declare the struct\n",
    "struct Rectangle rectangle;\n",
    "rectangle.length = 10;\n",
    "rectangle.breadth = 5;\n",
    "int area = rectangle.length * rectangle.breadth;\n",
    "\n",
    "printf(\"Rectangle length is %d and breadth is %d\\n\", rectangle.length, rectangle.breadth);\n",
    "printf(\"Area of Rectangle is %d\", area);"
   ]
  },
  {
   "cell_type": "code",
   "execution_count": 6,
   "id": "6b69eb6f",
   "metadata": {},
   "outputs": [
    {
     "name": "stdout",
     "output_type": "stream",
     "text": [
      "Rectangle length is 15 and breadth is 10.\n",
      "Area of rectangle is 150."
     ]
    }
   ],
   "source": [
    "// declare and initialize struct\n",
    "struct Rectangle r1 = {15, 10};\n",
    "\n",
    "printf(\"Rectangle length is %d and breadth is %d.\\n\", r1.length, r1.breadth);\n",
    "printf(\"Area of rectangle is %d.\", r1.length*r1.breadth);"
   ]
  },
  {
   "cell_type": "markdown",
   "id": "66085552",
   "metadata": {},
   "source": [
    "### Struct Examples"
   ]
  },
  {
   "cell_type": "code",
   "execution_count": 7,
   "id": "89d75af3",
   "metadata": {},
   "outputs": [],
   "source": [
    "// Complex number is \"a + bi\" where i = √(−1)\n",
    "struct Complex { \n",
    "    int realPart;\n",
    "    int imaginaryPart;\n",
    "};"
   ]
  },
  {
   "cell_type": "code",
   "execution_count": 8,
   "id": "a6e29955",
   "metadata": {},
   "outputs": [
    {
     "name": "stdout",
     "output_type": "stream",
     "text": [
      "Department is CSE"
     ]
    }
   ],
   "source": [
    "struct Student {\n",
    "    int rollNumber;\n",
    "    char name[50];\n",
    "    char department[10];\n",
    "    char address[50];\n",
    "};\n",
    "\n",
    "struct Student Rohit = {15, \"Rohit\", \"CSE\", \"Dhaka\"};\n",
    "printf(\"Department is %s\", Rohit.department);"
   ]
  },
  {
   "cell_type": "code",
   "execution_count": 9,
   "id": "f88bbd79",
   "metadata": {},
   "outputs": [
    {
     "name": "stdout",
     "output_type": "stream",
     "text": [
      "Face is 0\n",
      "Shape is 1\n",
      "Color is 0"
     ]
    }
   ],
   "source": [
    "struct Card {\n",
    "    int face;\n",
    "    int shape;\n",
    "    int color;\n",
    "};\n",
    "\n",
    "struct Card deck = {1, 0, 0};\n",
    "\n",
    "// deck of cards\n",
    "struct Card decks[1];\n",
    "decks[0] = {1, 0, 0};\n",
    "\n",
    "struct Card decks2[2] = {{1, 0, 0}, {0, 1, 0}};\n",
    "printf(\"Face is %d\\n\", decks2[1].face);\n",
    "printf(\"Shape is %d\\n\", decks2[1].shape);\n",
    "printf(\"Color is %d\", decks2[1].color);"
   ]
  },
  {
   "cell_type": "markdown",
   "id": "596d16ab",
   "metadata": {},
   "source": [
    "## Pointers\n",
    "\n",
    "Pointer is an address variable that is meant for storing address of data not data itself.\n",
    "\n",
    "Programes can directly access `Stack` memory, but can't access `Heap` memory (it is external thing to the program). Pointers can access `Heap` memory. Pointer access external things through.\n",
    "\n",
    "* Accessing Heap meory\n",
    "* Parameter passing\n",
    "* Accessing external resources (keyboard, mouse)\n",
    "\n",
    "![pointers](https://i.ibb.co/2jC883t/image.png)"
   ]
  },
  {
   "cell_type": "code",
   "execution_count": 10,
   "id": "e8ce3087",
   "metadata": {},
   "outputs": [
    {
     "name": "stdout",
     "output_type": "stream",
     "text": [
      "10\n",
      "0x7fc201b05130\n",
      "10\n",
      "0x7fc201b05130"
     ]
    },
    {
     "data": {
      "text/plain": [
       "14"
      ]
     },
     "execution_count": 10,
     "metadata": {},
     "output_type": "execute_result"
    }
   ],
   "source": [
    "// initialize a variable\n",
    "int a = 10;\n",
    "\n",
    "// address or pointer variable\n",
    "int *p; // declare of pointer variable\n",
    "p = &a; // initialize of pointer variable\n",
    "\n",
    "printf(\"%d\\n\", a); // 10\n",
    "printf(\"%p\\n\", p); // a's memory location\n",
    "printf(\"%d\\n\", *p); // 10 (*p is also called dereferencing)\n",
    "printf(\"%p\", &a); // memory location of a"
   ]
  },
  {
   "cell_type": "markdown",
   "id": "7c4919e3",
   "metadata": {},
   "source": [
    "### Acessing heap memory through pointer\n",
    "\n",
    "![accessing-heap](https://i.ibb.co/pXmMzCN/image.png)"
   ]
  },
  {
   "cell_type": "code",
   "execution_count": 11,
   "id": "989f4105",
   "metadata": {},
   "outputs": [
    {
     "data": {
      "text/plain": [
       "@0x7ffcdb8b3ab8"
      ]
     },
     "execution_count": 11,
     "metadata": {},
     "output_type": "execute_result"
    }
   ],
   "source": [
    "#include <stdlib.h>\n",
    "\n",
    "int *p, *pp;\n",
    "p = (int *)malloc(5 * sizeof(int)); // c\n",
    "pp = new int[5]; // c++"
   ]
  },
  {
   "cell_type": "markdown",
   "id": "094bb85f",
   "metadata": {},
   "source": [
    "## Reference (C++)\n",
    "\n",
    "Reference is an alias name of a variable; they both point to the same variable.\n",
    "\n",
    "![reference](https://i.ibb.co/6Pm9hsN/image.png)"
   ]
  },
  {
   "cell_type": "code",
   "execution_count": 12,
   "id": "2f793e85",
   "metadata": {},
   "outputs": [
    {
     "name": "stdout",
     "output_type": "stream",
     "text": [
      "a is 10, r is 10, p is 10\n",
      "r is 11\n",
      "a is 11"
     ]
    }
   ],
   "source": [
    "#include <iostream>\n",
    "using namespace std;\n",
    "\n",
    "int a = 10;\n",
    "int &r = a; // reference\n",
    "int *p = &a; // pointer\n",
    "\n",
    "cout << \"a is \" << a <<\", r is \" << r << \", p is \" << *p << \"\\n\";\n",
    "r += 1;\n",
    "cout << \"r is \" << r << \"\\n\";\n",
    "cout << \"a is \" << a;"
   ]
  },
  {
   "cell_type": "markdown",
   "id": "88b7248d",
   "metadata": {},
   "source": [
    "## Pointers to a structure"
   ]
  },
  {
   "cell_type": "code",
   "execution_count": 13,
   "id": "957d1bd3",
   "metadata": {},
   "outputs": [
    {
     "name": "stdout",
     "output_type": "stream",
     "text": [
      "10\n",
      "10"
     ]
    }
   ],
   "source": [
    "// pointer takes 4 bytes of memory\n",
    "struct Rectangle {\n",
    "    int length;\n",
    "    int breadth;\n",
    "};\n",
    "\n",
    "// static \n",
    "struct Rectangle rectangle = {10, 20};\n",
    "struct Rectangle *p = &rectangle;\n",
    "\n",
    "printf(\"%d\\n\", p->length);\n",
    "printf(\"%d\", (*p).length);"
   ]
  },
  {
   "cell_type": "code",
   "execution_count": 14,
   "id": "db43422d",
   "metadata": {},
   "outputs": [
    {
     "name": "stdout",
     "output_type": "stream",
     "text": [
      "60"
     ]
    }
   ],
   "source": [
    "// dynamic\n",
    "struct Rectangle *p;\n",
    "p = (struct Rectangle *)malloc(sizeof(struct Rectangle));\n",
    "p -> length = 50;\n",
    "p -> breadth = 60;\n",
    "\n",
    "printf(\"%d\", p->breadth);"
   ]
  },
  {
   "cell_type": "markdown",
   "id": "c5383ac8",
   "metadata": {},
   "source": [
    "## Functions\n",
    "\n",
    "Function is a piece of code that performs a specfic task.\n",
    "\n",
    "* Pass by value\n",
    "    * value is copied to the parameter, any changes of copied variables won't be reflected to the original variables.\n",
    "* Pass by reference\n",
    "    * Doesn't take extra memory.\n",
    "* Pass by address\n",
    "    * it takes memory."
   ]
  },
  {
   "cell_type": "code",
   "execution_count": 15,
   "id": "83a6935e",
   "metadata": {},
   "outputs": [
    {
     "name": "stdout",
     "output_type": "stream",
     "text": [
      "Sum is 30"
     ]
    }
   ],
   "source": [
    "int add (int a, int b) { // a,b are called parameters (formal parameters)\n",
    "    int c = a + b;\n",
    "    return c;\n",
    "}\n",
    "\n",
    "int x = 10;\n",
    "int y = 20;\n",
    "int z = add(x, y); // x,y are called arguments (actual parameters)\n",
    "printf(\"Sum is %d\", z);"
   ]
  },
  {
   "cell_type": "markdown",
   "id": "7f15fd75",
   "metadata": {},
   "source": [
    "### Pass by value\n",
    "\n",
    "![pass-by-value](https://i.ibb.co/Htvph5S/image.png)"
   ]
  },
  {
   "cell_type": "code",
   "execution_count": 16,
   "id": "f2b87ffe",
   "metadata": {},
   "outputs": [
    {
     "name": "stdout",
     "output_type": "stream",
     "text": [
      "10 20"
     ]
    }
   ],
   "source": [
    "void swap(int x, int y) {\n",
    "    int temp;\n",
    "    temp = x;\n",
    "    x = y;\n",
    "    y = temp;\n",
    "}\n",
    "\n",
    "int a = 10, b = 20;\n",
    "swap(a, b);\n",
    "printf(\"%d %d\", a, b);"
   ]
  },
  {
   "cell_type": "markdown",
   "id": "94224ca3",
   "metadata": {},
   "source": [
    "### Pass by address"
   ]
  },
  {
   "cell_type": "code",
   "execution_count": 17,
   "id": "4578660c",
   "metadata": {},
   "outputs": [
    {
     "name": "stdout",
     "output_type": "stream",
     "text": [
      "20 10"
     ]
    }
   ],
   "source": [
    "void swap1(int *x, int *y) { // receiving\n",
    "    int temp;\n",
    "    temp = *x;\n",
    "    *x = *y;\n",
    "    *y = temp;\n",
    "}\n",
    "\n",
    "int a = 10, b = 20;\n",
    "swap1(&a, &b); // sending address\n",
    "printf(\"%d %d\", a, b);"
   ]
  },
  {
   "cell_type": "markdown",
   "id": "b66367a9",
   "metadata": {},
   "source": [
    "### Pass by reference\n",
    "\n",
    "One function can't access to other function variables, but in call by reference `swap2` isn't another function. \n",
    "It is a part of `main` function. It is best suitable for small functions not for complex logical function...\n",
    "\n",
    "![call-by-reference](https://i.ibb.co/B3XLLgB/image.png)"
   ]
  },
  {
   "cell_type": "code",
   "execution_count": 18,
   "id": "4a04a409",
   "metadata": {},
   "outputs": [
    {
     "name": "stdout",
     "output_type": "stream",
     "text": [
      "20 10"
     ]
    }
   ],
   "source": [
    "void swap2(int &x, int &y){\n",
    "    int temp;\n",
    "    temp = x;\n",
    "    x = y;\n",
    "    y = temp;\n",
    "}\n",
    "\n",
    "int a = 10, b = 20;\n",
    "swap2(a, b);\n",
    "cout << a << \" \" << b;"
   ]
  },
  {
   "cell_type": "markdown",
   "id": "290d923e",
   "metadata": {},
   "source": [
    "### Array as a parameter\n",
    "\n",
    "Array is passed only `call/pass by pointer`. So we can write it as `int A[]` or `int *A`. But `int *A` can point to anything, so it's better to use `int A[]`, while passing array as parameter."
   ]
  },
  {
   "cell_type": "code",
   "execution_count": 19,
   "id": "bd501088",
   "metadata": {},
   "outputs": [
    {
     "name": "stdout",
     "output_type": "stream",
     "text": [
      "2 3 4 5 6 "
     ]
    }
   ],
   "source": [
    "void func(int A[], int n) {\n",
    "    for(int i = 0; i < n; i++) {\n",
    "        printf(\"%d \", A[i]);\n",
    "    }\n",
    "}\n",
    "\n",
    "int A[5] = {2, 3, 4, 5, 6};\n",
    "int n = 5;\n",
    "func(A, n);"
   ]
  },
  {
   "cell_type": "code",
   "execution_count": 20,
   "id": "798511f6",
   "metadata": {},
   "outputs": [
    {
     "name": "stdout",
     "output_type": "stream",
     "text": [
      "25 3 4 5 6 "
     ]
    }
   ],
   "source": [
    "// it is also possible to modify the index value of arrays since it is called by pointer\n",
    "void func2(int *A, int n) {\n",
    "    A[0] = 25;\n",
    "}\n",
    "\n",
    "int A[5] = {2, 3, 4, 5, 6};\n",
    "int n = 5;\n",
    "func2(A, n);\n",
    "\n",
    "for (int i = 0; i < 5; i++){\n",
    "    printf(\"%d \", A[i]);\n",
    "}"
   ]
  },
  {
   "cell_type": "markdown",
   "id": "505149e8",
   "metadata": {},
   "source": [
    "### Return array from Function\n",
    "\n",
    "![return-array](https://i.ibb.co/3vg2s5y/image.png)"
   ]
  },
  {
   "cell_type": "code",
   "execution_count": 21,
   "id": "0fc3c1e8",
   "metadata": {},
   "outputs": [
    {
     "name": "stdout",
     "output_type": "stream",
     "text": [
      "5 2 99 8 100 "
     ]
    }
   ],
   "source": [
    "int *func3 (int n) {\n",
    "    int *arrays = new int[n];\n",
    "    return arrays;\n",
    "}\n",
    "\n",
    "int *p = func3(5);\n",
    "p[0] = 5;\n",
    "p[1] = 2;\n",
    "p[3] = 8;\n",
    "p[2] = 99;\n",
    "p[4] = 100;\n",
    "\n",
    "for (int i = 0; i < 5; i++) {\n",
    "    printf(\"%d \", p[i]);\n",
    "}"
   ]
  },
  {
   "cell_type": "markdown",
   "id": "cfb1b141",
   "metadata": {},
   "source": [
    "### Struct as a Parameter\n",
    "\n",
    "We can pass `struct` as a parameter in 3 different ways. \n",
    "\n",
    "* call by value\n",
    "* call by address\n",
    "* call by reference (c++)\n",
    "\n",
    "Normal array we can't pass by value but struct array we can pass by value."
   ]
  },
  {
   "cell_type": "code",
   "execution_count": 22,
   "id": "3da09997",
   "metadata": {},
   "outputs": [],
   "source": [
    "struct Rectangle {\n",
    "    int length;\n",
    "    int breadth;\n",
    "};"
   ]
  },
  {
   "cell_type": "code",
   "execution_count": 23,
   "id": "4cd711e4",
   "metadata": {},
   "outputs": [],
   "source": [
    "// pass by reference\n",
    "void constructor(struct Rectangle &r, int length, int breadth){\n",
    "    r.length = length;\n",
    "    r.breadth = breadth;\n",
    "}"
   ]
  },
  {
   "cell_type": "code",
   "execution_count": 24,
   "id": "2da30b41",
   "metadata": {},
   "outputs": [],
   "source": [
    "// pass by value\n",
    "int area(struct Rectangle r) {\n",
    "    return r.length * r.breadth;\n",
    "}"
   ]
  },
  {
   "cell_type": "code",
   "execution_count": 25,
   "id": "12b505da",
   "metadata": {},
   "outputs": [
    {
     "name": "stdout",
     "output_type": "stream",
     "text": [
      "Area is 50\n",
      "55 5"
     ]
    }
   ],
   "source": [
    "// pass by address\n",
    "void changeLength(struct Rectangle *r, int length) {\n",
    "    r -> length = length;\n",
    "}\n",
    "\n",
    "struct Rectangle r1;\n",
    "constructor(r1, 10, 5);\n",
    "int rarea = area(r1);\n",
    "changeLength(&r1, 55);\n",
    "\n",
    "printf(\"Area is %d\\n\", rarea);\n",
    "printf(\"%d %d\", r1.length, r1.breadth);"
   ]
  },
  {
   "cell_type": "markdown",
   "id": "7c27ad9f",
   "metadata": {},
   "source": [
    "## Class and Constructor"
   ]
  },
  {
   "cell_type": "code",
   "execution_count": 26,
   "id": "cbaf0409",
   "metadata": {},
   "outputs": [],
   "source": [
    "class Rectangle2 {\n",
    "    private:\n",
    "        int length;\n",
    "        int breadth;\n",
    "    \n",
    "    public:\n",
    "        Rectangle2(int l, int b) {\n",
    "            length = l;\n",
    "            breadth = b;\n",
    "        }\n",
    "        \n",
    "        int area() {\n",
    "            return length*breadth;\n",
    "        }\n",
    "        \n",
    "        void changeLength(int l) {\n",
    "            length = l;\n",
    "        }\n",
    "    \n",
    "        int getLength(){\n",
    "            return length;\n",
    "        }\n",
    "    \n",
    "        int getBreadth() {\n",
    "            return breadth;\n",
    "        }\n",
    "}"
   ]
  },
  {
   "cell_type": "code",
   "execution_count": 27,
   "id": "4c71133a",
   "metadata": {},
   "outputs": [
    {
     "name": "stdout",
     "output_type": "stream",
     "text": [
      "Area is 50\n",
      "55 5"
     ]
    }
   ],
   "source": [
    "Rectangle2 r(10, 5);\n",
    "\n",
    "int rarea = r.area();\n",
    "r.changeLength(55);\n",
    "\n",
    "cout << \"Area is \" << rarea << \"\\n\";\n",
    "cout << r.getLength() << \" \" << r.getBreadth();"
   ]
  },
  {
   "cell_type": "markdown",
   "id": "8e0ca425",
   "metadata": {},
   "source": [
    "## C++ Templates"
   ]
  },
  {
   "cell_type": "code",
   "execution_count": 28,
   "id": "b9c3683b",
   "metadata": {},
   "outputs": [],
   "source": [
    "template <class T>\n",
    "class Arithmetic {\n",
    "    private:\n",
    "        T a;\n",
    "        T b;\n",
    "    \n",
    "    public:\n",
    "        Arithmetic(T a, T b) {\n",
    "            this -> a = a;\n",
    "            this -> b = b;\n",
    "        }\n",
    "\n",
    "        T add() {\n",
    "            return a + b;\n",
    "        }\n",
    "\n",
    "        T sub() {\n",
    "            return b - a;\n",
    "        }\n",
    "};"
   ]
  },
  {
   "cell_type": "code",
   "execution_count": 29,
   "id": "5bd43928",
   "metadata": {},
   "outputs": [
    {
     "name": "stdout",
     "output_type": "stream",
     "text": [
      "30\n",
      "10"
     ]
    }
   ],
   "source": [
    "Arithmetic<int> ar(10, 20);\n",
    "cout << ar.add() << \"\\n\";\n",
    "cout << ar.sub();"
   ]
  },
  {
   "cell_type": "code",
   "execution_count": 30,
   "id": "471465a2",
   "metadata": {},
   "outputs": [
    {
     "name": "stdout",
     "output_type": "stream",
     "text": [
      "30.13\n",
      "10.03"
     ]
    }
   ],
   "source": [
    "Arithmetic<float> ar(10.05, 20.08);\n",
    "cout << ar.add() << \"\\n\";\n",
    "cout << ar.sub();"
   ]
  },
  {
   "cell_type": "markdown",
   "id": "6e76fadd",
   "metadata": {},
   "source": [
    "# Introduction\n",
    "\n",
    "Memory is divied into addressable unit that is called bytes. Every byte has its address. Primary/main memory is divided part by part and each part is called segment. \n",
    "\n",
    "## Static vs Dynamic Memory Allocation\n",
    "\n",
    "```cpp\n",
    "void main() {\n",
    "    int a; // take 2 bytes\n",
    "    float b; // take 4 bytes\n",
    "}\n",
    "```\n",
    "\n",
    "![static-memory](https://files.catbox.moe/s6zxo9.png)\n",
    "\n",
    "Program uses main memory by dividing 3 sections.\n",
    "\n",
    "* Code Section\n",
    "* Stack\n",
    "* Heap\n",
    "\n",
    "### How does Stack memory work?\n",
    "\n",
    "Stack is an organized memory.\n",
    "\n",
    "```cpp\n",
    "void fun2(int i) {\n",
    "    int a;\n",
    "}\n",
    "\n",
    "void fun1() {\n",
    "    int x;\n",
    "    fun2(x);\n",
    "}\n",
    "\n",
    "void main() {\n",
    "    int a;\n",
    "    float b;\n",
    "    func1();\n",
    "}\n",
    "```\n",
    "\n",
    "![stack-tracing](https://files.catbox.moe/3mysnl.png)\n",
    "\n",
    "### How does Heap memory work?\n",
    "\n",
    "Heap may be organised memory or unorganised memory.\n",
    "\n",
    "Heap must be treated as a resource i. e when it is needed, we must use it and when not needed, free it so that it can be used by other applications.\n",
    "\n",
    "```cpp\n",
    "void main() {\n",
    "    int *p;\n",
    "    p = new int[5]; // c++\n",
    "    p = (int*)malloc(size*5); // c\n",
    "    \n",
    "    // delete/free the memory\n",
    "    delete []p; // if p is an array\n",
    "    p = null;\n",
    "}\n",
    "```\n",
    "\n",
    "![heap](https://i.ibb.co.com/DpSDx8R/image.png)\n",
    "\n",
    "## Abstract Data Type\n",
    "\n",
    "ADT means hiding the internal details, only showing essential information.\n",
    "\n",
    "Data type defined as:\n",
    "\n",
    "* Representation of data\n",
    "* Operation on data\n",
    "\n",
    "![representation and operation](https://i.ibb.co.com/5WVnwHq/image.png)"
   ]
  }
 ],
 "metadata": {
  "kernelspec": {
   "display_name": "C++11",
   "language": "C++11",
   "name": "xeus-cling-cpp11"
  },
  "language_info": {
   "codemirror_mode": "text/x-c++src",
   "file_extension": ".cpp",
   "mimetype": "text/x-c++src",
   "name": "c++",
   "version": "11"
  }
 },
 "nbformat": 4,
 "nbformat_minor": 5
}
