{
 "cells": [
  {
   "attachments": {},
   "cell_type": "markdown",
   "metadata": {},
   "source": [
    "Conference - [“Python worst Practices AKA Anti-Patterns” by Pratibha Jagnere](https://www.youtube.com/watch?v=fImJ6BkzJqc)"
   ]
  },
  {
   "cell_type": "markdown",
   "metadata": {},
   "source": [
    "### What is an anti-pattern?\n",
    "\n",
    "An antipattern is a solution that initially looks like an attractive road to lined with flowers but further on leads you into a maze filled with monsters."
   ]
  },
  {
   "cell_type": "code",
   "execution_count": 1,
   "metadata": {},
   "outputs": [
    {
     "name": "stdout",
     "output_type": "stream",
     "text": [
      "This list doesnt contain the magic number\n",
      "This list doesnt contain the magic number\n",
      "This list contains the magic number\n",
      "This list doesnt contain the magic number\n",
      "This list doesnt contain the magic number\n"
     ]
    }
   ],
   "source": [
    "# else clause on loop without a break statement\n",
    "\n",
    "def contains_magic_number(listOfNumbers, magic_number):\n",
    "    for num in listOfNumbers:\n",
    "        if num == magic_number:\n",
    "            print('This list contains the magic number')\n",
    "        else:\n",
    "            print('This list doesnt contain the magic number')\n",
    "\n",
    "contains_magic_number(range(5), 2)"
   ]
  },
  {
   "cell_type": "code",
   "execution_count": 2,
   "metadata": {},
   "outputs": [
    {
     "name": "stdout",
     "output_type": "stream",
     "text": [
      "This list contains the magic number\n"
     ]
    }
   ],
   "source": [
    "# Good Practice\n",
    "\n",
    "def contains_magic_number(listOfNumbers, magic_number):\n",
    "    for num in listOfNumbers:\n",
    "        if num == magic_number:\n",
    "            print('This list contains the magic number')\n",
    "            break\n",
    "    else:\n",
    "        print('This list doesnt contain the magic number')\n",
    "\n",
    "contains_magic_number(range(5), 2)"
   ]
  },
  {
   "cell_type": "code",
   "execution_count": 3,
   "metadata": {},
   "outputs": [
    {
     "name": "stdout",
     "output_type": "stream",
     "text": [
      "4\n",
      "4\n"
     ]
    }
   ],
   "source": [
    "# Assigning a lambda expression to a variable\n",
    "\n",
    "# Bad Practice\n",
    "doubleByLambda = lambda x: x*x\n",
    "print(doubleByLambda(2))\n",
    "\n",
    " # Good\n",
    "def doubleByFunction(num): \n",
    "    return num * num\n",
    "print(doubleByFunction(2))"
   ]
  },
  {
   "cell_type": "code",
   "execution_count": 4,
   "metadata": {},
   "outputs": [
    {
     "name": "stdout",
     "output_type": "stream",
     "text": [
      "{'list': ['item']}\n",
      "{'list': ['5', 'item']}\n"
     ]
    }
   ],
   "source": [
    "# not using a setdefault() to initialize a dictionary\n",
    "\n",
    "# Bad Practice\n",
    "dictionary = {}\n",
    "\n",
    "if 'list' not in dictionary:\n",
    "    dictionary['list'] = []\n",
    "\n",
    "dictionary['list'].append('item')\n",
    "print(dictionary) # {'list': ['item']}\n",
    "\n",
    "# using setdefault()\n",
    "dictionary_ = {'list': ['5']}\n",
    "dictionary_.setdefault('list', []).append('item')\n",
    "print(dictionary_)"
   ]
  },
  {
   "cell_type": "code",
   "execution_count": 5,
   "metadata": {},
   "outputs": [
    {
     "name": "stdout",
     "output_type": "stream",
     "text": [
      "Hello,World\n"
     ]
    }
   ],
   "source": [
    "# not using a `get()` to return a default value from a dict\n",
    "\n",
    "# Bad Practice\n",
    "dictionary = {\n",
    "    'message': 'Hello,World',\n",
    "}\n",
    "data = 'Not Found'\n",
    "\n",
    "if 'message' in dictionary.keys():\n",
    "    data = dictionary['message']\n",
    "print(data)"
   ]
  },
  {
   "cell_type": "code",
   "execution_count": 6,
   "metadata": {},
   "outputs": [
    {
     "name": "stdout",
     "output_type": "stream",
     "text": [
      "Hello,World\n"
     ]
    }
   ],
   "source": [
    "dictionary_ = {\n",
    "    'message': 'Hello,World',\n",
    "}\n",
    "\n",
    "data = dictionary_.get('message', 'Not Found')\n",
    "print(data)"
   ]
  },
  {
   "cell_type": "code",
   "execution_count": 7,
   "metadata": {},
   "outputs": [
    {
     "name": "stdout",
     "output_type": "stream",
     "text": [
      "5.0\n"
     ]
    }
   ],
   "source": [
    "# No exception type(s) specified\n",
    "\n",
    "# Bad Practice\n",
    "def divideNumber(a, b): \n",
    "    try:\n",
    "        result = a / b\n",
    "    except:\n",
    "        result = 0\n",
    "\n",
    "    return result\n",
    "\n",
    "print(divideNumber(10,2))"
   ]
  },
  {
   "cell_type": "code",
   "execution_count": 8,
   "metadata": {},
   "outputs": [
    {
     "name": "stdout",
     "output_type": "stream",
     "text": [
      "integer division or modulo by zero\n"
     ]
    }
   ],
   "source": [
    "# Good Practice\n",
    "\n",
    "def divideNumber(a, b):\n",
    "    try:\n",
    "        result = a // b\n",
    "    except (TypeError, ZeroDivisionError) as e:\n",
    "        result = e\n",
    "    except Exception as e:\n",
    "        result = e\n",
    "    return result\n",
    "\n",
    "print(divideNumber(10, 0))"
   ]
  },
  {
   "cell_type": "code",
   "execution_count": 9,
   "metadata": {},
   "outputs": [
    {
     "name": "stdout",
     "output_type": "stream",
     "text": [
      "[4, 2, 5]\n",
      "[50]\n"
     ]
    }
   ],
   "source": [
    "# mutuable default value\n",
    "\n",
    "def append(number, number_list=None):\n",
    "    if number_list is not None:\n",
    "        number_list = list(number_list)\n",
    "    else:\n",
    "        number_list = []\n",
    "\n",
    "    number_list.append(number)\n",
    "    return number_list\n",
    "\n",
    "print(append(5, (4, 2,)))\n",
    "print(append(50))"
   ]
  },
  {
   "cell_type": "code",
   "execution_count": 10,
   "metadata": {},
   "outputs": [],
   "source": [
    "# using wildcard imports (from ... import *)\n",
    "\n",
    "# bad\n",
    "from math import *\n",
    "\n",
    "# good\n",
    "from random import randrange\n",
    "import numpy as np"
   ]
  },
  {
   "cell_type": "code",
   "execution_count": 11,
   "metadata": {},
   "outputs": [
    {
     "name": "stdout",
     "output_type": "stream",
     "text": [
      "None\n"
     ]
    }
   ],
   "source": [
    "# returning more than one variable type from function call\n",
    "\n",
    "# Bad Practice\n",
    "def get_secret_code(password):\n",
    "    if password != 'Bicycle':\n",
    "        return None\n",
    "    return 'Matched'\n",
    "\n",
    "print(get_secret_code('Tomato'))"
   ]
  },
  {
   "cell_type": "code",
   "execution_count": 12,
   "metadata": {},
   "outputs": [
    {
     "ename": "ValueError",
     "evalue": "Not Matched",
     "output_type": "error",
     "traceback": [
      "\u001b[0;31m---------------------------------------------------------------------------\u001b[0m",
      "\u001b[0;31mValueError\u001b[0m                                Traceback (most recent call last)",
      "\u001b[0;32m/tmp/ipykernel_721/1134894572.py\u001b[0m in \u001b[0;36m<cell line: 7>\u001b[0;34m()\u001b[0m\n\u001b[1;32m      5\u001b[0m     \u001b[0;32mreturn\u001b[0m \u001b[0;34m'Matched'\u001b[0m\u001b[0;34m\u001b[0m\u001b[0;34m\u001b[0m\u001b[0m\n\u001b[1;32m      6\u001b[0m \u001b[0;34m\u001b[0m\u001b[0m\n\u001b[0;32m----> 7\u001b[0;31m \u001b[0mprint\u001b[0m\u001b[0;34m(\u001b[0m\u001b[0mget_secret_code\u001b[0m\u001b[0;34m(\u001b[0m\u001b[0;34m'Tomato'\u001b[0m\u001b[0;34m)\u001b[0m\u001b[0;34m)\u001b[0m\u001b[0;34m\u001b[0m\u001b[0;34m\u001b[0m\u001b[0m\n\u001b[0m",
      "\u001b[0;32m/tmp/ipykernel_721/1134894572.py\u001b[0m in \u001b[0;36mget_secret_code\u001b[0;34m(password)\u001b[0m\n\u001b[1;32m      2\u001b[0m \u001b[0;32mdef\u001b[0m \u001b[0mget_secret_code\u001b[0m\u001b[0;34m(\u001b[0m\u001b[0mpassword\u001b[0m\u001b[0;34m)\u001b[0m\u001b[0;34m:\u001b[0m\u001b[0;34m\u001b[0m\u001b[0;34m\u001b[0m\u001b[0m\n\u001b[1;32m      3\u001b[0m     \u001b[0;32mif\u001b[0m \u001b[0mpassword\u001b[0m \u001b[0;34m!=\u001b[0m \u001b[0;34m'Bicycle'\u001b[0m\u001b[0;34m:\u001b[0m\u001b[0;34m\u001b[0m\u001b[0;34m\u001b[0m\u001b[0m\n\u001b[0;32m----> 4\u001b[0;31m         \u001b[0;32mraise\u001b[0m \u001b[0mValueError\u001b[0m\u001b[0;34m(\u001b[0m\u001b[0;34m'Not Matched'\u001b[0m\u001b[0;34m)\u001b[0m\u001b[0;34m\u001b[0m\u001b[0;34m\u001b[0m\u001b[0m\n\u001b[0m\u001b[1;32m      5\u001b[0m     \u001b[0;32mreturn\u001b[0m \u001b[0;34m'Matched'\u001b[0m\u001b[0;34m\u001b[0m\u001b[0;34m\u001b[0m\u001b[0m\n\u001b[1;32m      6\u001b[0m \u001b[0;34m\u001b[0m\u001b[0m\n",
      "\u001b[0;31mValueError\u001b[0m: Not Matched"
     ]
    }
   ],
   "source": [
    "# Good Practice\n",
    "def get_secret_code(password):\n",
    "    if password != 'Bicycle':\n",
    "        raise ValueError('Not Matched')\n",
    "    return 'Matched'\n",
    "\n",
    "print(get_secret_code('Tomato'))"
   ]
  },
  {
   "cell_type": "code",
   "execution_count": 13,
   "metadata": {},
   "outputs": [
    {
     "name": "stdout",
     "output_type": "stream",
     "text": [
      "Thomas is 25 years old\n",
      "Thomas is 25 years old\n"
     ]
    }
   ],
   "source": [
    "# not using dict keys when formating string\n",
    "\n",
    "person = {\n",
    "    'name': 'Thomas',\n",
    "    'age': 25,\n",
    "}\n",
    "\n",
    "print(f\"{person['name']} is {person['age']} years old\")\n",
    "print('{name} is {age} years old'.format(**person))"
   ]
  },
  {
   "cell_type": "code",
   "execution_count": 14,
   "metadata": {},
   "outputs": [
    {
     "name": "stdout",
     "output_type": "stream",
     "text": [
      "useful when True and non-empty list are different\n"
     ]
    }
   ],
   "source": [
    "# comparing things to True the wrong way\n",
    "\n",
    "flag = True\n",
    "\n",
    "# not pep 8's preferred format\n",
    "if flag == True:\n",
    "    pass\n",
    "\n",
    "# good paractice\n",
    "if flag:\n",
    "    pass\n",
    "\n",
    "if flag is True:\n",
    "    print('useful when True and non-empty list are different')"
   ]
  },
  {
   "cell_type": "code",
   "execution_count": 15,
   "metadata": {},
   "outputs": [
    {
     "name": "stdout",
     "output_type": "stream",
     "text": [
      "(1, 'A')\n",
      "(2, 'B')\n",
      "(3, 'C')\n",
      "\n",
      "(1, 'A')\n",
      "(2, 'B')\n",
      "(3, 'C')\n"
     ]
    }
   ],
   "source": [
    "# not using zip() to iterate over a pair of lists\n",
    "\n",
    "numbers = [1, 2, 3]\n",
    "letters = ['A', 'B', 'C']\n",
    "\n",
    "# Bad Practice\n",
    "for index in range(len(numbers)):\n",
    "    print((numbers[index], letters[index]))\n",
    "\n",
    "print()\n",
    "\n",
    "# Good Practice\n",
    "for numbers_value, letters_value in zip(numbers, letters):\n",
    "    print((numbers_value, letters_value))"
   ]
  },
  {
   "cell_type": "code",
   "execution_count": 16,
   "metadata": {},
   "outputs": [
    {
     "name": "stdout",
     "output_type": "stream",
     "text": [
      "(0, 1)\n",
      "(1, 2)\n",
      "(2, 3)\n",
      "\n",
      "(0, 1)\n",
      "(1, 2)\n",
      "(2, 3)\n"
     ]
    }
   ],
   "source": [
    "# using an unpythonic loop\n",
    "\n",
    "l = [1,2,3]\n",
    "\n",
    "# Bad Practice\n",
    "for i in range(len(l)):\n",
    "    print((i, l[i]))\n",
    "\n",
    "print()\n",
    "\n",
    "# Good Practice\n",
    "for index, value in enumerate(l):\n",
    "    print((index, value))"
   ]
  },
  {
   "cell_type": "code",
   "execution_count": 17,
   "metadata": {},
   "outputs": [
    {
     "name": "stdout",
     "output_type": "stream",
     "text": [
      "His first name is Richard & last name is Johnson\n"
     ]
    }
   ],
   "source": [
    "# not using named tuples\n",
    "\n",
    "def get_name():\n",
    "    return ('Richard', 'Johnson')\n",
    "\n",
    "name = get_name()\n",
    "# no idea what these indexes map to\n",
    "print(f'His first name is {name[0]} & last name is {name[1]}')"
   ]
  },
  {
   "cell_type": "code",
   "execution_count": 18,
   "metadata": {},
   "outputs": [
    {
     "name": "stdout",
     "output_type": "stream",
     "text": [
      "His first name is Richard & last name is Johnson\n"
     ]
    }
   ],
   "source": [
    "from collections import namedtuple\n",
    "\n",
    "def get_name():\n",
    "    name = namedtuple('name', ['first', 'last'])\n",
    "    return name('Richard', 'Johnson')\n",
    "\n",
    "name = get_name()\n",
    "print(f'His first name is {name.first} & last name is {name.last}')"
   ]
  },
  {
   "cell_type": "code",
   "execution_count": 19,
   "metadata": {},
   "outputs": [
    {
     "name": "stdout",
     "output_type": "stream",
     "text": [
      "Found\n"
     ]
    }
   ],
   "source": [
    "# performance\n",
    "\n",
    "# it slower | O(n) time\n",
    "l = [1, 2, 3]\n",
    "x = 'Found' if 3 in l else 'Not Found'\n",
    "print(x)"
   ]
  },
  {
   "cell_type": "code",
   "execution_count": 20,
   "metadata": {},
   "outputs": [
    {
     "name": "stdout",
     "output_type": "stream",
     "text": [
      "Found\n"
     ]
    }
   ],
   "source": [
    "# it faster | O(1) time\n",
    "l = set([1, 2, 3])\n",
    "x = 'Found' if 3 in l else 'Not Found'\n",
    "print(x)"
   ]
  }
 ],
 "metadata": {
  "kernelspec": {
   "display_name": "Python 3 (system-wide)",
   "language": "python",
   "name": "python3"
  },
  "language_info": {
   "codemirror_mode": {
    "name": "ipython",
    "version": 3
   },
   "file_extension": ".py",
   "mimetype": "text/x-python",
   "name": "python",
   "nbconvert_exporter": "python",
   "pygments_lexer": "ipython3",
   "version": "3.8.10"
  }
 },
 "nbformat": 4,
 "nbformat_minor": 2
}
